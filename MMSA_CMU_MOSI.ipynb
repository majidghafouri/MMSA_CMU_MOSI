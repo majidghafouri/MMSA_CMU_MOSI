{
  "nbformat": 4,
  "nbformat_minor": 0,
  "metadata": {
    "colab": {
      "name": "MMSA-CMU-MOSI.ipynb",
      "provenance": [],
      "authorship_tag": "ABX9TyOCV/eNFrtaVloiDqsx9o5w",
      "include_colab_link": true
    },
    "kernelspec": {
      "name": "python3",
      "display_name": "Python 3"
    },
    "language_info": {
      "name": "python"
    }
  },
  "cells": [
    {
      "cell_type": "markdown",
      "metadata": {
        "id": "view-in-github",
        "colab_type": "text"
      },
      "source": [
        "<a href=\"https://colab.research.google.com/github/majidghafouri/MMSA_CMU_MOSI/blob/main/MMSA_CMU_MOSI.ipynb\" target=\"_parent\"><img src=\"https://colab.research.google.com/assets/colab-badge.svg\" alt=\"Open In Colab\"/></a>"
      ]
    },
    {
      "cell_type": "code",
      "execution_count": 13,
      "metadata": {
        "colab": {
          "resources": {
            "http://localhost:8080/nbextensions/google.colab/files.js": {
              "data": "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",
              "ok": true,
              "headers": [
                [
                  "content-type",
                  "application/javascript"
                ]
              ],
              "status": 200,
              "status_text": ""
            }
          },
          "base_uri": "https://localhost:8080/",
          "height": 73
        },
        "id": "3kj9p4MyqTES",
        "outputId": "cda5ea3d-2da6-42e3-b9a2-a6d59b70860d"
      },
      "outputs": [
        {
          "output_type": "display_data",
          "data": {
            "text/plain": [
              "<IPython.core.display.HTML object>"
            ],
            "text/html": [
              "\n",
              "     <input type=\"file\" id=\"files-d9764b2f-b75c-4e41-9b96-6833bd58b502\" name=\"files[]\" multiple disabled\n",
              "        style=\"border:none\" />\n",
              "     <output id=\"result-d9764b2f-b75c-4e41-9b96-6833bd58b502\">\n",
              "      Upload widget is only available when the cell has been executed in the\n",
              "      current browser session. Please rerun this cell to enable.\n",
              "      </output>\n",
              "      <script src=\"/nbextensions/google.colab/files.js\"></script> "
            ]
          },
          "metadata": {}
        },
        {
          "output_type": "stream",
          "name": "stdout",
          "text": [
            "Saving audio.pickle to audio.pickle\n"
          ]
        }
      ],
      "source": [
        "from google.colab import files\n",
        "uploaded=files.upload()"
      ]
    },
    {
      "cell_type": "code",
      "source": [
        "from google.colab import files\n",
        "uploaded=files.upload()"
      ],
      "metadata": {
        "colab": {
          "resources": {
            "http://localhost:8080/nbextensions/google.colab/files.js": {
              "data": "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",
              "ok": true,
              "headers": [
                [
                  "content-type",
                  "application/javascript"
                ]
              ],
              "status": 200,
              "status_text": ""
            }
          },
          "base_uri": "https://localhost:8080/",
          "height": 73
        },
        "id": "XZGdENygvDFD",
        "outputId": "457b7d01-18c6-41b5-f4c3-665a7308a716"
      },
      "execution_count": 14,
      "outputs": [
        {
          "output_type": "display_data",
          "data": {
            "text/plain": [
              "<IPython.core.display.HTML object>"
            ],
            "text/html": [
              "\n",
              "     <input type=\"file\" id=\"files-43834f03-6dfa-425a-b488-17513add8e1e\" name=\"files[]\" multiple disabled\n",
              "        style=\"border:none\" />\n",
              "     <output id=\"result-43834f03-6dfa-425a-b488-17513add8e1e\">\n",
              "      Upload widget is only available when the cell has been executed in the\n",
              "      current browser session. Please rerun this cell to enable.\n",
              "      </output>\n",
              "      <script src=\"/nbextensions/google.colab/files.js\"></script> "
            ]
          },
          "metadata": {}
        },
        {
          "output_type": "stream",
          "name": "stdout",
          "text": [
            "Saving text.pickle to text.pickle\n"
          ]
        }
      ]
    },
    {
      "cell_type": "code",
      "source": [
        "from google.colab import files\n",
        "uploaded=files.upload()"
      ],
      "metadata": {
        "colab": {
          "resources": {
            "http://localhost:8080/nbextensions/google.colab/files.js": {
              "data": "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",
              "ok": true,
              "headers": [
                [
                  "content-type",
                  "application/javascript"
                ]
              ],
              "status": 200,
              "status_text": ""
            }
          },
          "base_uri": "https://localhost:8080/",
          "height": 73
        },
        "id": "LNIHeYDavD7j",
        "outputId": "0de1eb46-b5cd-4e93-ef18-a41e8cbecc5f"
      },
      "execution_count": 16,
      "outputs": [
        {
          "output_type": "display_data",
          "data": {
            "text/plain": [
              "<IPython.core.display.HTML object>"
            ],
            "text/html": [
              "\n",
              "     <input type=\"file\" id=\"files-ede82639-a094-45bc-854a-b48dc01c6adb\" name=\"files[]\" multiple disabled\n",
              "        style=\"border:none\" />\n",
              "     <output id=\"result-ede82639-a094-45bc-854a-b48dc01c6adb\">\n",
              "      Upload widget is only available when the cell has been executed in the\n",
              "      current browser session. Please rerun this cell to enable.\n",
              "      </output>\n",
              "      <script src=\"/nbextensions/google.colab/files.js\"></script> "
            ]
          },
          "metadata": {}
        },
        {
          "output_type": "stream",
          "name": "stdout",
          "text": [
            "Saving video.pickle to video.pickle\n"
          ]
        }
      ]
    },
    {
      "cell_type": "code",
      "source": [
        "from google.colab import files\n",
        "uploaded=files.upload()"
      ],
      "metadata": {
        "colab": {
          "resources": {
            "http://localhost:8080/nbextensions/google.colab/files.js": {
              "data": "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",
              "ok": true,
              "headers": [
                [
                  "content-type",
                  "application/javascript"
                ]
              ],
              "status": 200,
              "status_text": ""
            }
          },
          "base_uri": "https://localhost:8080/",
          "height": 73
        },
        "id": "50rRaaVAxmaC",
        "outputId": "069c3828-f3c0-45dd-f7b4-f3c957bec81c"
      },
      "execution_count": 27,
      "outputs": [
        {
          "output_type": "display_data",
          "data": {
            "text/plain": [
              "<IPython.core.display.HTML object>"
            ],
            "text/html": [
              "\n",
              "     <input type=\"file\" id=\"files-203b0c4a-48fe-4fca-afc8-609be1010033\" name=\"files[]\" multiple disabled\n",
              "        style=\"border:none\" />\n",
              "     <output id=\"result-203b0c4a-48fe-4fca-afc8-609be1010033\">\n",
              "      Upload widget is only available when the cell has been executed in the\n",
              "      current browser session. Please rerun this cell to enable.\n",
              "      </output>\n",
              "      <script src=\"/nbextensions/google.colab/files.js\"></script> "
            ]
          },
          "metadata": {}
        },
        {
          "output_type": "stream",
          "name": "stdout",
          "text": [
            "Saving text_2way.pickle to text_2way.pickle\n"
          ]
        }
      ]
    },
    {
      "cell_type": "code",
      "source": [
        "from google.colab import files\n",
        "uploaded=files.upload()"
      ],
      "metadata": {
        "colab": {
          "resources": {
            "http://localhost:8080/nbextensions/google.colab/files.js": {
              "data": "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",
              "ok": true,
              "headers": [
                [
                  "content-type",
                  "application/javascript"
                ]
              ],
              "status": 200,
              "status_text": ""
            }
          },
          "base_uri": "https://localhost:8080/",
          "height": 73
        },
        "id": "01GV8aioxmmT",
        "outputId": "90d57b60-c7f4-4627-9135-c1f1579b4a7e"
      },
      "execution_count": 28,
      "outputs": [
        {
          "output_type": "display_data",
          "data": {
            "text/plain": [
              "<IPython.core.display.HTML object>"
            ],
            "text/html": [
              "\n",
              "     <input type=\"file\" id=\"files-3d8aae88-0ade-4cd0-8119-d5a58017def4\" name=\"files[]\" multiple disabled\n",
              "        style=\"border:none\" />\n",
              "     <output id=\"result-3d8aae88-0ade-4cd0-8119-d5a58017def4\">\n",
              "      Upload widget is only available when the cell has been executed in the\n",
              "      current browser session. Please rerun this cell to enable.\n",
              "      </output>\n",
              "      <script src=\"/nbextensions/google.colab/files.js\"></script> "
            ]
          },
          "metadata": {}
        },
        {
          "output_type": "stream",
          "name": "stdout",
          "text": [
            "Saving video_2way.pickle to video_2way.pickle\n"
          ]
        }
      ]
    },
    {
      "cell_type": "code",
      "source": [
        "from google.colab import files\n",
        "uploaded=files.upload()"
      ],
      "metadata": {
        "colab": {
          "resources": {
            "http://localhost:8080/nbextensions/google.colab/files.js": {
              "data": "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",
              "ok": true,
              "headers": [
                [
                  "content-type",
                  "application/javascript"
                ]
              ],
              "status": 200,
              "status_text": ""
            }
          },
          "base_uri": "https://localhost:8080/",
          "height": 73
        },
        "id": "yVY6M-g0xmvw",
        "outputId": "4f3042af-d422-4840-8fa4-0f584f1d8b7a"
      },
      "execution_count": 29,
      "outputs": [
        {
          "output_type": "display_data",
          "data": {
            "text/plain": [
              "<IPython.core.display.HTML object>"
            ],
            "text/html": [
              "\n",
              "     <input type=\"file\" id=\"files-08ae64bb-e410-41a8-a4b5-8dabeac1bdc4\" name=\"files[]\" multiple disabled\n",
              "        style=\"border:none\" />\n",
              "     <output id=\"result-08ae64bb-e410-41a8-a4b5-8dabeac1bdc4\">\n",
              "      Upload widget is only available when the cell has been executed in the\n",
              "      current browser session. Please rerun this cell to enable.\n",
              "      </output>\n",
              "      <script src=\"/nbextensions/google.colab/files.js\"></script> "
            ]
          },
          "metadata": {}
        },
        {
          "output_type": "stream",
          "name": "stdout",
          "text": [
            "Saving audio_2way.pickle to audio_2way.pickle\n"
          ]
        }
      ]
    },
    {
      "cell_type": "code",
      "source": [
        "%tensorflow_version 1.x"
      ],
      "metadata": {
        "colab": {
          "base_uri": "https://localhost:8080/"
        },
        "id": "l9tVFfoQ1GAg",
        "outputId": "7679b9d5-e36b-4b57-d15d-4cf49c9707dd"
      },
      "execution_count": 1,
      "outputs": [
        {
          "output_type": "stream",
          "name": "stdout",
          "text": [
            "TensorFlow 1.x selected.\n"
          ]
        }
      ]
    },
    {
      "cell_type": "code",
      "source": [
        "import pickle\n",
        "import sys\n",
        "import keras\n",
        "import tqdm\n",
        "import argparse\n",
        "import numpy as np\n",
        "import tensorflow as tf \n",
        "from tqdm import tqdm\n",
        "from sklearn.metrics import f1_score\n",
        "from tensorflow.python.layers.core import Dense"
      ],
      "metadata": {
        "colab": {
          "base_uri": "https://localhost:8080/"
        },
        "id": "wD5C0BVyrA4o",
        "outputId": "e1104428-b884-43cf-afee-02f9925d053a"
      },
      "execution_count": 2,
      "outputs": [
        {
          "output_type": "stream",
          "name": "stderr",
          "text": [
            "Using TensorFlow backend.\n"
          ]
        }
      ]
    },
    {
      "cell_type": "code",
      "source": [
        "print(tf.__version__)\n"
      ],
      "metadata": {
        "colab": {
          "base_uri": "https://localhost:8080/"
        },
        "id": "xjsiKDHWw_z2",
        "outputId": "b1bb720c-110b-4e35-cd12-7f2a289fc05e"
      },
      "execution_count": 3,
      "outputs": [
        {
          "output_type": "stream",
          "name": "stdout",
          "text": [
            "1.15.2\n"
          ]
        }
      ]
    },
    {
      "cell_type": "code",
      "source": [
        ""
      ],
      "metadata": {
        "id": "PQONMorNxANf"
      },
      "execution_count": 3,
      "outputs": []
    },
    {
      "cell_type": "code",
      "source": [
        "def createOneHot(train_label, test_label):\n",
        "    print(\"train_label shape\", train_label.shape)\n",
        "    print(\"test_label shape\", test_label.shape)\n",
        "    maxlen = int(max(train_label.max(), test_label.max()))\n",
        "    print(train_label.max())\n",
        "    print( test_label.max())\n",
        "    print(\"maxlen\", maxlen)\n",
        "    train = np.zeros((train_label.shape[0], train_label.shape[1], maxlen + 1))\n",
        "    test = np.zeros((test_label.shape[0], test_label.shape[1], maxlen + 1))\n",
        "\n",
        "    for i in range(train_label.shape[0]):\n",
        "        for j in range(train_label.shape[1]):\n",
        "            train[i, j, train_label[i, j]] = 1\n",
        "    print(\"train\", train)\n",
        "    for i in range(test_label.shape[0]):\n",
        "        for j in range(test_label.shape[1]):\n",
        "            test[i, j, test_label[i, j]] = 1\n",
        "    print(\"test\", test)\n",
        "    return train, test"
      ],
      "metadata": {
        "id": "mrSeuXGUrIY8"
      },
      "execution_count": 4,
      "outputs": []
    },
    {
      "cell_type": "code",
      "source": [
        "def batch_iter(data, batch_size, shuffle=True):\n",
        "    \"\"\"\n",
        "    Generates a batch iterator for a dataset.\n",
        "    \"\"\"\n",
        "    data = np.array(data)\n",
        "    data_size = len(data)\n",
        "    num_batches_per_epoch = int((len(data) - 1) / batch_size) + 1\n",
        "    # Shuffle the data at each epoch\n",
        "    if shuffle:\n",
        "        shuffle_indices = np.random.permutation(np.arange(data_size))\n",
        "        shuffled_data = data[shuffle_indices]\n",
        "    else:\n",
        "        shuffled_data = data\n",
        "    for batch_num in range(num_batches_per_epoch):\n",
        "        start_index = batch_num * batch_size\n",
        "        end_index = min((batch_num + 1) * batch_size, data_size)\n",
        "        yield shuffled_data[start_index:end_index]\n"
      ],
      "metadata": {
        "id": "b2cKCyFzrMRm"
      },
      "execution_count": 5,
      "outputs": []
    },
    {
      "cell_type": "code",
      "source": [
        "def get_raw_data(data, classes):\n",
        "    mode = 'audio'\n",
        "    with open('{1}_{2}way.pickle'.format(data, mode, classes), 'rb') as handle:\n",
        "        u = pickle._Unpickler(handle)\n",
        "        u.encoding = 'latin1'\n",
        "        if data == 'mosi':\n",
        "            (audio_train, train_label, audio_test, test_label, _, train_length, test_length) = u.load()\n",
        "    mode = 'text'\n",
        "    with open('{1}_{2}way.pickle'.format(data, mode, classes), 'rb') as handle:\n",
        "        u = pickle._Unpickler(handle)\n",
        "        u.encoding = 'latin1'\n",
        "        if data == 'mosi':\n",
        "            (text_train, train_label, text_test, test_label, _, train_length, test_length) = u.load()\n",
        "        \n",
        "    mode = 'video'\n",
        "    with open('{1}_{2}way.pickle'.format(data, mode, classes), 'rb') as handle:\n",
        "        u = pickle._Unpickler(handle)\n",
        "        u.encoding = 'latin1'\n",
        "        if data == 'mosi':\n",
        "            (video_train, train_label, video_test, test_label, _, train_length, test_length) = u.load()\n",
        "        print(\"DATA\", video_train)\n",
        "        print(\"shape\",video_train.shape)\n",
        "\n",
        "    train_data = np.concatenate((audio_train, video_train, text_train), axis=-1)\n",
        "    test_data = np.concatenate((audio_test, video_test, text_test), axis=-1)\n",
        "\n",
        "    train_label = train_label.astype('int')\n",
        "    test_label = test_label.astype('int')\n",
        "    print(train_data.shape)\n",
        "    print(test_data.shape)\n",
        "    train_mask = np.zeros((train_data.shape[0], train_data.shape[1]), dtype='float')\n",
        "    for i in range(len(train_length)):\n",
        "        train_mask[i, :train_length[i]] = 1.0\n",
        "\n",
        "    test_mask = np.zeros((test_data.shape[0], test_data.shape[1]), dtype='float')\n",
        "    for i in range(len(test_length)):\n",
        "        test_mask[i, :test_length[i]] = 1.0\n",
        "\n",
        "    train_label, test_label = createOneHot(train_label, test_label)\n",
        "\n",
        "    print('train_mask', train_mask.shape)\n",
        "\n",
        "    seqlen_train = train_length\n",
        "    seqlen_test = test_length\n",
        "\n",
        "    return train_data, test_data, audio_train, audio_test, text_train, text_test, video_train, video_test, train_label, test_label, seqlen_train, seqlen_test, train_mask, test_mask"
      ],
      "metadata": {
        "id": "UCGsap0NrWc-"
      },
      "execution_count": 6,
      "outputs": []
    },
    {
      "cell_type": "code",
      "source": [
        "class LSTM_Model():\n",
        "    def __init__(self, input_shape, lr, a_dim, v_dim, t_dim, emotions, attn_fusion=True, unimodal=False,\n",
        "                 enable_attn_2=False, seed=1234):\n",
        "        if unimodal:\n",
        "            self.input = tf.placeholder(dtype=tf.float32, shape=(None, input_shape[0], input_shape[1]))\n",
        "        else:\n",
        "            self.a_input = tf.placeholder(dtype=tf.float32, shape=(None, input_shape[0], a_dim))\n",
        "            self.v_input = tf.placeholder(dtype=tf.float32, shape=(None, input_shape[0], v_dim))\n",
        "            self.t_input = tf.placeholder(dtype=tf.float32, shape=(None, input_shape[0], t_dim))\n",
        "        self.emotions = emotions\n",
        "        self.mask = tf.placeholder(dtype=tf.float32, shape=(None, input_shape[0]))\n",
        "        self.seq_len = tf.placeholder(tf.int32, [None, ], name=\"seq_len\")\n",
        "        self.y = tf.placeholder(tf.int32, [None, input_shape[0], self.emotions], name=\"y\")\n",
        "        self.lr = lr\n",
        "        self.seed = seed\n",
        "        self.attn_fusion = attn_fusion\n",
        "        self.unimodal = unimodal\n",
        "        self.lstm_dropout = tf.placeholder(tf.float32, name=\"lstm_dropout\")\n",
        "        self.dropout = tf.placeholder(tf.float32, name=\"dropout\")\n",
        "        self.lstm_inp_dropout = tf.placeholder(tf.float32, name=\"lstm_inp_dropout\")\n",
        "        self.dropout_lstm_out = tf.placeholder(tf.float32, name=\"dropout_lstm_out\")\n",
        "        self.attn_2 = enable_attn_2\n",
        "\n",
        "        # Build the model\n",
        "        self._build_model_op()\n",
        "        self._initialize_optimizer()\n",
        "\n",
        "    def BiGRU(self, inputs, output_size, name, dropout_keep_rate):\n",
        "        with tf.variable_scope('rnn_' + name, reuse=tf.AUTO_REUSE):\n",
        "            kernel_init = tf.glorot_uniform_initializer(seed=self.seed, dtype=tf.float32)\n",
        "            bias_init = tf.zeros_initializer()\n",
        "\n",
        "#             fw_cell = tf.contrib.rnn.GLSTMCell(output_size, name='gru', reuse=tf.AUTO_REUSE, activation=tf.nn.tanh,\n",
        "#                                              kernel_initializer=kernel_init, bias_initializer=bias_init)\n",
        "#             fw_cell = tf.contrib.rnn.DropoutWrapper(fw_cell, output_keep_prob=dropout_keep_rate)\n",
        "            fw_cell = tf.contrib.rnn.GRUBlockCellV2(output_size, reuse=tf.AUTO_REUSE)\n",
        "            fw_cell = tf.contrib.rnn.DropoutWrapper(fw_cell, output_keep_prob=dropout_keep_rate)\n",
        "            # bw_cell = tf.contrib.rnn.GRUCell(output_size, name='gru', reuse=tf.AUTO_REUSE, activation=tf.nn.tanh,\n",
        "            #                                 kernel_initializer=kernel_init, bias_initializer=bias_init)\n",
        "            # bw_cell = tf.contrib.rnn.DropoutWrapper(bw_cell, output_keep_prob=dropout_keep_rate)\n",
        "\n",
        "            outputs, _ = tf.nn.bidirectional_dynamic_rnn(cell_fw=fw_cell, cell_bw=fw_cell, inputs=inputs,\n",
        "                                                         sequence_length=self.seq_len, dtype=tf.float32)\n",
        "\n",
        "            output_fw, output_bw = outputs\n",
        "            output = tf.concat([output_fw, output_bw], axis=-1)\n",
        "            return output\n",
        "\n",
        "    def self_attention(self, inputs_a, inputs_v, inputs_t, name):\n",
        "        \"\"\"\n",
        "        :param inputs_a: audio input (B, T, dim)\n",
        "        :param inputs_v: video input (B, T, dim)\n",
        "        :param inputs_t: text input (B, T, dim)\n",
        "        :param name: scope name\n",
        "        :return:\n",
        "        \"\"\"\n",
        "\n",
        "        inputs_a = tf.expand_dims(inputs_a, axis=1)\n",
        "        inputs_v = tf.expand_dims(inputs_v, axis=1)\n",
        "        inputs_t = tf.expand_dims(inputs_t, axis=1)\n",
        "        # inputs = (B, 3, T, dim)\n",
        "        inputs = tf.concat([inputs_a, inputs_v, inputs_t], axis=1)\n",
        "        t = inputs.get_shape()[2].value\n",
        "        share_param = True\n",
        "        hidden_size = inputs.shape[-1].value  # D value - hidden size of the RNN layer\n",
        "        kernel_init1 = tf.glorot_uniform_initializer(seed=self.seed, dtype=tf.float32)\n",
        "        # kernel_init2 = tf.random_normal_initializer(seed=self.seed, dtype=tf.float32,stddev=0.01)\n",
        "        # bias_init = tf.zeros_initializer()\n",
        "        dense = Dense(hidden_size, kernel_initializer=kernel_init1)\n",
        "        if share_param:\n",
        "            scope_name = 'self_attn'\n",
        "        else:\n",
        "            scope_name = 'self_attn' + name\n",
        "        # print(scope_name)\n",
        "        inputs = tf.transpose(inputs, [2, 0, 1, 3])\n",
        "        with tf.variable_scope(scope_name):\n",
        "            outputs = []\n",
        "            for x in range(t):\n",
        "                t_x = inputs[x, :, :, :]\n",
        "                # t_x => B, 3, dim\n",
        "                den = True\n",
        "                if den:\n",
        "                    x_proj = dense(t_x)\n",
        "                    x_proj = tf.nn.relu(x_proj)\n",
        "                else:\n",
        "                    x_proj = t_x\n",
        "                u_w = tf.Variable(tf.random_normal([hidden_size, 1], stddev=0.01, seed=1234))\n",
        "                x = tf.tensordot(x_proj, u_w, axes=1)\n",
        "                alphas = tf.nn.softmax(x, axis=-1)\n",
        "                output = tf.matmul(tf.transpose(t_x, [0, 2, 1]), alphas)\n",
        "                output = tf.squeeze(output, -1)\n",
        "                outputs.append(output)\n",
        "\n",
        "            final_output = tf.stack(outputs, axis=1)\n",
        "            # print('final_output', final_output.get_shape())\n",
        "            return final_output\n",
        "\n",
        "    def attention(self, inputs_a, inputs_b, attention_size, params, mask=None, return_alphas=False):\n",
        "        \"\"\"\n",
        "        inputs_a = (b, 18, 100)\n",
        "        inputs_b = (b, 100)\n",
        "        :param inputs_a:\n",
        "        :param inputs_b:\n",
        "        :param attention_size:\n",
        "        :param time_major:\n",
        "        :param return_alphas:\n",
        "        :return:\n",
        "        \"\"\"\n",
        "        if mask is not None:\n",
        "            mask = tf.cast(self.mask, tf.bool)\n",
        "        shared = True\n",
        "        if shared:\n",
        "            scope_name = 'attn'\n",
        "        else:\n",
        "            scope_name = 'attn_'\n",
        "        with tf.variable_scope(scope_name, reuse=tf.AUTO_REUSE):\n",
        "            hidden_size = inputs_a.shape[2].value  # D value - hidden size of the RNN layer\n",
        "            den = False\n",
        "            x_proj = inputs_a\n",
        "            y_proj = inputs_b\n",
        "            # print('x_proj', x_proj.get_shape())\n",
        "            # print('y_proj', y_proj.get_shape())\n",
        "\n",
        "            # Trainable parameters\n",
        "            w_omega = params['w_omega']\n",
        "            b_omega = params['b_omega']\n",
        "            # dense_attention_2 = params['dense']\n",
        "            with tf.variable_scope('v', reuse=tf.AUTO_REUSE):\n",
        "                # Applying fully connected layer with non-linear activation to each of the B*T timestamps;\n",
        "                #  the shape of `v` is (B,T,D)*(D,A)=(B,T,A), where A=attention_size\n",
        "\n",
        "                v = tf.tensordot(x_proj, w_omega, axes=1) + b_omega\n",
        "                # v  = dense_attention_2(x_proj)\n",
        "\n",
        "            # For each of the timestamps its vector of size A from `v` is reduced with `u` vector\n",
        "            vu = tf.tanh(tf.matmul(v, tf.expand_dims(y_proj, -1), name='vu'))  # (B,T) shape (B T A) * (B A 1) = (B T)\n",
        "            vu = tf.squeeze(vu, -1)\n",
        "            # print('vu', vu.get_shape())\n",
        "            # masking\n",
        "            # mask = None\n",
        "            if mask is not None:\n",
        "                vu = tf.where(mask, vu, tf.zeros(tf.shape(vu), dtype=tf.float32))\n",
        "\n",
        "            alphas = tf.nn.softmax(vu, 1, name='alphas')  # (B,T) shape\n",
        "            if mask is not None:\n",
        "                alphas = tf.where(mask, alphas, tf.zeros(tf.shape(alphas), dtype=tf.float32))\n",
        "                a = tf.reduce_sum(tf.expand_dims(alphas, -1), axis=1)\n",
        "                condition = tf.equal(a, 0.0)\n",
        "                case_true = tf.ones(tf.shape(a), tf.float32)\n",
        "                a_m = tf.where(condition, case_true, a)\n",
        "                alphas = tf.divide(alphas, a_m)\n",
        "\n",
        "            # print('alphas', alphas.get_shape())\n",
        "\n",
        "            # Output of (Bi-)RNN is reduced with attention vector; the result has (B,D) shape\n",
        "            output = tf.matmul(tf.transpose(inputs_a, [0, 2, 1]), tf.expand_dims(alphas, -1))\n",
        "            output = tf.squeeze(output, -1)\n",
        "            # print('r', output.get_shape())\n",
        "            # output = tf.reduce_sum(r, 1)\n",
        "\n",
        "            if not return_alphas:\n",
        "                return tf.expand_dims(output, 1)\n",
        "            else:\n",
        "                return tf.expand_dims(output, 1), alphas\n",
        "\n",
        "    def self_attention_2(self, inputs, name):\n",
        "        \"\"\"\n",
        "        :param inputs_a: audio input (B, T, dim)\n",
        "        :param inputs_v: video input (B, T, dim)\n",
        "        :param inputs_t: text input (B, T, dim)\n",
        "        :param name: scope name\n",
        "        :return:\n",
        "        \"\"\"\n",
        "\n",
        "        t = inputs.get_shape()[1].value\n",
        "        share_param = True\n",
        "        hidden_size = inputs.shape[-1].value  # D value - hidden size of the RNN layer\n",
        "        if share_param:\n",
        "            scope_name = 'self_attn_2'\n",
        "        else:\n",
        "            scope_name = 'self_attn_2' + name\n",
        "        # print(scope_name)\n",
        "        # inputs = tf.transpose(inputs, [2, 0, 1, 3])\n",
        "        # dense = Dense(hidden_size)\n",
        "        # init1 = tf.random_normal_initializer(seed=self.seed, dtype=tf.float32,stddev=0.01)\n",
        "        attention_size = hidden_size\n",
        "        w_omega = tf.Variable(tf.random_normal([hidden_size, attention_size], stddev=0.01, seed=self.seed))\n",
        "        b_omega = tf.Variable(tf.random_normal([attention_size], stddev=0.01, seed=self.seed))\n",
        "        # dense_attention_2 = Dense(attention_size, activation=None,kernel_initializer=init1,\n",
        "        #kernel_regularizer=tf.contrib.layers.l2_regularizer(0.001))\n",
        "        params = {'w_omega': w_omega,\n",
        "                  'b_omega': b_omega,\n",
        "                  # 'dense': dense_attention_2\n",
        "                  }\n",
        "        with tf.variable_scope(scope_name, reuse=tf.AUTO_REUSE):\n",
        "            outputs = []\n",
        "            for x in range(t):\n",
        "                t_x = inputs[:, x, :]\n",
        "\n",
        "                output = self.attention(inputs, t_x, hidden_size, params, self.mask)  # (b, d)\n",
        "                outputs.append(output)\n",
        "\n",
        "            final_output = tf.concat(outputs, axis=1)\n",
        "            return final_output\n",
        "\n",
        "    def _build_model_op(self):\n",
        "        # self attention\n",
        "        if self.unimodal:\n",
        "            input = self.input\n",
        "        else:\n",
        "            if self.attn_fusion:\n",
        "                input = self.self_attention(self.a_input, self.v_input, self.t_input, '')\n",
        "                input = input * tf.expand_dims(self.mask, axis=-1)\n",
        "            else:\n",
        "                input = tf.concat([self.a_input, self.v_input, self.t_input], axis=-1)\n",
        "\n",
        "        # input = tf.nn.dropout(input, 1-self.lstm_inp_dropout)\n",
        "        self.gru_output = self.BiGRU(input, 100, 'gru', 1 - self.lstm_dropout)\n",
        "        self.inter = tf.nn.dropout(self.gru_output, 1 - self.dropout_lstm_out)\n",
        "        # self.inter = self.gru_output\n",
        "        if self.attn_2:\n",
        "            self.inter = self.self_attention_2(self.inter, '')\n",
        "        init = tf.glorot_uniform_initializer(seed=self.seed, dtype=tf.float32)\n",
        "        if self.unimodal:\n",
        "            self.inter1 = Dense(100, activation=tf.nn.relu,\n",
        "                                kernel_initializer=init, kernel_regularizer=tf.contrib.layers.l2_regularizer(0.001))(\n",
        "                self.inter)\n",
        "        else:\n",
        "            self.inter1 = Dense(200, activation=tf.nn.relu,\n",
        "                                kernel_initializer=init, kernel_regularizer=tf.contrib.layers.l2_regularizer(0.001))(\n",
        "                self.inter)\n",
        "            self.inter1 = self.inter1 * tf.expand_dims(self.mask, axis=-1)\n",
        "            self.inter1 = Dense(200, activation=tf.nn.relu,\n",
        "                                kernel_initializer=init, kernel_regularizer=tf.contrib.layers.l2_regularizer(0.001))(\n",
        "                self.inter1)\n",
        "            self.inter1 = self.inter1 * tf.expand_dims(self.mask, axis=-1)\n",
        "            self.inter1 = Dense(200, activation=tf.nn.relu,\n",
        "                                kernel_initializer=init, kernel_regularizer=tf.contrib.layers.l2_regularizer(0.001))(\n",
        "                self.inter1)\n",
        "        self.inter1 = self.inter1 * tf.expand_dims(self.mask, axis=-1)\n",
        "        self.inter1 = tf.nn.dropout(self.inter1, 1 - self.dropout)\n",
        "        self.output = Dense(self.emotions, kernel_initializer=init,\n",
        "                            kernel_regularizer=tf.contrib.layers.l2_regularizer(0.001))(self.inter1)\n",
        "        # print('self.output', self.output.get_shape())\n",
        "        self.preds = tf.nn.softmax(self.output)\n",
        "        # To calculate the number correct, we want to count padded steps as incorrect\n",
        "        correct = tf.cast(\n",
        "            tf.equal(tf.argmax(self.preds, -1, output_type=tf.int32), tf.argmax(self.y, -1, output_type=tf.int32)),\n",
        "            tf.int32) * tf.cast(self.mask, tf.int32)\n",
        "\n",
        "        # To calculate accuracy we want to divide by the number of non-padded time-steps,\n",
        "        # rather than taking the mean\n",
        "        self.accuracy = tf.reduce_sum(tf.cast(correct, tf.float32)) / tf.reduce_sum(tf.cast(self.seq_len, tf.float32))\n",
        "        # y = tf.argmax(self.y, -1)\n",
        "\n",
        "        loss = tf.nn.softmax_cross_entropy_with_logits_v2(logits=self.output, labels=self.y)\n",
        "        loss = loss * self.mask\n",
        "\n",
        "        self.loss = tf.reduce_sum(loss) / tf.reduce_sum(self.mask)\n",
        "\n",
        "    def _initialize_optimizer(self):\n",
        "        train_vars = tf.trainable_variables()\n",
        "        reg_loss = []\n",
        "        total_parameters = 0\n",
        "        for train_var in train_vars:\n",
        "            # print(train_var.name)\n",
        "            reg_loss.append(tf.nn.l2_loss(train_var))\n",
        "\n",
        "            shape = train_var.get_shape()\n",
        "            variable_parameters = 1\n",
        "            for dim in shape:\n",
        "                variable_parameters *= dim.value\n",
        "            total_parameters += variable_parameters\n",
        "        # print(total_parameters)\n",
        "        print('Trainable parameters:', total_parameters)\n",
        "\n",
        "        self.loss = self.loss + 0.00001 * tf.reduce_mean(reg_loss)\n",
        "        self.global_step = tf.get_variable(shape=[], initializer=tf.constant_initializer(0), dtype=tf.int32,\n",
        "                                           name='global_step')\n",
        "        self._optimizer = tf.train.AdamOptimizer(learning_rate=self.lr, beta1=0.9, beta2=0.999)\n",
        "        # self._optimizer = tf.train.AdadeltaOptimizer(learning_rate=1.0, rho=0.95, epsilon=1e-08)\n",
        "\n",
        "        self.train_op = self._optimizer.minimize(self.loss, global_step=self.global_step)"
      ],
      "metadata": {
        "id": "w5rh2pBrrjAT"
      },
      "execution_count": 7,
      "outputs": []
    },
    {
      "cell_type": "code",
      "source": [
        "seed = 1234\n",
        "np.random.seed(seed)\n",
        "tf.set_random_seed(seed)\n",
        "unimodal_activations = {}"
      ],
      "metadata": {
        "id": "uV-SeXWBrm7Z"
      },
      "execution_count": 10,
      "outputs": []
    },
    {
      "cell_type": "code",
      "source": [
        "def multimodal(unimodal_activations, data, classes, attn_fusion=True, enable_attn_2=False, use_raw=True):\n",
        "    if use_raw:\n",
        "        if attn_fusion:\n",
        "            attn_fusion = False\n",
        "\n",
        "        train_data, test_data, audio_train, audio_test, text_train, text_test, video_train, video_test, train_label, test_label, seqlen_train, seqlen_test, train_mask, test_mask = get_raw_data(\n",
        "            data, classes)\n",
        "\n",
        "    else:\n",
        "        print(\"starting multimodal\")\n",
        "        # Fusion (appending) of features\n",
        "\n",
        "        text_train = unimodal_activations['text_train']\n",
        "        audio_train = unimodal_activations['audio_train']\n",
        "        video_train = unimodal_activations['video_train']\n",
        "\n",
        "        text_test = unimodal_activations['text_test']\n",
        "        audio_test = unimodal_activations['audio_test']\n",
        "        video_test = unimodal_activations['video_test']\n",
        "\n",
        "        train_mask = unimodal_activations['train_mask']\n",
        "        test_mask = unimodal_activations['test_mask']\n",
        "\n",
        "        print('train_mask', train_mask.shape)\n",
        "\n",
        "        train_label = unimodal_activations['train_label']\n",
        "        print('train_label', train_label.shape)\n",
        "        test_label = unimodal_activations['test_label']\n",
        "        print('test_label', test_label.shape)\n",
        "\n",
        "        # print(train_mask_bool)\n",
        "        seqlen_train = np.sum(train_mask, axis=-1)\n",
        "        print('seqlen_train', seqlen_train.shape)\n",
        "        seqlen_test = np.sum(test_mask, axis=-1)\n",
        "        print('seqlen_test', seqlen_test.shape)\n",
        "\n",
        "    a_dim = audio_train.shape[-1]\n",
        "    v_dim = video_train.shape[-1]\n",
        "    t_dim = text_train.shape[-1]\n",
        "    if attn_fusion:\n",
        "        print('With attention fusion')\n",
        "    allow_soft_placement = True\n",
        "    log_device_placement = False\n",
        "\n",
        "    # Multimodal model\n",
        "    session_conf = tf.ConfigProto(\n",
        "        # device_count={'GPU': gpu_count},\n",
        "        allow_soft_placement=allow_soft_placement,\n",
        "        log_device_placement=log_device_placement,\n",
        "        gpu_options=tf.GPUOptions(allow_growth=True))\n",
        "    gpu_device = 0\n",
        "    best_acc = 0\n",
        "    best_loss_accuracy = 0\n",
        "    best_loss = 10000000.0\n",
        "    best_epoch = 0\n",
        "    best_epoch_loss = 0\n",
        "    with tf.device('/device:GPU:%d' % gpu_device):\n",
        "        print('Using GPU - ', '/device:GPU:%d' % gpu_device)\n",
        "        with tf.Graph().as_default():\n",
        "            tf.set_random_seed(seed)\n",
        "            sess = tf.Session(config=session_conf)\n",
        "            with sess.as_default():\n",
        "                model = LSTM_Model(text_train.shape[1:], 0.0001, a_dim=a_dim, v_dim=v_dim, t_dim=t_dim,\n",
        "                                   emotions=classes, attn_fusion=attn_fusion,\n",
        "                                   unimodal=False, enable_attn_2=enable_attn_2,\n",
        "                                   seed=seed)\n",
        "                sess.run(tf.group(tf.global_variables_initializer(), tf.local_variables_initializer()))\n",
        "\n",
        "                test_feed_dict = {\n",
        "                    model.t_input: text_test,\n",
        "                    model.a_input: audio_test,\n",
        "                    model.v_input: video_test,\n",
        "                    model.y: test_label,\n",
        "                    model.seq_len: seqlen_test,\n",
        "                    model.mask: test_mask,\n",
        "                    model.lstm_dropout: 0.0,\n",
        "                    model.lstm_inp_dropout: 0.0,\n",
        "                    model.dropout: 0.0,\n",
        "                    model.dropout_lstm_out: 0.0\n",
        "                }\n",
        "\n",
        "                # print('\\n\\nDataset: %s' % (data))\n",
        "                print(\"\\nEvaluation before training:\")\n",
        "                # Evaluation after epoch\n",
        "                step, loss, accuracy = sess.run(\n",
        "                    [model.global_step, model.loss, model.accuracy],\n",
        "                    test_feed_dict)\n",
        "                print(\"EVAL: epoch {}: step {}, loss {:g}, acc {:g}\".format(0, step, loss, accuracy))\n",
        "\n",
        "                for epoch in range(epochs):\n",
        "                    epoch += 1\n",
        "\n",
        "                    batches = batch_iter(list(\n",
        "                        zip(text_train, audio_train, video_train, train_mask, seqlen_train, train_label)),\n",
        "                        batch_size)\n",
        "\n",
        "                    # Training loop. For each batch...\n",
        "                    print('\\nTraining epoch {}'.format(epoch))\n",
        "                    l = []\n",
        "                    a = []\n",
        "                    for i, batch in tqdm(enumerate(batches)):\n",
        "                        b_text_train, b_audio_train, b_video_train, b_train_mask, b_seqlen_train, b_train_label = zip(\n",
        "                            *batch)\n",
        "                        # print('batch_hist_v', len(batch_utt_v))\n",
        "                        feed_dict = {\n",
        "                            model.t_input: b_text_train,\n",
        "                            model.a_input: b_audio_train,\n",
        "                            model.v_input: b_video_train,\n",
        "                            model.y: b_train_label,\n",
        "                            model.seq_len: b_seqlen_train,\n",
        "                            model.mask: b_train_mask,\n",
        "                            model.lstm_dropout: 0.4,\n",
        "                            model.lstm_inp_dropout: 0.0,\n",
        "                            model.dropout: 0.2,\n",
        "                            model.dropout_lstm_out: 0.2\n",
        "                        }\n",
        "\n",
        "                        _, step, loss, accuracy = sess.run(\n",
        "                            [model.train_op, model.global_step, model.loss, model.accuracy],\n",
        "                            feed_dict)\n",
        "                        l.append(loss)\n",
        "                        a.append(accuracy)\n",
        "\n",
        "                    print(\"\\t \\tEpoch {}:, loss {:g}, accuracy {:g}\".format(epoch, np.average(l), np.average(a)))\n",
        "                    # Evaluation after epoch\n",
        "                    step, loss, accuracy, preds, y, mask = sess.run(\n",
        "                        [model.global_step, model.loss, model.accuracy, model.preds, model.y, model.mask],\n",
        "                        test_feed_dict)\n",
        "                    f1 = f1_score(np.ndarray.flatten(tf.argmax(y, -1, output_type=tf.int32).eval()),\n",
        "                                  np.ndarray.flatten(tf.argmax(preds, -1, output_type=tf.int32).eval()),\n",
        "                                  sample_weight=np.ndarray.flatten(tf.cast(mask, tf.int32).eval()), average=\"weighted\")\n",
        "                    print(\"EVAL: After epoch {}: step {}, loss {:g}, acc {:g}, f1 {:g}\".format(epoch, step,\n",
        "                                                                                               loss / test_label.shape[\n",
        "                                                                                                   0],\n",
        "                                                                                               accuracy, f1))\n",
        "                    if accuracy > best_acc:\n",
        "                        best_epoch = epoch\n",
        "                        best_acc = accuracy\n",
        "                    if loss < best_loss:\n",
        "                        best_loss = loss\n",
        "                        best_loss_accuracy = accuracy\n",
        "                        best_epoch_loss = epoch\n",
        "\n",
        "                print(\n",
        "                    \"\\n\\nBest epoch: {}\\nBest test accuracy: {}\\nBest epoch loss: {}\\nBest test accuracy when loss is least: {}\".format(\n",
        "                        best_epoch, best_acc, best_epoch_loss, best_loss_accuracy))"
      ],
      "metadata": {
        "id": "SXdIssjOr9Fc"
      },
      "execution_count": 11,
      "outputs": []
    },
    {
      "cell_type": "code",
      "source": [
        "def unimodal(mode, data, classes):\n",
        "    print(('starting unimodal ', mode))\n",
        "\n",
        "    # with open('./mosei/text_glove_average.pickle', 'rb') as handle:\n",
        "    if data == 'mosei' or data == 'mosi':\n",
        "        with open('{1}_{2}way.pickle'.format(data, mode, classes), 'rb') as handle:\n",
        "            u = pickle._Unpickler(handle)\n",
        "            u.encoding = 'latin1'\n",
        "            # (train_data, train_label, test_data, test_label, maxlen, train_length, test_length) = u.load()\n",
        "            if data == 'mosi':\n",
        "                (train_data, train_label, test_data, test_label, maxlen, train_length, test_length) = u.load()\n",
        "                train_label = train_label.astype('int')\n",
        "                test_label = test_label.astype('int')\n",
        "                train_label, test_label = createOneHot(train_label, test_label)\n",
        "            else:\n",
        "                raise NotImplementedError('Unknown dataset...')\n",
        "\n",
        "            train_label = train_label.astype('int')\n",
        "            test_label = test_label.astype('int')\n",
        "\n",
        "            train_mask = np.zeros((train_data.shape[0], train_data.shape[1]), dtype='float')\n",
        "            for i in range(len(train_length)):\n",
        "                train_mask[i, :train_length[i]] = 1.0\n",
        "\n",
        "            test_mask = np.zeros((test_data.shape[0], test_data.shape[1]), dtype='float')\n",
        "            for i in range(len(test_length)):\n",
        "                test_mask[i, :test_length[i]] = 1.0\n",
        "\n",
        "    attn_fusion = False\n",
        "\n",
        "    print('train_mask', train_mask.shape)\n",
        "\n",
        "    # print(train_mask_bool)\n",
        "    seqlen_train = np.sum(train_mask, axis=-1)\n",
        "    print('seqlen_train', seqlen_train.shape)\n",
        "    seqlen_test = np.sum(test_mask, axis=-1)\n",
        "    print('seqlen_test', seqlen_test.shape)\n",
        "\n",
        "    allow_soft_placement = True\n",
        "    log_device_placement = False\n",
        "\n",
        "    # Multimodal model\n",
        "    session_conf = tf.ConfigProto(\n",
        "        # device_count={'GPU': gpu_count},\n",
        "        allow_soft_placement=allow_soft_placement,\n",
        "        log_device_placement=log_device_placement,\n",
        "        gpu_options=tf.GPUOptions(allow_growth=True))\n",
        "    gpu_device = 0\n",
        "    best_acc = 0\n",
        "    best_epoch = 0\n",
        "    best_loss = 1000000.0\n",
        "    best_epoch_loss = 0\n",
        "    is_unimodal = True\n",
        "    with tf.device('/device:GPU:%d' % gpu_device):\n",
        "        print('Using GPU - ', '/device:GPU:%d' % gpu_device)\n",
        "        with tf.Graph().as_default():\n",
        "            tf.set_random_seed(seed)\n",
        "            sess = tf.Session(config=session_conf)\n",
        "            with sess.as_default():\n",
        "                model = LSTM_Model(train_data.shape[1:], 0.0001, a_dim=0, v_dim=0, t_dim=0, emotions=classes,\n",
        "                                   attn_fusion=attn_fusion, unimodal=is_unimodal, seed=seed)\n",
        "                sess.run(tf.group(tf.global_variables_initializer(), tf.local_variables_initializer()))\n",
        "\n",
        "                test_feed_dict = {\n",
        "                    model.input: test_data,\n",
        "                    model.y: test_label,\n",
        "                    model.seq_len: seqlen_test,\n",
        "                    model.mask: test_mask,\n",
        "                    model.lstm_dropout: 0.0,\n",
        "                    model.lstm_inp_dropout: 0.0,\n",
        "                    model.dropout: 0.0,\n",
        "                    model.dropout_lstm_out: 0.0\n",
        "\n",
        "                }\n",
        "                train_feed_dict = {\n",
        "                    model.input: train_data,\n",
        "                    model.y: train_label,\n",
        "                    model.seq_len: seqlen_train,\n",
        "                    model.mask: train_mask,\n",
        "                    model.lstm_dropout: 0.0,\n",
        "                    model.lstm_inp_dropout: 0.0,\n",
        "                    model.dropout: 0.0,\n",
        "                    model.dropout_lstm_out: 0.0\n",
        "\n",
        "                }\n",
        "                # print('\\n\\nDataset: %s' % (data))\n",
        "                print(\"\\nEvaluation before training:\")\n",
        "                # Evaluation after epoch\n",
        "                step, loss, accuracy = sess.run(\n",
        "                    [model.global_step, model.loss, model.accuracy],\n",
        "                    test_feed_dict)\n",
        "                print(\"EVAL: epoch {}: step {}, loss {:g}, acc {:g}\".format(0, step, loss, accuracy))\n",
        "\n",
        "                for epoch in range(epochs):\n",
        "                    epoch += 1\n",
        "\n",
        "                    batches = batch_iter(list(\n",
        "                        zip(train_data, train_mask, seqlen_train, train_label)),\n",
        "                        batch_size)\n",
        "\n",
        "                    # Training loop. For each batch...\n",
        "                    print('\\nTraining epoch {}'.format(epoch))\n",
        "                    l = []\n",
        "                    a = []\n",
        "                    for i, batch in tqdm(enumerate(batches)):\n",
        "                        b_train_data, b_train_mask, b_seqlen_train, b_train_label = zip(\n",
        "                            *batch)\n",
        "                        feed_dict = {\n",
        "                            model.input: b_train_data,\n",
        "                            model.y: b_train_label,\n",
        "                            model.seq_len: b_seqlen_train,\n",
        "                            model.mask: b_train_mask,\n",
        "                            model.lstm_dropout: 0.4,\n",
        "                            model.lstm_inp_dropout: 0.0,\n",
        "                            model.dropout: 0.2,\n",
        "                            model.dropout_lstm_out: 0.2\n",
        "\n",
        "                        }\n",
        "\n",
        "                        _, step, loss, accuracy = sess.run(\n",
        "                            [model.train_op, model.global_step, model.loss, model.accuracy],\n",
        "                            feed_dict)\n",
        "                        l.append(loss)\n",
        "                        a.append(accuracy)\n",
        "\n",
        "                    print(\"\\t \\tEpoch {}:, loss {:g}, accuracy {:g}\".format(epoch, np.average(l), np.average(a)))\n",
        "                    # Evaluation after epoch\n",
        "                    step, loss, accuracy, test_activations = sess.run(\n",
        "                        [model.global_step, model.loss, model.accuracy, model.inter1],\n",
        "                        test_feed_dict)\n",
        "                    loss = loss / test_label.shape[0]\n",
        "                    print(\"EVAL: After epoch {}: step {}, loss {:g}, acc {:g}\".format(epoch, step, loss, accuracy))\n",
        "\n",
        "                    if accuracy > best_acc:\n",
        "                        best_epoch = epoch\n",
        "                        best_acc = accuracy\n",
        "\n",
        "                    if epoch == 30:\n",
        "                        step, loss, accuracy, train_activations = sess.run(\n",
        "                            [model.global_step, model.loss, model.accuracy, model.inter1],\n",
        "                            train_feed_dict)\n",
        "                        unimodal_activations[mode + '_train'] = train_activations\n",
        "                        unimodal_activations[mode + '_test'] = test_activations\n",
        "\n",
        "                        unimodal_activations['train_mask'] = train_mask\n",
        "                        unimodal_activations['test_mask'] = test_mask\n",
        "                        unimodal_activations['train_label'] = train_label\n",
        "                        unimodal_activations['test_label'] = test_label\n",
        "\n",
        "                    if loss < best_loss:\n",
        "                        best_epoch_loss = epoch\n",
        "                        best_loss = loss\n",
        "                        # step, loss, accuracy, train_activations = sess.run(\n",
        "                        # [model.global_step, model.loss, model.accuracy, model.inter1],\n",
        "                        # train_feed_dict)\n",
        "                        # unimodal_activations[mode + '_train'] = train_activations\n",
        "                        # unimodal_activations[mode + '_test'] = test_activations\n",
        "\n",
        "                        # unimodal_activations['train_mask'] = train_mask\n",
        "                        # unimodal_activations['test_mask'] = test_mask\n",
        "                        # unimodal_activations['train_label'] = train_label\n",
        "                        # unimodal_activations['test_label'] = test_label\n",
        "\n",
        "                print(\"\\n\\nBest epoch: {}\\nBest test accuracy: {}\".format(best_epoch, best_acc))\n",
        "                print(\"\\n\\nBest epoch: {}\\nBest test loss: {}\".format(best_epoch_loss, best_loss))\n"
      ],
      "metadata": {
        "id": "OMxLq4insEYT"
      },
      "execution_count": 12,
      "outputs": []
    },
    {
      "cell_type": "code",
      "source": [
        "def str2bool(v):\n",
        "    if v.lower() in ('yes', 'true', 't', 'y', '1'):\n",
        "        return True\n",
        "    elif v.lower() in ('no', 'false', 'f', 'n', '0'):\n",
        "        return False\n",
        "    else:\n",
        "        raise argparse.ArgumentTypeError('Boolean value expected.')"
      ],
      "metadata": {
        "id": "U-qfeAgdsLPS"
      },
      "execution_count": 13,
      "outputs": []
    },
    {
      "cell_type": "code",
      "source": [
        "config = tf.compat.v1.ConfigProto()\n",
        "config.gpu_options.allow_growth=True\n",
        "sess = tf.compat.v1.Session(config=config)"
      ],
      "metadata": {
        "id": "yQLk8Sc5zwMO"
      },
      "execution_count": 14,
      "outputs": []
    },
    {
      "cell_type": "code",
      "source": [
        "if __name__ == \"__main__\":\n",
        "    argv = sys.argv[1:]\n",
        "    parser = argparse.ArgumentParser()\n",
        "    parser.add_argument(\"--unimodal\", type=str2bool, nargs='?', const=True, default=True)\n",
        "    parser.add_argument(\"--fusion\", type=str2bool, nargs='?', const=True, default=True)\n",
        "    parser.add_argument(\"--attention_2\", type=str2bool, nargs='?', const=True, default=True)\n",
        "    parser.add_argument(\"--use_raw\", type=str2bool, nargs='?', const=True, default=True)\n",
        "    parser.add_argument(\"--data\", type=str, default='mosi')\n",
        "    parser.add_argument(\"--classes\", type=str, default='2')\n",
        "    args, _ = parser.parse_known_args(argv)\n",
        "\n",
        "    print(args)\n",
        "\n",
        "    batch_size = 20\n",
        "    epochs = 100\n",
        "    emotions = args.classes\n",
        "    assert args.data in ['mosi', 'mosei', 'iemocap']\n",
        "\n",
        "    if args.unimodal:\n",
        "        print(\"Training unimodals first\")\n",
        "        modality = ['text', 'audio', 'video']\n",
        "        for mode in modality:\n",
        "            unimodal(mode, args.data, args.classes)\n",
        "\n",
        "        print(\"Saving unimodal activations\")\n",
        "        with open('unimodal_{0}_{1}way.pickle'.format(args.data, args.classes), 'wb') as handle:\n",
        "            pickle.dump(unimodal_activations, handle, protocol=pickle.HIGHEST_PROTOCOL)\n",
        "\n",
        "    if not args.use_raw:\n",
        "        with open('unimodal_{0}_{1}way.pickle'.format(args.data, args.classes), 'rb') as handle:\n",
        "            u = pickle._Unpickler(handle)\n",
        "            u.encoding = 'latin1'\n",
        "            unimodal_activations = u.load()\n",
        "\n",
        "    epochs = 100\n",
        "    multimodal(unimodal_activations, args.data, args.classes, args.fusion, args.attention_2, use_raw=args.use_raw)"
      ],
      "metadata": {
        "colab": {
          "base_uri": "https://localhost:8080/"
        },
        "id": "GlzlDPpzsQ-4",
        "outputId": "fd4ce71f-9f89-4264-db27-4acd5a553b18"
      },
      "execution_count": 15,
      "outputs": [
        {
          "output_type": "stream",
          "name": "stdout",
          "text": [
            "Namespace(attention_2=True, classes='2', data='mosi', fusion=True, unimodal=True, use_raw=True)\n",
            "Training unimodals first\n",
            "('starting unimodal ', 'text')\n",
            "train_label shape (62, 63)\n",
            "test_label shape (31, 63)\n",
            "1\n",
            "1\n",
            "maxlen 1\n",
            "train [[[1. 0.]\n",
            "  [1. 0.]\n",
            "  [1. 0.]\n",
            "  ...\n",
            "  [1. 0.]\n",
            "  [1. 0.]\n",
            "  [1. 0.]]\n",
            "\n",
            " [[0. 1.]\n",
            "  [1. 0.]\n",
            "  [1. 0.]\n",
            "  ...\n",
            "  [1. 0.]\n",
            "  [1. 0.]\n",
            "  [1. 0.]]\n",
            "\n",
            " [[1. 0.]\n",
            "  [1. 0.]\n",
            "  [0. 1.]\n",
            "  ...\n",
            "  [1. 0.]\n",
            "  [1. 0.]\n",
            "  [1. 0.]]\n",
            "\n",
            " ...\n",
            "\n",
            " [[0. 1.]\n",
            "  [0. 1.]\n",
            "  [1. 0.]\n",
            "  ...\n",
            "  [1. 0.]\n",
            "  [1. 0.]\n",
            "  [1. 0.]]\n",
            "\n",
            " [[0. 1.]\n",
            "  [1. 0.]\n",
            "  [0. 1.]\n",
            "  ...\n",
            "  [1. 0.]\n",
            "  [1. 0.]\n",
            "  [1. 0.]]\n",
            "\n",
            " [[1. 0.]\n",
            "  [0. 1.]\n",
            "  [0. 1.]\n",
            "  ...\n",
            "  [1. 0.]\n",
            "  [1. 0.]\n",
            "  [1. 0.]]]\n",
            "test [[[1. 0.]\n",
            "  [0. 1.]\n",
            "  [0. 1.]\n",
            "  ...\n",
            "  [1. 0.]\n",
            "  [1. 0.]\n",
            "  [1. 0.]]\n",
            "\n",
            " [[1. 0.]\n",
            "  [0. 1.]\n",
            "  [0. 1.]\n",
            "  ...\n",
            "  [1. 0.]\n",
            "  [1. 0.]\n",
            "  [1. 0.]]\n",
            "\n",
            " [[0. 1.]\n",
            "  [1. 0.]\n",
            "  [1. 0.]\n",
            "  ...\n",
            "  [1. 0.]\n",
            "  [1. 0.]\n",
            "  [1. 0.]]\n",
            "\n",
            " ...\n",
            "\n",
            " [[0. 1.]\n",
            "  [1. 0.]\n",
            "  [0. 1.]\n",
            "  ...\n",
            "  [1. 0.]\n",
            "  [1. 0.]\n",
            "  [1. 0.]]\n",
            "\n",
            " [[1. 0.]\n",
            "  [1. 0.]\n",
            "  [1. 0.]\n",
            "  ...\n",
            "  [1. 0.]\n",
            "  [1. 0.]\n",
            "  [1. 0.]]\n",
            "\n",
            " [[0. 1.]\n",
            "  [0. 1.]\n",
            "  [0. 1.]\n",
            "  ...\n",
            "  [1. 0.]\n",
            "  [1. 0.]\n",
            "  [1. 0.]]]\n",
            "train_mask (62, 63)\n",
            "seqlen_train (62,)\n",
            "seqlen_test (31,)\n",
            "Using GPU -  /device:GPU:0\n",
            "WARNING:tensorflow:From <ipython-input-7-b0824f52c517>:30: calling GlorotUniform.__init__ (from tensorflow.python.ops.init_ops) with dtype is deprecated and will be removed in a future version.\n",
            "Instructions for updating:\n",
            "Call initializer instance with the dtype argument instead of passing it to the constructor\n",
            "WARNING:tensorflow:\n",
            "The TensorFlow contrib module will not be included in TensorFlow 2.0.\n",
            "For more information, please see:\n",
            "  * https://github.com/tensorflow/community/blob/master/rfcs/20180907-contrib-sunset.md\n",
            "  * https://github.com/tensorflow/addons\n",
            "  * https://github.com/tensorflow/io (for I/O related ops)\n",
            "If you depend on functionality not listed there, please file an issue.\n",
            "\n",
            "WARNING:tensorflow:From <ipython-input-7-b0824f52c517>:43: bidirectional_dynamic_rnn (from tensorflow.python.ops.rnn) is deprecated and will be removed in a future version.\n",
            "Instructions for updating:\n",
            "Please use `keras.layers.Bidirectional(keras.layers.RNN(cell))`, which is equivalent to this API\n",
            "WARNING:tensorflow:From /tensorflow-1.15.2/python3.7/tensorflow_core/python/ops/rnn.py:464: dynamic_rnn (from tensorflow.python.ops.rnn) is deprecated and will be removed in a future version.\n",
            "Instructions for updating:\n",
            "Please use `keras.layers.RNN(cell)`, which is equivalent to this API\n",
            "WARNING:tensorflow:From /tensorflow-1.15.2/python3.7/tensorflow_core/contrib/rnn/python/ops/gru_ops.py:226: Layer.add_variable (from tensorflow.python.keras.engine.base_layer) is deprecated and will be removed in a future version.\n",
            "Instructions for updating:\n",
            "Please use `layer.add_weight` method instead.\n",
            "WARNING:tensorflow:From /tensorflow-1.15.2/python3.7/tensorflow_core/python/ops/rnn.py:244: where (from tensorflow.python.ops.array_ops) is deprecated and will be removed in a future version.\n",
            "Instructions for updating:\n",
            "Use tf.where in 2.0, which has the same broadcast rule as np.where\n",
            "WARNING:tensorflow:From <ipython-input-7-b0824f52c517>:219: calling dropout (from tensorflow.python.ops.nn_ops) with keep_prob is deprecated and will be removed in a future version.\n",
            "Instructions for updating:\n",
            "Please use `rate` instead of `keep_prob`. Rate should be set to `rate = 1 - keep_prob`.\n",
            "Trainable parameters: 80602\n",
            "\n",
            "Evaluation before training:\n",
            "EVAL: epoch 0: step 0, loss 0.725982, acc 0.331117\n",
            "\n",
            "Training epoch 1\n"
          ]
        },
        {
          "output_type": "stream",
          "name": "stderr",
          "text": [
            "\r0it [00:00, ?it/s]/usr/local/lib/python3.7/dist-packages/ipykernel_launcher.py:5: VisibleDeprecationWarning: Creating an ndarray from ragged nested sequences (which is a list-or-tuple of lists-or-tuples-or ndarrays with different lengths or shapes) is deprecated. If you meant to do this, you must specify 'dtype=object' when creating the ndarray.\n",
            "  \"\"\"\n",
            "4it [00:00,  5.01it/s]\n"
          ]
        },
        {
          "output_type": "stream",
          "name": "stdout",
          "text": [
            "\t \tEpoch 1:, loss 0.780165, accuracy 0.429035\n",
            "EVAL: After epoch 1: step 4, loss 0.0224254, acc 0.523936\n",
            "\n",
            "Training epoch 2\n"
          ]
        },
        {
          "output_type": "stream",
          "name": "stderr",
          "text": [
            "4it [00:00, 14.40it/s]\n"
          ]
        },
        {
          "output_type": "stream",
          "name": "stdout",
          "text": [
            "\t \tEpoch 2:, loss 0.731295, accuracy 0.465974\n",
            "EVAL: After epoch 2: step 8, loss 0.02152, acc 0.644947\n",
            "\n",
            "Training epoch 3\n"
          ]
        },
        {
          "output_type": "stream",
          "name": "stderr",
          "text": [
            "4it [00:00, 12.85it/s]\n"
          ]
        },
        {
          "output_type": "stream",
          "name": "stdout",
          "text": [
            "\t \tEpoch 3:, loss 0.706705, accuracy 0.529091\n",
            "EVAL: After epoch 3: step 12, loss 0.0207338, acc 0.718085\n",
            "\n",
            "Training epoch 4\n"
          ]
        },
        {
          "output_type": "stream",
          "name": "stderr",
          "text": [
            "4it [00:00, 14.02it/s]\n"
          ]
        },
        {
          "output_type": "stream",
          "name": "stdout",
          "text": [
            "\t \tEpoch 4:, loss 0.593449, accuracy 0.699994\n",
            "EVAL: After epoch 4: step 16, loss 0.0200343, acc 0.744681\n",
            "\n",
            "Training epoch 5\n"
          ]
        },
        {
          "output_type": "stream",
          "name": "stderr",
          "text": [
            "4it [00:00, 15.35it/s]\n"
          ]
        },
        {
          "output_type": "stream",
          "name": "stdout",
          "text": [
            "\t \tEpoch 5:, loss 0.58996, accuracy 0.713258\n",
            "EVAL: After epoch 5: step 20, loss 0.0193844, acc 0.755319\n",
            "\n",
            "Training epoch 6\n"
          ]
        },
        {
          "output_type": "stream",
          "name": "stderr",
          "text": [
            "4it [00:00, 14.79it/s]\n"
          ]
        },
        {
          "output_type": "stream",
          "name": "stdout",
          "text": [
            "\t \tEpoch 6:, loss 0.531131, accuracy 0.776529\n",
            "EVAL: After epoch 6: step 24, loss 0.0188195, acc 0.757979\n",
            "\n",
            "Training epoch 7\n"
          ]
        },
        {
          "output_type": "stream",
          "name": "stderr",
          "text": [
            "4it [00:00, 14.05it/s]\n"
          ]
        },
        {
          "output_type": "stream",
          "name": "stdout",
          "text": [
            "\t \tEpoch 7:, loss 0.492443, accuracy 0.811932\n",
            "EVAL: After epoch 7: step 28, loss 0.0183183, acc 0.759309\n",
            "\n",
            "Training epoch 8\n"
          ]
        },
        {
          "output_type": "stream",
          "name": "stderr",
          "text": [
            "4it [00:00, 14.42it/s]\n"
          ]
        },
        {
          "output_type": "stream",
          "name": "stdout",
          "text": [
            "\t \tEpoch 8:, loss 0.511424, accuracy 0.811213\n",
            "EVAL: After epoch 8: step 32, loss 0.0178811, acc 0.763298\n",
            "\n",
            "Training epoch 9\n"
          ]
        },
        {
          "output_type": "stream",
          "name": "stderr",
          "text": [
            "4it [00:00, 13.95it/s]\n"
          ]
        },
        {
          "output_type": "stream",
          "name": "stdout",
          "text": [
            "\t \tEpoch 9:, loss 0.482756, accuracy 0.838972\n",
            "EVAL: After epoch 9: step 36, loss 0.0175091, acc 0.764628\n",
            "\n",
            "Training epoch 10\n"
          ]
        },
        {
          "output_type": "stream",
          "name": "stderr",
          "text": [
            "4it [00:00, 15.01it/s]\n"
          ]
        },
        {
          "output_type": "stream",
          "name": "stdout",
          "text": [
            "\t \tEpoch 10:, loss 0.449146, accuracy 0.849451\n",
            "EVAL: After epoch 10: step 40, loss 0.0171834, acc 0.768617\n",
            "\n",
            "Training epoch 11\n"
          ]
        },
        {
          "output_type": "stream",
          "name": "stderr",
          "text": [
            "4it [00:00, 14.18it/s]\n"
          ]
        },
        {
          "output_type": "stream",
          "name": "stdout",
          "text": [
            "\t \tEpoch 11:, loss 0.435758, accuracy 0.846814\n",
            "EVAL: After epoch 11: step 44, loss 0.0168903, acc 0.771277\n",
            "\n",
            "Training epoch 12\n"
          ]
        },
        {
          "output_type": "stream",
          "name": "stderr",
          "text": [
            "4it [00:00, 15.16it/s]\n"
          ]
        },
        {
          "output_type": "stream",
          "name": "stdout",
          "text": [
            "\t \tEpoch 12:, loss 0.412137, accuracy 0.844023\n",
            "EVAL: After epoch 12: step 48, loss 0.0166278, acc 0.773936\n",
            "\n",
            "Training epoch 13\n"
          ]
        },
        {
          "output_type": "stream",
          "name": "stderr",
          "text": [
            "4it [00:00, 12.22it/s]\n"
          ]
        },
        {
          "output_type": "stream",
          "name": "stdout",
          "text": [
            "\t \tEpoch 13:, loss 0.407806, accuracy 0.85178\n",
            "EVAL: After epoch 13: step 52, loss 0.0163909, acc 0.777926\n",
            "\n",
            "Training epoch 14\n"
          ]
        },
        {
          "output_type": "stream",
          "name": "stderr",
          "text": [
            "4it [00:00, 15.91it/s]\n"
          ]
        },
        {
          "output_type": "stream",
          "name": "stdout",
          "text": [
            "\t \tEpoch 14:, loss 0.398976, accuracy 0.855601\n",
            "EVAL: After epoch 14: step 56, loss 0.0161804, acc 0.779255\n",
            "\n",
            "Training epoch 15\n"
          ]
        },
        {
          "output_type": "stream",
          "name": "stderr",
          "text": [
            "4it [00:00, 12.90it/s]\n"
          ]
        },
        {
          "output_type": "stream",
          "name": "stdout",
          "text": [
            "\t \tEpoch 15:, loss 0.368596, accuracy 0.870756\n",
            "EVAL: After epoch 15: step 60, loss 0.0159882, acc 0.776596\n",
            "\n",
            "Training epoch 16\n"
          ]
        },
        {
          "output_type": "stream",
          "name": "stderr",
          "text": [
            "4it [00:00, 13.62it/s]\n"
          ]
        },
        {
          "output_type": "stream",
          "name": "stdout",
          "text": [
            "\t \tEpoch 16:, loss 0.375402, accuracy 0.880903\n",
            "EVAL: After epoch 16: step 64, loss 0.0158145, acc 0.779255\n",
            "\n",
            "Training epoch 17\n"
          ]
        },
        {
          "output_type": "stream",
          "name": "stderr",
          "text": [
            "4it [00:00, 14.01it/s]\n"
          ]
        },
        {
          "output_type": "stream",
          "name": "stdout",
          "text": [
            "\t \tEpoch 17:, loss 0.354934, accuracy 0.867325\n",
            "EVAL: After epoch 17: step 68, loss 0.0156533, acc 0.781915\n",
            "\n",
            "Training epoch 18\n"
          ]
        },
        {
          "output_type": "stream",
          "name": "stderr",
          "text": [
            "4it [00:00, 14.78it/s]\n"
          ]
        },
        {
          "output_type": "stream",
          "name": "stdout",
          "text": [
            "\t \tEpoch 18:, loss 0.35046, accuracy 0.880055\n",
            "EVAL: After epoch 18: step 72, loss 0.0155061, acc 0.783245\n",
            "\n",
            "Training epoch 19\n"
          ]
        },
        {
          "output_type": "stream",
          "name": "stderr",
          "text": [
            "4it [00:00, 14.74it/s]\n"
          ]
        },
        {
          "output_type": "stream",
          "name": "stdout",
          "text": [
            "\t \tEpoch 19:, loss 0.334388, accuracy 0.872553\n",
            "EVAL: After epoch 19: step 76, loss 0.0153698, acc 0.783245\n",
            "\n",
            "Training epoch 20\n"
          ]
        },
        {
          "output_type": "stream",
          "name": "stderr",
          "text": [
            "4it [00:00, 14.82it/s]\n"
          ]
        },
        {
          "output_type": "stream",
          "name": "stdout",
          "text": [
            "\t \tEpoch 20:, loss 0.30513, accuracy 0.893481\n",
            "EVAL: After epoch 20: step 80, loss 0.0152454, acc 0.781915\n",
            "\n",
            "Training epoch 21\n"
          ]
        },
        {
          "output_type": "stream",
          "name": "stderr",
          "text": [
            "4it [00:00, 14.65it/s]\n"
          ]
        },
        {
          "output_type": "stream",
          "name": "stdout",
          "text": [
            "\t \tEpoch 21:, loss 0.298832, accuracy 0.881803\n",
            "EVAL: After epoch 21: step 84, loss 0.015134, acc 0.787234\n",
            "\n",
            "Training epoch 22\n"
          ]
        },
        {
          "output_type": "stream",
          "name": "stderr",
          "text": [
            "4it [00:00, 13.95it/s]\n"
          ]
        },
        {
          "output_type": "stream",
          "name": "stdout",
          "text": [
            "\t \tEpoch 22:, loss 0.298704, accuracy 0.877498\n",
            "EVAL: After epoch 22: step 88, loss 0.015031, acc 0.788564\n",
            "\n",
            "Training epoch 23\n"
          ]
        },
        {
          "output_type": "stream",
          "name": "stderr",
          "text": [
            "4it [00:00, 13.92it/s]\n"
          ]
        },
        {
          "output_type": "stream",
          "name": "stdout",
          "text": [
            "\t \tEpoch 23:, loss 0.305413, accuracy 0.898178\n",
            "EVAL: After epoch 23: step 92, loss 0.0149368, acc 0.792553\n",
            "\n",
            "Training epoch 24\n"
          ]
        },
        {
          "output_type": "stream",
          "name": "stderr",
          "text": [
            "4it [00:00, 13.64it/s]\n"
          ]
        },
        {
          "output_type": "stream",
          "name": "stdout",
          "text": [
            "\t \tEpoch 24:, loss 0.287348, accuracy 0.899609\n",
            "EVAL: After epoch 24: step 96, loss 0.0148458, acc 0.792553\n",
            "\n",
            "Training epoch 25\n"
          ]
        },
        {
          "output_type": "stream",
          "name": "stderr",
          "text": [
            "4it [00:00, 13.22it/s]\n"
          ]
        },
        {
          "output_type": "stream",
          "name": "stdout",
          "text": [
            "\t \tEpoch 25:, loss 0.279529, accuracy 0.902315\n",
            "EVAL: After epoch 25: step 100, loss 0.0147611, acc 0.796543\n",
            "\n",
            "Training epoch 26\n"
          ]
        },
        {
          "output_type": "stream",
          "name": "stderr",
          "text": [
            "4it [00:00, 14.76it/s]\n"
          ]
        },
        {
          "output_type": "stream",
          "name": "stdout",
          "text": [
            "\t \tEpoch 26:, loss 0.25773, accuracy 0.909153\n",
            "EVAL: After epoch 26: step 104, loss 0.0146838, acc 0.800532\n",
            "\n",
            "Training epoch 27\n"
          ]
        },
        {
          "output_type": "stream",
          "name": "stderr",
          "text": [
            "4it [00:00, 14.97it/s]\n"
          ]
        },
        {
          "output_type": "stream",
          "name": "stdout",
          "text": [
            "\t \tEpoch 27:, loss 0.244708, accuracy 0.925746\n",
            "EVAL: After epoch 27: step 108, loss 0.0146132, acc 0.801862\n",
            "\n",
            "Training epoch 28\n"
          ]
        },
        {
          "output_type": "stream",
          "name": "stderr",
          "text": [
            "4it [00:00, 14.33it/s]\n"
          ]
        },
        {
          "output_type": "stream",
          "name": "stdout",
          "text": [
            "\t \tEpoch 28:, loss 0.230352, accuracy 0.934016\n",
            "EVAL: After epoch 28: step 112, loss 0.0145481, acc 0.800532\n",
            "\n",
            "Training epoch 29\n"
          ]
        },
        {
          "output_type": "stream",
          "name": "stderr",
          "text": [
            "4it [00:00, 15.51it/s]\n"
          ]
        },
        {
          "output_type": "stream",
          "name": "stdout",
          "text": [
            "\t \tEpoch 29:, loss 0.242302, accuracy 0.921863\n",
            "EVAL: After epoch 29: step 116, loss 0.0144915, acc 0.801862\n",
            "\n",
            "Training epoch 30\n"
          ]
        },
        {
          "output_type": "stream",
          "name": "stderr",
          "text": [
            "4it [00:00, 14.53it/s]\n"
          ]
        },
        {
          "output_type": "stream",
          "name": "stdout",
          "text": [
            "\t \tEpoch 30:, loss 0.235185, accuracy 0.924855\n",
            "EVAL: After epoch 30: step 120, loss 0.014442, acc 0.801862\n",
            "\n",
            "Training epoch 31\n"
          ]
        },
        {
          "output_type": "stream",
          "name": "stderr",
          "text": [
            "4it [00:00, 14.44it/s]\n"
          ]
        },
        {
          "output_type": "stream",
          "name": "stdout",
          "text": [
            "\t \tEpoch 31:, loss 0.222644, accuracy 0.924766\n",
            "EVAL: After epoch 31: step 124, loss 0.0143985, acc 0.800532\n",
            "\n",
            "Training epoch 32\n"
          ]
        },
        {
          "output_type": "stream",
          "name": "stderr",
          "text": [
            "4it [00:00, 14.78it/s]\n"
          ]
        },
        {
          "output_type": "stream",
          "name": "stdout",
          "text": [
            "\t \tEpoch 32:, loss 0.22127, accuracy 0.93256\n",
            "EVAL: After epoch 32: step 128, loss 0.0143635, acc 0.800532\n",
            "\n",
            "Training epoch 33\n"
          ]
        },
        {
          "output_type": "stream",
          "name": "stderr",
          "text": [
            "4it [00:00, 15.12it/s]\n"
          ]
        },
        {
          "output_type": "stream",
          "name": "stdout",
          "text": [
            "\t \tEpoch 33:, loss 0.195387, accuracy 0.94\n",
            "EVAL: After epoch 33: step 132, loss 0.0143366, acc 0.801862\n",
            "\n",
            "Training epoch 34\n"
          ]
        },
        {
          "output_type": "stream",
          "name": "stderr",
          "text": [
            "4it [00:00, 13.59it/s]\n"
          ]
        },
        {
          "output_type": "stream",
          "name": "stdout",
          "text": [
            "\t \tEpoch 34:, loss 0.210335, accuracy 0.931999\n",
            "EVAL: After epoch 34: step 136, loss 0.0143159, acc 0.801862\n",
            "\n",
            "Training epoch 35\n"
          ]
        },
        {
          "output_type": "stream",
          "name": "stderr",
          "text": [
            "4it [00:00, 14.59it/s]\n"
          ]
        },
        {
          "output_type": "stream",
          "name": "stdout",
          "text": [
            "\t \tEpoch 35:, loss 0.200504, accuracy 0.952708\n",
            "EVAL: After epoch 35: step 140, loss 0.0143011, acc 0.801862\n",
            "\n",
            "Training epoch 36\n"
          ]
        },
        {
          "output_type": "stream",
          "name": "stderr",
          "text": [
            "4it [00:00, 14.69it/s]\n"
          ]
        },
        {
          "output_type": "stream",
          "name": "stdout",
          "text": [
            "\t \tEpoch 36:, loss 0.233311, accuracy 0.918792\n",
            "EVAL: After epoch 36: step 144, loss 0.0142934, acc 0.801862\n",
            "\n",
            "Training epoch 37\n"
          ]
        },
        {
          "output_type": "stream",
          "name": "stderr",
          "text": [
            "4it [00:00, 14.81it/s]\n"
          ]
        },
        {
          "output_type": "stream",
          "name": "stdout",
          "text": [
            "\t \tEpoch 37:, loss 0.165615, accuracy 0.956665\n",
            "EVAL: After epoch 37: step 148, loss 0.0142928, acc 0.801862\n",
            "\n",
            "Training epoch 38\n"
          ]
        },
        {
          "output_type": "stream",
          "name": "stderr",
          "text": [
            "4it [00:00, 15.52it/s]\n"
          ]
        },
        {
          "output_type": "stream",
          "name": "stdout",
          "text": [
            "\t \tEpoch 38:, loss 0.164317, accuracy 0.946837\n",
            "EVAL: After epoch 38: step 152, loss 0.0142977, acc 0.801862\n",
            "\n",
            "Training epoch 39\n"
          ]
        },
        {
          "output_type": "stream",
          "name": "stderr",
          "text": [
            "4it [00:00, 14.18it/s]\n"
          ]
        },
        {
          "output_type": "stream",
          "name": "stdout",
          "text": [
            "\t \tEpoch 39:, loss 0.178215, accuracy 0.940509\n",
            "EVAL: After epoch 39: step 156, loss 0.0143078, acc 0.803191\n",
            "\n",
            "Training epoch 40\n"
          ]
        },
        {
          "output_type": "stream",
          "name": "stderr",
          "text": [
            "4it [00:00, 12.84it/s]\n"
          ]
        },
        {
          "output_type": "stream",
          "name": "stdout",
          "text": [
            "\t \tEpoch 40:, loss 0.163325, accuracy 0.95474\n",
            "EVAL: After epoch 40: step 160, loss 0.014326, acc 0.804521\n",
            "\n",
            "Training epoch 41\n"
          ]
        },
        {
          "output_type": "stream",
          "name": "stderr",
          "text": [
            "4it [00:00, 13.96it/s]\n"
          ]
        },
        {
          "output_type": "stream",
          "name": "stdout",
          "text": [
            "\t \tEpoch 41:, loss 0.157588, accuracy 0.956788\n",
            "EVAL: After epoch 41: step 164, loss 0.0143516, acc 0.803191\n",
            "\n",
            "Training epoch 42\n"
          ]
        },
        {
          "output_type": "stream",
          "name": "stderr",
          "text": [
            "4it [00:00, 15.70it/s]\n"
          ]
        },
        {
          "output_type": "stream",
          "name": "stdout",
          "text": [
            "\t \tEpoch 42:, loss 0.141481, accuracy 0.965175\n",
            "EVAL: After epoch 42: step 168, loss 0.0143834, acc 0.801862\n",
            "\n",
            "Training epoch 43\n"
          ]
        },
        {
          "output_type": "stream",
          "name": "stderr",
          "text": [
            "4it [00:00, 13.41it/s]\n"
          ]
        },
        {
          "output_type": "stream",
          "name": "stdout",
          "text": [
            "\t \tEpoch 43:, loss 0.153449, accuracy 0.9471\n",
            "EVAL: After epoch 43: step 172, loss 0.014423, acc 0.799202\n",
            "\n",
            "Training epoch 44\n"
          ]
        },
        {
          "output_type": "stream",
          "name": "stderr",
          "text": [
            "4it [00:00, 14.68it/s]\n"
          ]
        },
        {
          "output_type": "stream",
          "name": "stdout",
          "text": [
            "\t \tEpoch 44:, loss 0.127195, accuracy 0.96296\n",
            "EVAL: After epoch 44: step 176, loss 0.0144718, acc 0.800532\n",
            "\n",
            "Training epoch 45\n"
          ]
        },
        {
          "output_type": "stream",
          "name": "stderr",
          "text": [
            "4it [00:00, 16.00it/s]\n"
          ]
        },
        {
          "output_type": "stream",
          "name": "stdout",
          "text": [
            "\t \tEpoch 45:, loss 0.128745, accuracy 0.958039\n",
            "EVAL: After epoch 45: step 180, loss 0.0145293, acc 0.799202\n",
            "\n",
            "Training epoch 46\n"
          ]
        },
        {
          "output_type": "stream",
          "name": "stderr",
          "text": [
            "4it [00:00, 15.57it/s]\n"
          ]
        },
        {
          "output_type": "stream",
          "name": "stdout",
          "text": [
            "\t \tEpoch 46:, loss 0.1384, accuracy 0.970783\n",
            "EVAL: After epoch 46: step 184, loss 0.0145994, acc 0.799202\n",
            "\n",
            "Training epoch 47\n"
          ]
        },
        {
          "output_type": "stream",
          "name": "stderr",
          "text": [
            "4it [00:00, 15.22it/s]\n"
          ]
        },
        {
          "output_type": "stream",
          "name": "stdout",
          "text": [
            "\t \tEpoch 47:, loss 0.14593, accuracy 0.96458\n",
            "EVAL: After epoch 47: step 188, loss 0.0146752, acc 0.796543\n",
            "\n",
            "Training epoch 48\n"
          ]
        },
        {
          "output_type": "stream",
          "name": "stderr",
          "text": [
            "4it [00:00, 14.81it/s]\n"
          ]
        },
        {
          "output_type": "stream",
          "name": "stdout",
          "text": [
            "\t \tEpoch 48:, loss 0.119677, accuracy 0.969758\n",
            "EVAL: After epoch 48: step 192, loss 0.0147617, acc 0.795213\n",
            "\n",
            "Training epoch 49\n"
          ]
        },
        {
          "output_type": "stream",
          "name": "stderr",
          "text": [
            "4it [00:00, 14.85it/s]\n"
          ]
        },
        {
          "output_type": "stream",
          "name": "stdout",
          "text": [
            "\t \tEpoch 49:, loss 0.11152, accuracy 0.980299\n",
            "EVAL: After epoch 49: step 196, loss 0.014861, acc 0.791223\n",
            "\n",
            "Training epoch 50\n"
          ]
        },
        {
          "output_type": "stream",
          "name": "stderr",
          "text": [
            "4it [00:00, 14.66it/s]\n"
          ]
        },
        {
          "output_type": "stream",
          "name": "stdout",
          "text": [
            "\t \tEpoch 50:, loss 0.114391, accuracy 0.975373\n",
            "EVAL: After epoch 50: step 200, loss 0.014967, acc 0.793883\n",
            "\n",
            "Training epoch 51\n"
          ]
        },
        {
          "output_type": "stream",
          "name": "stderr",
          "text": [
            "4it [00:00, 16.18it/s]\n"
          ]
        },
        {
          "output_type": "stream",
          "name": "stdout",
          "text": [
            "\t \tEpoch 51:, loss 0.111412, accuracy 0.963207\n",
            "EVAL: After epoch 51: step 204, loss 0.015075, acc 0.796543\n",
            "\n",
            "Training epoch 52\n"
          ]
        },
        {
          "output_type": "stream",
          "name": "stderr",
          "text": [
            "4it [00:00, 15.85it/s]\n"
          ]
        },
        {
          "output_type": "stream",
          "name": "stdout",
          "text": [
            "\t \tEpoch 52:, loss 0.0947467, accuracy 0.983966\n",
            "EVAL: After epoch 52: step 208, loss 0.0151908, acc 0.796543\n",
            "\n",
            "Training epoch 53\n"
          ]
        },
        {
          "output_type": "stream",
          "name": "stderr",
          "text": [
            "4it [00:00, 13.93it/s]\n"
          ]
        },
        {
          "output_type": "stream",
          "name": "stdout",
          "text": [
            "\t \tEpoch 53:, loss 0.0897333, accuracy 0.985331\n",
            "EVAL: After epoch 53: step 212, loss 0.0153172, acc 0.796543\n",
            "\n",
            "Training epoch 54\n"
          ]
        },
        {
          "output_type": "stream",
          "name": "stderr",
          "text": [
            "4it [00:00, 15.74it/s]\n"
          ]
        },
        {
          "output_type": "stream",
          "name": "stdout",
          "text": [
            "\t \tEpoch 54:, loss 0.0935381, accuracy 0.97939\n",
            "EVAL: After epoch 54: step 216, loss 0.0154501, acc 0.797872\n",
            "\n",
            "Training epoch 55\n"
          ]
        },
        {
          "output_type": "stream",
          "name": "stderr",
          "text": [
            "4it [00:00, 14.73it/s]\n"
          ]
        },
        {
          "output_type": "stream",
          "name": "stdout",
          "text": [
            "\t \tEpoch 55:, loss 0.0821774, accuracy 0.98554\n",
            "EVAL: After epoch 55: step 220, loss 0.0155859, acc 0.795213\n",
            "\n",
            "Training epoch 56\n"
          ]
        },
        {
          "output_type": "stream",
          "name": "stderr",
          "text": [
            "4it [00:00, 13.49it/s]\n"
          ]
        },
        {
          "output_type": "stream",
          "name": "stdout",
          "text": [
            "\t \tEpoch 56:, loss 0.132407, accuracy 0.968248\n",
            "EVAL: After epoch 56: step 224, loss 0.0157228, acc 0.793883\n",
            "\n",
            "Training epoch 57\n"
          ]
        },
        {
          "output_type": "stream",
          "name": "stderr",
          "text": [
            "4it [00:00, 14.35it/s]\n"
          ]
        },
        {
          "output_type": "stream",
          "name": "stdout",
          "text": [
            "\t \tEpoch 57:, loss 0.0881357, accuracy 0.980672\n",
            "EVAL: After epoch 57: step 228, loss 0.0158456, acc 0.792553\n",
            "\n",
            "Training epoch 58\n"
          ]
        },
        {
          "output_type": "stream",
          "name": "stderr",
          "text": [
            "4it [00:00, 15.51it/s]\n"
          ]
        },
        {
          "output_type": "stream",
          "name": "stdout",
          "text": [
            "\t \tEpoch 58:, loss 0.0768658, accuracy 0.986152\n",
            "EVAL: After epoch 58: step 232, loss 0.0159816, acc 0.789894\n",
            "\n",
            "Training epoch 59\n"
          ]
        },
        {
          "output_type": "stream",
          "name": "stderr",
          "text": [
            "4it [00:00, 14.54it/s]\n"
          ]
        },
        {
          "output_type": "stream",
          "name": "stdout",
          "text": [
            "\t \tEpoch 59:, loss 0.0756479, accuracy 0.985549\n",
            "EVAL: After epoch 59: step 236, loss 0.0161281, acc 0.791223\n",
            "\n",
            "Training epoch 60\n"
          ]
        },
        {
          "output_type": "stream",
          "name": "stderr",
          "text": [
            "4it [00:00, 13.92it/s]\n"
          ]
        },
        {
          "output_type": "stream",
          "name": "stdout",
          "text": [
            "\t \tEpoch 60:, loss 0.0790948, accuracy 0.983405\n",
            "EVAL: After epoch 60: step 240, loss 0.0162699, acc 0.791223\n",
            "\n",
            "Training epoch 61\n"
          ]
        },
        {
          "output_type": "stream",
          "name": "stderr",
          "text": [
            "4it [00:00, 15.01it/s]\n"
          ]
        },
        {
          "output_type": "stream",
          "name": "stdout",
          "text": [
            "\t \tEpoch 61:, loss 0.0770169, accuracy 0.985271\n",
            "EVAL: After epoch 61: step 244, loss 0.0163958, acc 0.789894\n",
            "\n",
            "Training epoch 62\n"
          ]
        },
        {
          "output_type": "stream",
          "name": "stderr",
          "text": [
            "4it [00:00, 14.52it/s]\n"
          ]
        },
        {
          "output_type": "stream",
          "name": "stdout",
          "text": [
            "\t \tEpoch 62:, loss 0.0833463, accuracy 0.98152\n",
            "EVAL: After epoch 62: step 248, loss 0.0165384, acc 0.788564\n",
            "\n",
            "Training epoch 63\n"
          ]
        },
        {
          "output_type": "stream",
          "name": "stderr",
          "text": [
            "4it [00:00, 15.08it/s]\n"
          ]
        },
        {
          "output_type": "stream",
          "name": "stdout",
          "text": [
            "\t \tEpoch 63:, loss 0.0778658, accuracy 0.982145\n",
            "EVAL: After epoch 63: step 252, loss 0.0166833, acc 0.787234\n",
            "\n",
            "Training epoch 64\n"
          ]
        },
        {
          "output_type": "stream",
          "name": "stderr",
          "text": [
            "4it [00:00, 13.99it/s]\n"
          ]
        },
        {
          "output_type": "stream",
          "name": "stdout",
          "text": [
            "\t \tEpoch 64:, loss 0.0689272, accuracy 0.986505\n",
            "EVAL: After epoch 64: step 256, loss 0.0168222, acc 0.785904\n",
            "\n",
            "Training epoch 65\n"
          ]
        },
        {
          "output_type": "stream",
          "name": "stderr",
          "text": [
            "4it [00:00, 13.58it/s]\n"
          ]
        },
        {
          "output_type": "stream",
          "name": "stdout",
          "text": [
            "\t \tEpoch 65:, loss 0.0911722, accuracy 0.975171\n",
            "EVAL: After epoch 65: step 260, loss 0.0169717, acc 0.787234\n",
            "\n",
            "Training epoch 66\n"
          ]
        },
        {
          "output_type": "stream",
          "name": "stderr",
          "text": [
            "4it [00:00, 14.21it/s]\n"
          ]
        },
        {
          "output_type": "stream",
          "name": "stdout",
          "text": [
            "\t \tEpoch 66:, loss 0.0666122, accuracy 0.985779\n",
            "EVAL: After epoch 66: step 264, loss 0.017123, acc 0.787234\n",
            "\n",
            "Training epoch 67\n"
          ]
        },
        {
          "output_type": "stream",
          "name": "stderr",
          "text": [
            "4it [00:00, 14.44it/s]\n"
          ]
        },
        {
          "output_type": "stream",
          "name": "stdout",
          "text": [
            "\t \tEpoch 67:, loss 0.0588849, accuracy 0.984927\n",
            "EVAL: After epoch 67: step 268, loss 0.0172678, acc 0.785904\n",
            "\n",
            "Training epoch 68\n"
          ]
        },
        {
          "output_type": "stream",
          "name": "stderr",
          "text": [
            "4it [00:00, 13.49it/s]\n"
          ]
        },
        {
          "output_type": "stream",
          "name": "stdout",
          "text": [
            "\t \tEpoch 68:, loss 0.0646252, accuracy 0.978763\n",
            "EVAL: After epoch 68: step 272, loss 0.0174143, acc 0.785904\n",
            "\n",
            "Training epoch 69\n"
          ]
        },
        {
          "output_type": "stream",
          "name": "stderr",
          "text": [
            "4it [00:00, 14.29it/s]\n"
          ]
        },
        {
          "output_type": "stream",
          "name": "stdout",
          "text": [
            "\t \tEpoch 69:, loss 0.0719152, accuracy 0.98364\n",
            "EVAL: After epoch 69: step 276, loss 0.0175568, acc 0.787234\n",
            "\n",
            "Training epoch 70\n"
          ]
        },
        {
          "output_type": "stream",
          "name": "stderr",
          "text": [
            "4it [00:00, 15.42it/s]\n"
          ]
        },
        {
          "output_type": "stream",
          "name": "stdout",
          "text": [
            "\t \tEpoch 70:, loss 0.102997, accuracy 0.977905\n",
            "EVAL: After epoch 70: step 280, loss 0.0176931, acc 0.785904\n",
            "\n",
            "Training epoch 71\n"
          ]
        },
        {
          "output_type": "stream",
          "name": "stderr",
          "text": [
            "4it [00:00, 13.64it/s]\n"
          ]
        },
        {
          "output_type": "stream",
          "name": "stdout",
          "text": [
            "\t \tEpoch 71:, loss 0.120267, accuracy 0.963268\n",
            "EVAL: After epoch 71: step 284, loss 0.017792, acc 0.785904\n",
            "\n",
            "Training epoch 72\n"
          ]
        },
        {
          "output_type": "stream",
          "name": "stderr",
          "text": [
            "4it [00:00, 15.11it/s]\n"
          ]
        },
        {
          "output_type": "stream",
          "name": "stdout",
          "text": [
            "\t \tEpoch 72:, loss 0.0550596, accuracy 0.985598\n",
            "EVAL: After epoch 72: step 288, loss 0.0178642, acc 0.785904\n",
            "\n",
            "Training epoch 73\n"
          ]
        },
        {
          "output_type": "stream",
          "name": "stderr",
          "text": [
            "4it [00:00, 13.85it/s]\n"
          ]
        },
        {
          "output_type": "stream",
          "name": "stdout",
          "text": [
            "\t \tEpoch 73:, loss 0.056671, accuracy 0.983808\n",
            "EVAL: After epoch 73: step 292, loss 0.0179589, acc 0.784574\n",
            "\n",
            "Training epoch 74\n"
          ]
        },
        {
          "output_type": "stream",
          "name": "stderr",
          "text": [
            "4it [00:00, 13.16it/s]\n"
          ]
        },
        {
          "output_type": "stream",
          "name": "stdout",
          "text": [
            "\t \tEpoch 74:, loss 0.0626201, accuracy 0.981799\n",
            "EVAL: After epoch 74: step 296, loss 0.0180773, acc 0.783245\n",
            "\n",
            "Training epoch 75\n"
          ]
        },
        {
          "output_type": "stream",
          "name": "stderr",
          "text": [
            "4it [00:00, 15.12it/s]\n"
          ]
        },
        {
          "output_type": "stream",
          "name": "stdout",
          "text": [
            "\t \tEpoch 75:, loss 0.109215, accuracy 0.968079\n",
            "EVAL: After epoch 75: step 300, loss 0.0181815, acc 0.779255\n",
            "\n",
            "Training epoch 76\n"
          ]
        },
        {
          "output_type": "stream",
          "name": "stderr",
          "text": [
            "4it [00:00, 15.06it/s]\n"
          ]
        },
        {
          "output_type": "stream",
          "name": "stdout",
          "text": [
            "\t \tEpoch 76:, loss 0.0559137, accuracy 0.981326\n",
            "EVAL: After epoch 76: step 304, loss 0.0182827, acc 0.779255\n",
            "\n",
            "Training epoch 77\n"
          ]
        },
        {
          "output_type": "stream",
          "name": "stderr",
          "text": [
            "4it [00:00, 13.93it/s]\n"
          ]
        },
        {
          "output_type": "stream",
          "name": "stdout",
          "text": [
            "\t \tEpoch 77:, loss 0.062549, accuracy 0.982711\n",
            "EVAL: After epoch 77: step 308, loss 0.0184165, acc 0.779255\n",
            "\n",
            "Training epoch 78\n"
          ]
        },
        {
          "output_type": "stream",
          "name": "stderr",
          "text": [
            "4it [00:00, 14.99it/s]\n"
          ]
        },
        {
          "output_type": "stream",
          "name": "stdout",
          "text": [
            "\t \tEpoch 78:, loss 0.0742877, accuracy 0.981367\n",
            "EVAL: After epoch 78: step 312, loss 0.0185403, acc 0.780585\n",
            "\n",
            "Training epoch 79\n"
          ]
        },
        {
          "output_type": "stream",
          "name": "stderr",
          "text": [
            "4it [00:00, 13.97it/s]\n"
          ]
        },
        {
          "output_type": "stream",
          "name": "stdout",
          "text": [
            "\t \tEpoch 79:, loss 0.056592, accuracy 0.979441\n",
            "EVAL: After epoch 79: step 316, loss 0.0186467, acc 0.776596\n",
            "\n",
            "Training epoch 80\n"
          ]
        },
        {
          "output_type": "stream",
          "name": "stderr",
          "text": [
            "4it [00:00, 15.99it/s]\n"
          ]
        },
        {
          "output_type": "stream",
          "name": "stdout",
          "text": [
            "\t \tEpoch 80:, loss 0.0557617, accuracy 0.988691\n",
            "EVAL: After epoch 80: step 320, loss 0.0187643, acc 0.777926\n",
            "\n",
            "Training epoch 81\n"
          ]
        },
        {
          "output_type": "stream",
          "name": "stderr",
          "text": [
            "4it [00:00, 14.20it/s]\n"
          ]
        },
        {
          "output_type": "stream",
          "name": "stdout",
          "text": [
            "\t \tEpoch 81:, loss 0.065257, accuracy 0.981724\n",
            "EVAL: After epoch 81: step 324, loss 0.0188979, acc 0.781915\n",
            "\n",
            "Training epoch 82\n"
          ]
        },
        {
          "output_type": "stream",
          "name": "stderr",
          "text": [
            "4it [00:00, 15.32it/s]\n"
          ]
        },
        {
          "output_type": "stream",
          "name": "stdout",
          "text": [
            "\t \tEpoch 82:, loss 0.0549189, accuracy 0.986972\n",
            "EVAL: After epoch 82: step 328, loss 0.0190285, acc 0.781915\n",
            "\n",
            "Training epoch 83\n"
          ]
        },
        {
          "output_type": "stream",
          "name": "stderr",
          "text": [
            "4it [00:00, 15.70it/s]\n"
          ]
        },
        {
          "output_type": "stream",
          "name": "stdout",
          "text": [
            "\t \tEpoch 83:, loss 0.0740208, accuracy 0.982715\n",
            "EVAL: After epoch 83: step 332, loss 0.0191669, acc 0.784574\n",
            "\n",
            "Training epoch 84\n"
          ]
        },
        {
          "output_type": "stream",
          "name": "stderr",
          "text": [
            "4it [00:00, 14.04it/s]\n"
          ]
        },
        {
          "output_type": "stream",
          "name": "stdout",
          "text": [
            "\t \tEpoch 84:, loss 0.0836426, accuracy 0.980043\n",
            "EVAL: After epoch 84: step 336, loss 0.019271, acc 0.783245\n",
            "\n",
            "Training epoch 85\n"
          ]
        },
        {
          "output_type": "stream",
          "name": "stderr",
          "text": [
            "4it [00:00, 13.28it/s]\n"
          ]
        },
        {
          "output_type": "stream",
          "name": "stdout",
          "text": [
            "\t \tEpoch 85:, loss 0.0641489, accuracy 0.975421\n",
            "EVAL: After epoch 85: step 340, loss 0.0192683, acc 0.783245\n",
            "\n",
            "Training epoch 86\n"
          ]
        },
        {
          "output_type": "stream",
          "name": "stderr",
          "text": [
            "4it [00:00, 13.95it/s]\n"
          ]
        },
        {
          "output_type": "stream",
          "name": "stdout",
          "text": [
            "\t \tEpoch 86:, loss 0.0507507, accuracy 0.986618\n",
            "EVAL: After epoch 86: step 344, loss 0.0192508, acc 0.780585\n",
            "\n",
            "Training epoch 87\n"
          ]
        },
        {
          "output_type": "stream",
          "name": "stderr",
          "text": [
            "4it [00:00, 14.89it/s]\n"
          ]
        },
        {
          "output_type": "stream",
          "name": "stdout",
          "text": [
            "\t \tEpoch 87:, loss 0.0509936, accuracy 0.989319\n",
            "EVAL: After epoch 87: step 348, loss 0.0192778, acc 0.783245\n",
            "\n",
            "Training epoch 88\n"
          ]
        },
        {
          "output_type": "stream",
          "name": "stderr",
          "text": [
            "4it [00:00, 14.45it/s]\n"
          ]
        },
        {
          "output_type": "stream",
          "name": "stdout",
          "text": [
            "\t \tEpoch 88:, loss 0.0750701, accuracy 0.976683\n",
            "EVAL: After epoch 88: step 352, loss 0.0193372, acc 0.784574\n",
            "\n",
            "Training epoch 89\n"
          ]
        },
        {
          "output_type": "stream",
          "name": "stderr",
          "text": [
            "4it [00:00, 15.30it/s]\n"
          ]
        },
        {
          "output_type": "stream",
          "name": "stdout",
          "text": [
            "\t \tEpoch 89:, loss 0.0531723, accuracy 0.986601\n",
            "EVAL: After epoch 89: step 356, loss 0.0194184, acc 0.783245\n",
            "\n",
            "Training epoch 90\n"
          ]
        },
        {
          "output_type": "stream",
          "name": "stderr",
          "text": [
            "4it [00:00, 12.78it/s]\n"
          ]
        },
        {
          "output_type": "stream",
          "name": "stdout",
          "text": [
            "\t \tEpoch 90:, loss 0.0525203, accuracy 0.986115\n",
            "EVAL: After epoch 90: step 360, loss 0.0194871, acc 0.783245\n",
            "\n",
            "Training epoch 91\n"
          ]
        },
        {
          "output_type": "stream",
          "name": "stderr",
          "text": [
            "4it [00:00, 15.14it/s]\n"
          ]
        },
        {
          "output_type": "stream",
          "name": "stdout",
          "text": [
            "\t \tEpoch 91:, loss 0.0512253, accuracy 0.980285\n",
            "EVAL: After epoch 91: step 364, loss 0.0195725, acc 0.781915\n",
            "\n",
            "Training epoch 92\n"
          ]
        },
        {
          "output_type": "stream",
          "name": "stderr",
          "text": [
            "4it [00:00, 14.69it/s]\n"
          ]
        },
        {
          "output_type": "stream",
          "name": "stdout",
          "text": [
            "\t \tEpoch 92:, loss 0.045574, accuracy 0.986918\n",
            "EVAL: After epoch 92: step 368, loss 0.0196915, acc 0.781915\n",
            "\n",
            "Training epoch 93\n"
          ]
        },
        {
          "output_type": "stream",
          "name": "stderr",
          "text": [
            "4it [00:00, 13.93it/s]\n"
          ]
        },
        {
          "output_type": "stream",
          "name": "stdout",
          "text": [
            "\t \tEpoch 93:, loss 0.0479667, accuracy 0.98925\n",
            "EVAL: After epoch 93: step 372, loss 0.0197903, acc 0.780585\n",
            "\n",
            "Training epoch 94\n"
          ]
        },
        {
          "output_type": "stream",
          "name": "stderr",
          "text": [
            "4it [00:00, 13.62it/s]\n"
          ]
        },
        {
          "output_type": "stream",
          "name": "stdout",
          "text": [
            "\t \tEpoch 94:, loss 0.0631251, accuracy 0.978969\n",
            "EVAL: After epoch 94: step 376, loss 0.0198706, acc 0.780585\n",
            "\n",
            "Training epoch 95\n"
          ]
        },
        {
          "output_type": "stream",
          "name": "stderr",
          "text": [
            "4it [00:00, 13.88it/s]\n"
          ]
        },
        {
          "output_type": "stream",
          "name": "stdout",
          "text": [
            "\t \tEpoch 95:, loss 0.04674, accuracy 0.987604\n",
            "EVAL: After epoch 95: step 380, loss 0.0199376, acc 0.781915\n",
            "\n",
            "Training epoch 96\n"
          ]
        },
        {
          "output_type": "stream",
          "name": "stderr",
          "text": [
            "4it [00:00, 15.13it/s]\n"
          ]
        },
        {
          "output_type": "stream",
          "name": "stdout",
          "text": [
            "\t \tEpoch 96:, loss 0.0464871, accuracy 0.983572\n",
            "EVAL: After epoch 96: step 384, loss 0.0200343, acc 0.781915\n",
            "\n",
            "Training epoch 97\n"
          ]
        },
        {
          "output_type": "stream",
          "name": "stderr",
          "text": [
            "4it [00:00, 14.37it/s]\n"
          ]
        },
        {
          "output_type": "stream",
          "name": "stdout",
          "text": [
            "\t \tEpoch 97:, loss 0.0603377, accuracy 0.976348\n",
            "EVAL: After epoch 97: step 388, loss 0.0201226, acc 0.780585\n",
            "\n",
            "Training epoch 98\n"
          ]
        },
        {
          "output_type": "stream",
          "name": "stderr",
          "text": [
            "4it [00:00, 14.37it/s]\n"
          ]
        },
        {
          "output_type": "stream",
          "name": "stdout",
          "text": [
            "\t \tEpoch 98:, loss 0.0456529, accuracy 0.987096\n",
            "EVAL: After epoch 98: step 392, loss 0.0201812, acc 0.779255\n",
            "\n",
            "Training epoch 99\n"
          ]
        },
        {
          "output_type": "stream",
          "name": "stderr",
          "text": [
            "4it [00:00, 14.85it/s]\n"
          ]
        },
        {
          "output_type": "stream",
          "name": "stdout",
          "text": [
            "\t \tEpoch 99:, loss 0.0519192, accuracy 0.983148\n",
            "EVAL: After epoch 99: step 396, loss 0.0202397, acc 0.779255\n",
            "\n",
            "Training epoch 100\n"
          ]
        },
        {
          "output_type": "stream",
          "name": "stderr",
          "text": [
            "4it [00:00, 15.11it/s]\n"
          ]
        },
        {
          "output_type": "stream",
          "name": "stdout",
          "text": [
            "\t \tEpoch 100:, loss 0.0508308, accuracy 0.98794\n",
            "EVAL: After epoch 100: step 400, loss 0.0203122, acc 0.779255\n",
            "\n",
            "\n",
            "Best epoch: 40\n",
            "Best test accuracy: 0.8045212626457214\n",
            "\n",
            "\n",
            "Best epoch: 37\n",
            "Best test loss: 0.014292812155139062\n",
            "('starting unimodal ', 'audio')\n",
            "train_label shape (62, 63)\n",
            "test_label shape (31, 63)\n",
            "1\n",
            "1\n",
            "maxlen 1\n",
            "train [[[1. 0.]\n",
            "  [1. 0.]\n",
            "  [1. 0.]\n",
            "  ...\n",
            "  [1. 0.]\n",
            "  [1. 0.]\n",
            "  [1. 0.]]\n",
            "\n",
            " [[0. 1.]\n",
            "  [1. 0.]\n",
            "  [1. 0.]\n",
            "  ...\n",
            "  [1. 0.]\n",
            "  [1. 0.]\n",
            "  [1. 0.]]\n",
            "\n",
            " [[1. 0.]\n",
            "  [1. 0.]\n",
            "  [0. 1.]\n",
            "  ...\n",
            "  [1. 0.]\n",
            "  [1. 0.]\n",
            "  [1. 0.]]\n",
            "\n",
            " ...\n",
            "\n",
            " [[0. 1.]\n",
            "  [0. 1.]\n",
            "  [1. 0.]\n",
            "  ...\n",
            "  [1. 0.]\n",
            "  [1. 0.]\n",
            "  [1. 0.]]\n",
            "\n",
            " [[0. 1.]\n",
            "  [1. 0.]\n",
            "  [0. 1.]\n",
            "  ...\n",
            "  [1. 0.]\n",
            "  [1. 0.]\n",
            "  [1. 0.]]\n",
            "\n",
            " [[1. 0.]\n",
            "  [0. 1.]\n",
            "  [0. 1.]\n",
            "  ...\n",
            "  [1. 0.]\n",
            "  [1. 0.]\n",
            "  [1. 0.]]]\n",
            "test [[[1. 0.]\n",
            "  [0. 1.]\n",
            "  [0. 1.]\n",
            "  ...\n",
            "  [1. 0.]\n",
            "  [1. 0.]\n",
            "  [1. 0.]]\n",
            "\n",
            " [[1. 0.]\n",
            "  [0. 1.]\n",
            "  [0. 1.]\n",
            "  ...\n",
            "  [1. 0.]\n",
            "  [1. 0.]\n",
            "  [1. 0.]]\n",
            "\n",
            " [[0. 1.]\n",
            "  [1. 0.]\n",
            "  [1. 0.]\n",
            "  ...\n",
            "  [1. 0.]\n",
            "  [1. 0.]\n",
            "  [1. 0.]]\n",
            "\n",
            " ...\n",
            "\n",
            " [[0. 1.]\n",
            "  [1. 0.]\n",
            "  [0. 1.]\n",
            "  ...\n",
            "  [1. 0.]\n",
            "  [1. 0.]\n",
            "  [1. 0.]]\n",
            "\n",
            " [[1. 0.]\n",
            "  [1. 0.]\n",
            "  [1. 0.]\n",
            "  ...\n",
            "  [1. 0.]\n",
            "  [1. 0.]\n",
            "  [1. 0.]]\n",
            "\n",
            " [[0. 1.]\n",
            "  [0. 1.]\n",
            "  [0. 1.]\n",
            "  ...\n",
            "  [1. 0.]\n",
            "  [1. 0.]\n",
            "  [1. 0.]]]\n",
            "train_mask (62, 63)\n",
            "seqlen_train (62,)\n",
            "seqlen_test (31,)\n",
            "Using GPU -  /device:GPU:0\n",
            "Trainable parameters: 72502\n",
            "\n",
            "Evaluation before training:\n",
            "EVAL: epoch 0: step 0, loss 0.736986, acc 0.621011\n",
            "\n",
            "Training epoch 1\n"
          ]
        },
        {
          "output_type": "stream",
          "name": "stderr",
          "text": [
            "\r0it [00:00, ?it/s]/usr/local/lib/python3.7/dist-packages/ipykernel_launcher.py:5: VisibleDeprecationWarning: Creating an ndarray from ragged nested sequences (which is a list-or-tuple of lists-or-tuples-or ndarrays with different lengths or shapes) is deprecated. If you meant to do this, you must specify 'dtype=object' when creating the ndarray.\n",
            "  \"\"\"\n",
            "4it [00:00,  5.65it/s]\n"
          ]
        },
        {
          "output_type": "stream",
          "name": "stdout",
          "text": [
            "\t \tEpoch 1:, loss 1.0994, accuracy 0.498207\n",
            "EVAL: After epoch 1: step 4, loss 0.0219534, acc 0.621011\n",
            "\n",
            "Training epoch 2\n"
          ]
        },
        {
          "output_type": "stream",
          "name": "stderr",
          "text": [
            "4it [00:00, 18.77it/s]\n"
          ]
        },
        {
          "output_type": "stream",
          "name": "stdout",
          "text": [
            "\t \tEpoch 2:, loss 0.973741, accuracy 0.520393\n",
            "EVAL: After epoch 2: step 8, loss 0.0216282, acc 0.609043\n",
            "\n",
            "Training epoch 3\n"
          ]
        },
        {
          "output_type": "stream",
          "name": "stderr",
          "text": [
            "4it [00:00, 17.23it/s]\n"
          ]
        },
        {
          "output_type": "stream",
          "name": "stdout",
          "text": [
            "\t \tEpoch 3:, loss 0.891861, accuracy 0.515927\n",
            "EVAL: After epoch 3: step 12, loss 0.0224606, acc 0.515957\n",
            "\n",
            "Training epoch 4\n"
          ]
        },
        {
          "output_type": "stream",
          "name": "stderr",
          "text": [
            "4it [00:00, 19.41it/s]\n"
          ]
        },
        {
          "output_type": "stream",
          "name": "stdout",
          "text": [
            "\t \tEpoch 4:, loss 0.921843, accuracy 0.484744\n",
            "EVAL: After epoch 4: step 16, loss 0.0241136, acc 0.389628\n",
            "\n",
            "Training epoch 5\n"
          ]
        },
        {
          "output_type": "stream",
          "name": "stderr",
          "text": [
            "4it [00:00, 18.02it/s]\n"
          ]
        },
        {
          "output_type": "stream",
          "name": "stdout",
          "text": [
            "\t \tEpoch 5:, loss 0.90491, accuracy 0.513552\n",
            "EVAL: After epoch 5: step 20, loss 0.0260334, acc 0.381649\n",
            "\n",
            "Training epoch 6\n"
          ]
        },
        {
          "output_type": "stream",
          "name": "stderr",
          "text": [
            "4it [00:00, 19.28it/s]\n"
          ]
        },
        {
          "output_type": "stream",
          "name": "stdout",
          "text": [
            "\t \tEpoch 6:, loss 0.843807, accuracy 0.527683\n",
            "EVAL: After epoch 6: step 24, loss 0.0275171, acc 0.378989\n",
            "\n",
            "Training epoch 7\n"
          ]
        },
        {
          "output_type": "stream",
          "name": "stderr",
          "text": [
            "4it [00:00, 15.16it/s]\n"
          ]
        },
        {
          "output_type": "stream",
          "name": "stdout",
          "text": [
            "\t \tEpoch 7:, loss 0.842218, accuracy 0.531569\n",
            "EVAL: After epoch 7: step 28, loss 0.0283907, acc 0.378989\n",
            "\n",
            "Training epoch 8\n"
          ]
        },
        {
          "output_type": "stream",
          "name": "stderr",
          "text": [
            "4it [00:00, 18.64it/s]\n"
          ]
        },
        {
          "output_type": "stream",
          "name": "stdout",
          "text": [
            "\t \tEpoch 8:, loss 0.904611, accuracy 0.509795\n",
            "EVAL: After epoch 8: step 32, loss 0.0287109, acc 0.378989\n",
            "\n",
            "Training epoch 9\n"
          ]
        },
        {
          "output_type": "stream",
          "name": "stderr",
          "text": [
            "4it [00:00, 19.02it/s]\n"
          ]
        },
        {
          "output_type": "stream",
          "name": "stdout",
          "text": [
            "\t \tEpoch 9:, loss 0.900781, accuracy 0.509111\n",
            "EVAL: After epoch 9: step 36, loss 0.0281752, acc 0.378989\n",
            "\n",
            "Training epoch 10\n"
          ]
        },
        {
          "output_type": "stream",
          "name": "stderr",
          "text": [
            "4it [00:00, 16.74it/s]\n"
          ]
        },
        {
          "output_type": "stream",
          "name": "stdout",
          "text": [
            "\t \tEpoch 10:, loss 0.861628, accuracy 0.489555\n",
            "EVAL: After epoch 10: step 40, loss 0.0274049, acc 0.378989\n",
            "\n",
            "Training epoch 11\n"
          ]
        },
        {
          "output_type": "stream",
          "name": "stderr",
          "text": [
            "4it [00:00, 17.97it/s]\n"
          ]
        },
        {
          "output_type": "stream",
          "name": "stdout",
          "text": [
            "\t \tEpoch 11:, loss 0.915673, accuracy 0.487365\n",
            "EVAL: After epoch 11: step 44, loss 0.0266595, acc 0.380319\n",
            "\n",
            "Training epoch 12\n"
          ]
        },
        {
          "output_type": "stream",
          "name": "stderr",
          "text": [
            "4it [00:00, 18.97it/s]\n"
          ]
        },
        {
          "output_type": "stream",
          "name": "stdout",
          "text": [
            "\t \tEpoch 12:, loss 0.891151, accuracy 0.46751\n",
            "EVAL: After epoch 12: step 48, loss 0.0259636, acc 0.381649\n",
            "\n",
            "Training epoch 13\n"
          ]
        },
        {
          "output_type": "stream",
          "name": "stderr",
          "text": [
            "4it [00:00, 17.57it/s]\n"
          ]
        },
        {
          "output_type": "stream",
          "name": "stdout",
          "text": [
            "\t \tEpoch 13:, loss 0.835825, accuracy 0.528168\n",
            "EVAL: After epoch 13: step 52, loss 0.0255251, acc 0.381649\n",
            "\n",
            "Training epoch 14\n"
          ]
        },
        {
          "output_type": "stream",
          "name": "stderr",
          "text": [
            "4it [00:00, 17.91it/s]\n"
          ]
        },
        {
          "output_type": "stream",
          "name": "stdout",
          "text": [
            "\t \tEpoch 14:, loss 0.910811, accuracy 0.485915\n",
            "EVAL: After epoch 14: step 56, loss 0.025831, acc 0.380319\n",
            "\n",
            "Training epoch 15\n"
          ]
        },
        {
          "output_type": "stream",
          "name": "stderr",
          "text": [
            "4it [00:00, 19.40it/s]\n"
          ]
        },
        {
          "output_type": "stream",
          "name": "stdout",
          "text": [
            "\t \tEpoch 15:, loss 0.904626, accuracy 0.4623\n",
            "EVAL: After epoch 15: step 60, loss 0.0262213, acc 0.378989\n",
            "\n",
            "Training epoch 16\n"
          ]
        },
        {
          "output_type": "stream",
          "name": "stderr",
          "text": [
            "4it [00:00, 19.18it/s]\n"
          ]
        },
        {
          "output_type": "stream",
          "name": "stdout",
          "text": [
            "\t \tEpoch 16:, loss 0.77583, accuracy 0.571436\n",
            "EVAL: After epoch 16: step 64, loss 0.0259329, acc 0.380319\n",
            "\n",
            "Training epoch 17\n"
          ]
        },
        {
          "output_type": "stream",
          "name": "stderr",
          "text": [
            "4it [00:00, 18.93it/s]\n"
          ]
        },
        {
          "output_type": "stream",
          "name": "stdout",
          "text": [
            "\t \tEpoch 17:, loss 0.836468, accuracy 0.540721\n",
            "EVAL: After epoch 17: step 68, loss 0.025485, acc 0.378989\n",
            "\n",
            "Training epoch 18\n"
          ]
        },
        {
          "output_type": "stream",
          "name": "stderr",
          "text": [
            "4it [00:00, 17.53it/s]\n"
          ]
        },
        {
          "output_type": "stream",
          "name": "stdout",
          "text": [
            "\t \tEpoch 18:, loss 0.820822, accuracy 0.522256\n",
            "EVAL: After epoch 18: step 72, loss 0.0251806, acc 0.381649\n",
            "\n",
            "Training epoch 19\n"
          ]
        },
        {
          "output_type": "stream",
          "name": "stderr",
          "text": [
            "4it [00:00, 19.34it/s]\n"
          ]
        },
        {
          "output_type": "stream",
          "name": "stdout",
          "text": [
            "\t \tEpoch 19:, loss 0.821562, accuracy 0.517463\n",
            "EVAL: After epoch 19: step 76, loss 0.0248864, acc 0.380319\n",
            "\n",
            "Training epoch 20\n"
          ]
        },
        {
          "output_type": "stream",
          "name": "stderr",
          "text": [
            "4it [00:00, 19.05it/s]\n"
          ]
        },
        {
          "output_type": "stream",
          "name": "stdout",
          "text": [
            "\t \tEpoch 20:, loss 0.891674, accuracy 0.475242\n",
            "EVAL: After epoch 20: step 80, loss 0.0248169, acc 0.37766\n",
            "\n",
            "Training epoch 21\n"
          ]
        },
        {
          "output_type": "stream",
          "name": "stderr",
          "text": [
            "4it [00:00, 18.70it/s]\n"
          ]
        },
        {
          "output_type": "stream",
          "name": "stdout",
          "text": [
            "\t \tEpoch 21:, loss 0.845292, accuracy 0.498438\n",
            "EVAL: After epoch 21: step 84, loss 0.0250986, acc 0.380319\n",
            "\n",
            "Training epoch 22\n"
          ]
        },
        {
          "output_type": "stream",
          "name": "stderr",
          "text": [
            "4it [00:00, 16.54it/s]\n"
          ]
        },
        {
          "output_type": "stream",
          "name": "stdout",
          "text": [
            "\t \tEpoch 22:, loss 0.860877, accuracy 0.503389\n",
            "EVAL: After epoch 22: step 88, loss 0.0255332, acc 0.378989\n",
            "\n",
            "Training epoch 23\n"
          ]
        },
        {
          "output_type": "stream",
          "name": "stderr",
          "text": [
            "4it [00:00, 17.71it/s]\n"
          ]
        },
        {
          "output_type": "stream",
          "name": "stdout",
          "text": [
            "\t \tEpoch 23:, loss 0.84613, accuracy 0.497163\n",
            "EVAL: After epoch 23: step 92, loss 0.025914, acc 0.378989\n",
            "\n",
            "Training epoch 24\n"
          ]
        },
        {
          "output_type": "stream",
          "name": "stderr",
          "text": [
            "4it [00:00, 17.66it/s]\n"
          ]
        },
        {
          "output_type": "stream",
          "name": "stdout",
          "text": [
            "\t \tEpoch 24:, loss 0.849241, accuracy 0.488369\n",
            "EVAL: After epoch 24: step 96, loss 0.0264134, acc 0.378989\n",
            "\n",
            "Training epoch 25\n"
          ]
        },
        {
          "output_type": "stream",
          "name": "stderr",
          "text": [
            "4it [00:00, 18.08it/s]\n"
          ]
        },
        {
          "output_type": "stream",
          "name": "stdout",
          "text": [
            "\t \tEpoch 25:, loss 0.851198, accuracy 0.473613\n",
            "EVAL: After epoch 25: step 100, loss 0.0265409, acc 0.378989\n",
            "\n",
            "Training epoch 26\n"
          ]
        },
        {
          "output_type": "stream",
          "name": "stderr",
          "text": [
            "4it [00:00, 17.74it/s]\n"
          ]
        },
        {
          "output_type": "stream",
          "name": "stdout",
          "text": [
            "\t \tEpoch 26:, loss 0.816163, accuracy 0.510949\n",
            "EVAL: After epoch 26: step 104, loss 0.0264695, acc 0.378989\n",
            "\n",
            "Training epoch 27\n"
          ]
        },
        {
          "output_type": "stream",
          "name": "stderr",
          "text": [
            "4it [00:00, 17.90it/s]\n"
          ]
        },
        {
          "output_type": "stream",
          "name": "stdout",
          "text": [
            "\t \tEpoch 27:, loss 0.861811, accuracy 0.487633\n",
            "EVAL: After epoch 27: step 108, loss 0.0260599, acc 0.378989\n",
            "\n",
            "Training epoch 28\n"
          ]
        },
        {
          "output_type": "stream",
          "name": "stderr",
          "text": [
            "4it [00:00, 18.12it/s]\n"
          ]
        },
        {
          "output_type": "stream",
          "name": "stdout",
          "text": [
            "\t \tEpoch 28:, loss 0.827222, accuracy 0.538954\n",
            "EVAL: After epoch 28: step 112, loss 0.0256936, acc 0.378989\n",
            "\n",
            "Training epoch 29\n"
          ]
        },
        {
          "output_type": "stream",
          "name": "stderr",
          "text": [
            "4it [00:00, 16.67it/s]\n"
          ]
        },
        {
          "output_type": "stream",
          "name": "stdout",
          "text": [
            "\t \tEpoch 29:, loss 0.828462, accuracy 0.502488\n",
            "EVAL: After epoch 29: step 116, loss 0.0252463, acc 0.378989\n",
            "\n",
            "Training epoch 30\n"
          ]
        },
        {
          "output_type": "stream",
          "name": "stderr",
          "text": [
            "4it [00:00, 17.99it/s]\n"
          ]
        },
        {
          "output_type": "stream",
          "name": "stdout",
          "text": [
            "\t \tEpoch 30:, loss 0.816352, accuracy 0.5003\n",
            "EVAL: After epoch 30: step 120, loss 0.0245804, acc 0.378989\n",
            "\n",
            "Training epoch 31\n"
          ]
        },
        {
          "output_type": "stream",
          "name": "stderr",
          "text": [
            "4it [00:00, 17.80it/s]\n"
          ]
        },
        {
          "output_type": "stream",
          "name": "stdout",
          "text": [
            "\t \tEpoch 31:, loss 0.80903, accuracy 0.504922\n",
            "EVAL: After epoch 31: step 124, loss 0.0244004, acc 0.378989\n",
            "\n",
            "Training epoch 32\n"
          ]
        },
        {
          "output_type": "stream",
          "name": "stderr",
          "text": [
            "4it [00:00, 18.20it/s]\n"
          ]
        },
        {
          "output_type": "stream",
          "name": "stdout",
          "text": [
            "\t \tEpoch 32:, loss 0.781, accuracy 0.525679\n",
            "EVAL: After epoch 32: step 128, loss 0.0246727, acc 0.37633\n",
            "\n",
            "Training epoch 33\n"
          ]
        },
        {
          "output_type": "stream",
          "name": "stderr",
          "text": [
            "4it [00:00, 18.16it/s]\n"
          ]
        },
        {
          "output_type": "stream",
          "name": "stdout",
          "text": [
            "\t \tEpoch 33:, loss 0.822306, accuracy 0.471439\n",
            "EVAL: After epoch 33: step 132, loss 0.0249891, acc 0.378989\n",
            "\n",
            "Training epoch 34\n"
          ]
        },
        {
          "output_type": "stream",
          "name": "stderr",
          "text": [
            "4it [00:00, 18.70it/s]\n"
          ]
        },
        {
          "output_type": "stream",
          "name": "stdout",
          "text": [
            "\t \tEpoch 34:, loss 0.771598, accuracy 0.527177\n",
            "EVAL: After epoch 34: step 136, loss 0.02512, acc 0.378989\n",
            "\n",
            "Training epoch 35\n"
          ]
        },
        {
          "output_type": "stream",
          "name": "stderr",
          "text": [
            "4it [00:00, 19.09it/s]\n"
          ]
        },
        {
          "output_type": "stream",
          "name": "stdout",
          "text": [
            "\t \tEpoch 35:, loss 0.825587, accuracy 0.497742\n",
            "EVAL: After epoch 35: step 140, loss 0.0249389, acc 0.378989\n",
            "\n",
            "Training epoch 36\n"
          ]
        },
        {
          "output_type": "stream",
          "name": "stderr",
          "text": [
            "4it [00:00, 16.36it/s]\n"
          ]
        },
        {
          "output_type": "stream",
          "name": "stdout",
          "text": [
            "\t \tEpoch 36:, loss 0.782799, accuracy 0.5142\n",
            "EVAL: After epoch 36: step 144, loss 0.0245433, acc 0.37633\n",
            "\n",
            "Training epoch 37\n"
          ]
        },
        {
          "output_type": "stream",
          "name": "stderr",
          "text": [
            "4it [00:00, 18.11it/s]\n"
          ]
        },
        {
          "output_type": "stream",
          "name": "stdout",
          "text": [
            "\t \tEpoch 37:, loss 0.801885, accuracy 0.488889\n",
            "EVAL: After epoch 37: step 148, loss 0.0241011, acc 0.378989\n",
            "\n",
            "Training epoch 38\n"
          ]
        },
        {
          "output_type": "stream",
          "name": "stderr",
          "text": [
            "4it [00:00, 17.37it/s]\n"
          ]
        },
        {
          "output_type": "stream",
          "name": "stdout",
          "text": [
            "\t \tEpoch 38:, loss 0.787397, accuracy 0.528007\n",
            "EVAL: After epoch 38: step 152, loss 0.023964, acc 0.380319\n",
            "\n",
            "Training epoch 39\n"
          ]
        },
        {
          "output_type": "stream",
          "name": "stderr",
          "text": [
            "4it [00:00, 17.55it/s]\n"
          ]
        },
        {
          "output_type": "stream",
          "name": "stdout",
          "text": [
            "\t \tEpoch 39:, loss 0.822681, accuracy 0.501577\n",
            "EVAL: After epoch 39: step 156, loss 0.0241949, acc 0.37766\n",
            "\n",
            "Training epoch 40\n"
          ]
        },
        {
          "output_type": "stream",
          "name": "stderr",
          "text": [
            "4it [00:00, 16.79it/s]\n"
          ]
        },
        {
          "output_type": "stream",
          "name": "stdout",
          "text": [
            "\t \tEpoch 40:, loss 0.801373, accuracy 0.52237\n",
            "EVAL: After epoch 40: step 160, loss 0.0240975, acc 0.37766\n",
            "\n",
            "Training epoch 41\n"
          ]
        },
        {
          "output_type": "stream",
          "name": "stderr",
          "text": [
            "4it [00:00, 18.67it/s]\n"
          ]
        },
        {
          "output_type": "stream",
          "name": "stdout",
          "text": [
            "\t \tEpoch 41:, loss 0.795836, accuracy 0.508485\n",
            "EVAL: After epoch 41: step 164, loss 0.0241518, acc 0.37766\n",
            "\n",
            "Training epoch 42\n"
          ]
        },
        {
          "output_type": "stream",
          "name": "stderr",
          "text": [
            "4it [00:00, 18.21it/s]\n"
          ]
        },
        {
          "output_type": "stream",
          "name": "stdout",
          "text": [
            "\t \tEpoch 42:, loss 0.780918, accuracy 0.509354\n",
            "EVAL: After epoch 42: step 168, loss 0.0241552, acc 0.37633\n",
            "\n",
            "Training epoch 43\n"
          ]
        },
        {
          "output_type": "stream",
          "name": "stderr",
          "text": [
            "4it [00:00, 17.11it/s]\n"
          ]
        },
        {
          "output_type": "stream",
          "name": "stdout",
          "text": [
            "\t \tEpoch 43:, loss 0.788743, accuracy 0.505724\n",
            "EVAL: After epoch 43: step 172, loss 0.024254, acc 0.378989\n",
            "\n",
            "Training epoch 44\n"
          ]
        },
        {
          "output_type": "stream",
          "name": "stderr",
          "text": [
            "4it [00:00, 18.13it/s]\n"
          ]
        },
        {
          "output_type": "stream",
          "name": "stdout",
          "text": [
            "\t \tEpoch 44:, loss 0.771516, accuracy 0.533337\n",
            "EVAL: After epoch 44: step 176, loss 0.0240988, acc 0.378989\n",
            "\n",
            "Training epoch 45\n"
          ]
        },
        {
          "output_type": "stream",
          "name": "stderr",
          "text": [
            "4it [00:00, 15.51it/s]\n"
          ]
        },
        {
          "output_type": "stream",
          "name": "stdout",
          "text": [
            "\t \tEpoch 45:, loss 0.801681, accuracy 0.506018\n",
            "EVAL: After epoch 45: step 180, loss 0.0239099, acc 0.378989\n",
            "\n",
            "Training epoch 46\n"
          ]
        },
        {
          "output_type": "stream",
          "name": "stderr",
          "text": [
            "4it [00:00, 17.18it/s]\n"
          ]
        },
        {
          "output_type": "stream",
          "name": "stdout",
          "text": [
            "\t \tEpoch 46:, loss 0.782825, accuracy 0.497181\n",
            "EVAL: After epoch 46: step 184, loss 0.0239312, acc 0.378989\n",
            "\n",
            "Training epoch 47\n"
          ]
        },
        {
          "output_type": "stream",
          "name": "stderr",
          "text": [
            "4it [00:00, 17.02it/s]\n"
          ]
        },
        {
          "output_type": "stream",
          "name": "stdout",
          "text": [
            "\t \tEpoch 47:, loss 0.840252, accuracy 0.470436\n",
            "EVAL: After epoch 47: step 188, loss 0.0241992, acc 0.380319\n",
            "\n",
            "Training epoch 48\n"
          ]
        },
        {
          "output_type": "stream",
          "name": "stderr",
          "text": [
            "4it [00:00, 17.68it/s]\n"
          ]
        },
        {
          "output_type": "stream",
          "name": "stdout",
          "text": [
            "\t \tEpoch 48:, loss 0.77758, accuracy 0.492359\n",
            "EVAL: After epoch 48: step 192, loss 0.024564, acc 0.378989\n",
            "\n",
            "Training epoch 49\n"
          ]
        },
        {
          "output_type": "stream",
          "name": "stderr",
          "text": [
            "4it [00:00, 17.69it/s]\n"
          ]
        },
        {
          "output_type": "stream",
          "name": "stdout",
          "text": [
            "\t \tEpoch 49:, loss 0.795465, accuracy 0.488513\n",
            "EVAL: After epoch 49: step 196, loss 0.0247602, acc 0.378989\n",
            "\n",
            "Training epoch 50\n"
          ]
        },
        {
          "output_type": "stream",
          "name": "stderr",
          "text": [
            "4it [00:00, 19.49it/s]\n"
          ]
        },
        {
          "output_type": "stream",
          "name": "stdout",
          "text": [
            "\t \tEpoch 50:, loss 0.765287, accuracy 0.512601\n",
            "EVAL: After epoch 50: step 200, loss 0.0250261, acc 0.378989\n",
            "\n",
            "Training epoch 51\n"
          ]
        },
        {
          "output_type": "stream",
          "name": "stderr",
          "text": [
            "4it [00:00, 18.81it/s]\n"
          ]
        },
        {
          "output_type": "stream",
          "name": "stdout",
          "text": [
            "\t \tEpoch 51:, loss 0.795935, accuracy 0.48411\n",
            "EVAL: After epoch 51: step 204, loss 0.0250364, acc 0.378989\n",
            "\n",
            "Training epoch 52\n"
          ]
        },
        {
          "output_type": "stream",
          "name": "stderr",
          "text": [
            "4it [00:00, 17.89it/s]\n"
          ]
        },
        {
          "output_type": "stream",
          "name": "stdout",
          "text": [
            "\t \tEpoch 52:, loss 0.775998, accuracy 0.495867\n",
            "EVAL: After epoch 52: step 208, loss 0.0245665, acc 0.378989\n",
            "\n",
            "Training epoch 53\n"
          ]
        },
        {
          "output_type": "stream",
          "name": "stderr",
          "text": [
            "4it [00:00, 17.62it/s]\n"
          ]
        },
        {
          "output_type": "stream",
          "name": "stdout",
          "text": [
            "\t \tEpoch 53:, loss 0.761013, accuracy 0.52583\n",
            "EVAL: After epoch 53: step 212, loss 0.0239971, acc 0.380319\n",
            "\n",
            "Training epoch 54\n"
          ]
        },
        {
          "output_type": "stream",
          "name": "stderr",
          "text": [
            "4it [00:00, 17.03it/s]\n"
          ]
        },
        {
          "output_type": "stream",
          "name": "stdout",
          "text": [
            "\t \tEpoch 54:, loss 0.797696, accuracy 0.505046\n",
            "EVAL: After epoch 54: step 216, loss 0.0238746, acc 0.380319\n",
            "\n",
            "Training epoch 55\n"
          ]
        },
        {
          "output_type": "stream",
          "name": "stderr",
          "text": [
            "4it [00:00, 18.50it/s]\n"
          ]
        },
        {
          "output_type": "stream",
          "name": "stdout",
          "text": [
            "\t \tEpoch 55:, loss 0.781015, accuracy 0.492439\n",
            "EVAL: After epoch 55: step 220, loss 0.0239147, acc 0.380319\n",
            "\n",
            "Training epoch 56\n"
          ]
        },
        {
          "output_type": "stream",
          "name": "stderr",
          "text": [
            "4it [00:00, 19.24it/s]\n"
          ]
        },
        {
          "output_type": "stream",
          "name": "stdout",
          "text": [
            "\t \tEpoch 56:, loss 0.797546, accuracy 0.494625\n",
            "EVAL: After epoch 56: step 224, loss 0.0237842, acc 0.37766\n",
            "\n",
            "Training epoch 57\n"
          ]
        },
        {
          "output_type": "stream",
          "name": "stderr",
          "text": [
            "4it [00:00, 17.46it/s]\n"
          ]
        },
        {
          "output_type": "stream",
          "name": "stdout",
          "text": [
            "\t \tEpoch 57:, loss 0.747356, accuracy 0.500157\n",
            "EVAL: After epoch 57: step 228, loss 0.0235921, acc 0.378989\n",
            "\n",
            "Training epoch 58\n"
          ]
        },
        {
          "output_type": "stream",
          "name": "stderr",
          "text": [
            "4it [00:00, 17.69it/s]\n"
          ]
        },
        {
          "output_type": "stream",
          "name": "stdout",
          "text": [
            "\t \tEpoch 58:, loss 0.768592, accuracy 0.490599\n",
            "EVAL: After epoch 58: step 232, loss 0.023347, acc 0.384309\n",
            "\n",
            "Training epoch 59\n"
          ]
        },
        {
          "output_type": "stream",
          "name": "stderr",
          "text": [
            "4it [00:00, 17.49it/s]\n"
          ]
        },
        {
          "output_type": "stream",
          "name": "stdout",
          "text": [
            "\t \tEpoch 59:, loss 0.766063, accuracy 0.52013\n",
            "EVAL: After epoch 59: step 236, loss 0.0233361, acc 0.385638\n",
            "\n",
            "Training epoch 60\n"
          ]
        },
        {
          "output_type": "stream",
          "name": "stderr",
          "text": [
            "4it [00:00, 19.68it/s]\n"
          ]
        },
        {
          "output_type": "stream",
          "name": "stdout",
          "text": [
            "\t \tEpoch 60:, loss 0.794011, accuracy 0.495664\n",
            "EVAL: After epoch 60: step 240, loss 0.0232393, acc 0.386968\n",
            "\n",
            "Training epoch 61\n"
          ]
        },
        {
          "output_type": "stream",
          "name": "stderr",
          "text": [
            "4it [00:00, 18.78it/s]\n"
          ]
        },
        {
          "output_type": "stream",
          "name": "stdout",
          "text": [
            "\t \tEpoch 61:, loss 0.786489, accuracy 0.487407\n",
            "EVAL: After epoch 61: step 244, loss 0.0233422, acc 0.384309\n",
            "\n",
            "Training epoch 62\n"
          ]
        },
        {
          "output_type": "stream",
          "name": "stderr",
          "text": [
            "4it [00:00, 17.90it/s]\n"
          ]
        },
        {
          "output_type": "stream",
          "name": "stdout",
          "text": [
            "\t \tEpoch 62:, loss 0.798798, accuracy 0.482662\n",
            "EVAL: After epoch 62: step 248, loss 0.0236637, acc 0.37766\n",
            "\n",
            "Training epoch 63\n"
          ]
        },
        {
          "output_type": "stream",
          "name": "stderr",
          "text": [
            "4it [00:00, 18.11it/s]\n"
          ]
        },
        {
          "output_type": "stream",
          "name": "stdout",
          "text": [
            "\t \tEpoch 63:, loss 0.785024, accuracy 0.493552\n",
            "EVAL: After epoch 63: step 252, loss 0.0241958, acc 0.378989\n",
            "\n",
            "Training epoch 64\n"
          ]
        },
        {
          "output_type": "stream",
          "name": "stderr",
          "text": [
            "4it [00:00, 18.12it/s]\n"
          ]
        },
        {
          "output_type": "stream",
          "name": "stdout",
          "text": [
            "\t \tEpoch 64:, loss 0.751514, accuracy 0.533032\n",
            "EVAL: After epoch 64: step 256, loss 0.0246815, acc 0.378989\n",
            "\n",
            "Training epoch 65\n"
          ]
        },
        {
          "output_type": "stream",
          "name": "stderr",
          "text": [
            "4it [00:00, 19.29it/s]\n"
          ]
        },
        {
          "output_type": "stream",
          "name": "stdout",
          "text": [
            "\t \tEpoch 65:, loss 0.767845, accuracy 0.500213\n",
            "EVAL: After epoch 65: step 260, loss 0.0249296, acc 0.378989\n",
            "\n",
            "Training epoch 66\n"
          ]
        },
        {
          "output_type": "stream",
          "name": "stderr",
          "text": [
            "4it [00:00, 19.48it/s]\n"
          ]
        },
        {
          "output_type": "stream",
          "name": "stdout",
          "text": [
            "\t \tEpoch 66:, loss 0.760451, accuracy 0.515273\n",
            "EVAL: After epoch 66: step 264, loss 0.0251219, acc 0.378989\n",
            "\n",
            "Training epoch 67\n"
          ]
        },
        {
          "output_type": "stream",
          "name": "stderr",
          "text": [
            "4it [00:00, 17.74it/s]\n"
          ]
        },
        {
          "output_type": "stream",
          "name": "stdout",
          "text": [
            "\t \tEpoch 67:, loss 0.763045, accuracy 0.502302\n",
            "EVAL: After epoch 67: step 268, loss 0.0250417, acc 0.378989\n",
            "\n",
            "Training epoch 68\n"
          ]
        },
        {
          "output_type": "stream",
          "name": "stderr",
          "text": [
            "4it [00:00, 19.20it/s]\n"
          ]
        },
        {
          "output_type": "stream",
          "name": "stdout",
          "text": [
            "\t \tEpoch 68:, loss 0.787961, accuracy 0.48902\n",
            "EVAL: After epoch 68: step 272, loss 0.0247771, acc 0.378989\n",
            "\n",
            "Training epoch 69\n"
          ]
        },
        {
          "output_type": "stream",
          "name": "stderr",
          "text": [
            "4it [00:00, 16.71it/s]\n"
          ]
        },
        {
          "output_type": "stream",
          "name": "stdout",
          "text": [
            "\t \tEpoch 69:, loss 0.760863, accuracy 0.513521\n",
            "EVAL: After epoch 69: step 276, loss 0.0244046, acc 0.378989\n",
            "\n",
            "Training epoch 70\n"
          ]
        },
        {
          "output_type": "stream",
          "name": "stderr",
          "text": [
            "4it [00:00, 18.61it/s]\n"
          ]
        },
        {
          "output_type": "stream",
          "name": "stdout",
          "text": [
            "\t \tEpoch 70:, loss 0.776662, accuracy 0.505055\n",
            "EVAL: After epoch 70: step 280, loss 0.0241223, acc 0.378989\n",
            "\n",
            "Training epoch 71\n"
          ]
        },
        {
          "output_type": "stream",
          "name": "stderr",
          "text": [
            "4it [00:00, 18.01it/s]\n"
          ]
        },
        {
          "output_type": "stream",
          "name": "stdout",
          "text": [
            "\t \tEpoch 71:, loss 0.774435, accuracy 0.481961\n",
            "EVAL: After epoch 71: step 284, loss 0.024084, acc 0.378989\n",
            "\n",
            "Training epoch 72\n"
          ]
        },
        {
          "output_type": "stream",
          "name": "stderr",
          "text": [
            "4it [00:00, 19.36it/s]\n"
          ]
        },
        {
          "output_type": "stream",
          "name": "stdout",
          "text": [
            "\t \tEpoch 72:, loss 0.760457, accuracy 0.509316\n",
            "EVAL: After epoch 72: step 288, loss 0.0240153, acc 0.378989\n",
            "\n",
            "Training epoch 73\n"
          ]
        },
        {
          "output_type": "stream",
          "name": "stderr",
          "text": [
            "4it [00:00, 17.99it/s]\n"
          ]
        },
        {
          "output_type": "stream",
          "name": "stdout",
          "text": [
            "\t \tEpoch 73:, loss 0.742236, accuracy 0.530876\n",
            "EVAL: After epoch 73: step 292, loss 0.0238922, acc 0.378989\n",
            "\n",
            "Training epoch 74\n"
          ]
        },
        {
          "output_type": "stream",
          "name": "stderr",
          "text": [
            "4it [00:00, 17.59it/s]\n"
          ]
        },
        {
          "output_type": "stream",
          "name": "stdout",
          "text": [
            "\t \tEpoch 74:, loss 0.781537, accuracy 0.471233\n",
            "EVAL: After epoch 74: step 296, loss 0.0240312, acc 0.378989\n",
            "\n",
            "Training epoch 75\n"
          ]
        },
        {
          "output_type": "stream",
          "name": "stderr",
          "text": [
            "4it [00:00, 18.12it/s]\n"
          ]
        },
        {
          "output_type": "stream",
          "name": "stdout",
          "text": [
            "\t \tEpoch 75:, loss 0.747555, accuracy 0.541593\n",
            "EVAL: After epoch 75: step 300, loss 0.0242663, acc 0.378989\n",
            "\n",
            "Training epoch 76\n"
          ]
        },
        {
          "output_type": "stream",
          "name": "stderr",
          "text": [
            "4it [00:00, 18.59it/s]\n"
          ]
        },
        {
          "output_type": "stream",
          "name": "stdout",
          "text": [
            "\t \tEpoch 76:, loss 0.74293, accuracy 0.547721\n",
            "EVAL: After epoch 76: step 304, loss 0.0243065, acc 0.378989\n",
            "\n",
            "Training epoch 77\n"
          ]
        },
        {
          "output_type": "stream",
          "name": "stderr",
          "text": [
            "4it [00:00, 18.13it/s]\n"
          ]
        },
        {
          "output_type": "stream",
          "name": "stdout",
          "text": [
            "\t \tEpoch 77:, loss 0.731722, accuracy 0.521376\n",
            "EVAL: After epoch 77: step 308, loss 0.0240605, acc 0.378989\n",
            "\n",
            "Training epoch 78\n"
          ]
        },
        {
          "output_type": "stream",
          "name": "stderr",
          "text": [
            "4it [00:00, 18.02it/s]\n"
          ]
        },
        {
          "output_type": "stream",
          "name": "stdout",
          "text": [
            "\t \tEpoch 78:, loss 0.752129, accuracy 0.52305\n",
            "EVAL: After epoch 78: step 312, loss 0.0238531, acc 0.378989\n",
            "\n",
            "Training epoch 79\n"
          ]
        },
        {
          "output_type": "stream",
          "name": "stderr",
          "text": [
            "4it [00:00, 18.21it/s]\n"
          ]
        },
        {
          "output_type": "stream",
          "name": "stdout",
          "text": [
            "\t \tEpoch 79:, loss 0.725584, accuracy 0.536497\n",
            "EVAL: After epoch 79: step 316, loss 0.0236113, acc 0.381649\n",
            "\n",
            "Training epoch 80\n"
          ]
        },
        {
          "output_type": "stream",
          "name": "stderr",
          "text": [
            "4it [00:00, 18.34it/s]\n"
          ]
        },
        {
          "output_type": "stream",
          "name": "stdout",
          "text": [
            "\t \tEpoch 80:, loss 0.727014, accuracy 0.528754\n",
            "EVAL: After epoch 80: step 320, loss 0.0235804, acc 0.381649\n",
            "\n",
            "Training epoch 81\n"
          ]
        },
        {
          "output_type": "stream",
          "name": "stderr",
          "text": [
            "4it [00:00, 18.09it/s]\n"
          ]
        },
        {
          "output_type": "stream",
          "name": "stdout",
          "text": [
            "\t \tEpoch 81:, loss 0.74572, accuracy 0.501968\n",
            "EVAL: After epoch 81: step 324, loss 0.0235563, acc 0.381649\n",
            "\n",
            "Training epoch 82\n"
          ]
        },
        {
          "output_type": "stream",
          "name": "stderr",
          "text": [
            "4it [00:00, 17.17it/s]\n"
          ]
        },
        {
          "output_type": "stream",
          "name": "stdout",
          "text": [
            "\t \tEpoch 82:, loss 0.726274, accuracy 0.557661\n",
            "EVAL: After epoch 82: step 328, loss 0.023666, acc 0.380319\n",
            "\n",
            "Training epoch 83\n"
          ]
        },
        {
          "output_type": "stream",
          "name": "stderr",
          "text": [
            "4it [00:00, 15.95it/s]\n"
          ]
        },
        {
          "output_type": "stream",
          "name": "stdout",
          "text": [
            "\t \tEpoch 83:, loss 0.776964, accuracy 0.493088\n",
            "EVAL: After epoch 83: step 332, loss 0.0237877, acc 0.378989\n",
            "\n",
            "Training epoch 84\n"
          ]
        },
        {
          "output_type": "stream",
          "name": "stderr",
          "text": [
            "4it [00:00, 14.27it/s]\n"
          ]
        },
        {
          "output_type": "stream",
          "name": "stdout",
          "text": [
            "\t \tEpoch 84:, loss 0.722407, accuracy 0.547109\n",
            "EVAL: After epoch 84: step 336, loss 0.0239117, acc 0.378989\n",
            "\n",
            "Training epoch 85\n"
          ]
        },
        {
          "output_type": "stream",
          "name": "stderr",
          "text": [
            "4it [00:00, 18.32it/s]\n"
          ]
        },
        {
          "output_type": "stream",
          "name": "stdout",
          "text": [
            "\t \tEpoch 85:, loss 0.720654, accuracy 0.543419\n",
            "EVAL: After epoch 85: step 340, loss 0.0240428, acc 0.378989\n",
            "\n",
            "Training epoch 86\n"
          ]
        },
        {
          "output_type": "stream",
          "name": "stderr",
          "text": [
            "4it [00:00, 18.82it/s]\n"
          ]
        },
        {
          "output_type": "stream",
          "name": "stdout",
          "text": [
            "\t \tEpoch 86:, loss 0.741553, accuracy 0.509707\n",
            "EVAL: After epoch 86: step 344, loss 0.0242621, acc 0.378989\n",
            "\n",
            "Training epoch 87\n"
          ]
        },
        {
          "output_type": "stream",
          "name": "stderr",
          "text": [
            "4it [00:00, 12.95it/s]\n"
          ]
        },
        {
          "output_type": "stream",
          "name": "stdout",
          "text": [
            "\t \tEpoch 87:, loss 0.728231, accuracy 0.546063\n",
            "EVAL: After epoch 87: step 348, loss 0.0244396, acc 0.378989\n",
            "\n",
            "Training epoch 88\n"
          ]
        },
        {
          "output_type": "stream",
          "name": "stderr",
          "text": [
            "4it [00:00,  6.58it/s]\n"
          ]
        },
        {
          "output_type": "stream",
          "name": "stdout",
          "text": [
            "\t \tEpoch 88:, loss 0.750479, accuracy 0.494072\n",
            "EVAL: After epoch 88: step 352, loss 0.0245241, acc 0.378989\n",
            "\n",
            "Training epoch 89\n"
          ]
        },
        {
          "output_type": "stream",
          "name": "stderr",
          "text": [
            "4it [00:00, 13.93it/s]\n"
          ]
        },
        {
          "output_type": "stream",
          "name": "stdout",
          "text": [
            "\t \tEpoch 89:, loss 0.74397, accuracy 0.520431\n",
            "EVAL: After epoch 89: step 356, loss 0.0245042, acc 0.378989\n",
            "\n",
            "Training epoch 90\n"
          ]
        },
        {
          "output_type": "stream",
          "name": "stderr",
          "text": [
            "4it [00:00, 19.50it/s]\n"
          ]
        },
        {
          "output_type": "stream",
          "name": "stdout",
          "text": [
            "\t \tEpoch 90:, loss 0.742518, accuracy 0.484048\n",
            "EVAL: After epoch 90: step 360, loss 0.0243745, acc 0.378989\n",
            "\n",
            "Training epoch 91\n"
          ]
        },
        {
          "output_type": "stream",
          "name": "stderr",
          "text": [
            "4it [00:00, 18.30it/s]\n"
          ]
        },
        {
          "output_type": "stream",
          "name": "stdout",
          "text": [
            "\t \tEpoch 91:, loss 0.740005, accuracy 0.505275\n",
            "EVAL: After epoch 91: step 364, loss 0.0241246, acc 0.378989\n",
            "\n",
            "Training epoch 92\n"
          ]
        },
        {
          "output_type": "stream",
          "name": "stderr",
          "text": [
            "4it [00:00, 19.80it/s]\n"
          ]
        },
        {
          "output_type": "stream",
          "name": "stdout",
          "text": [
            "\t \tEpoch 92:, loss 0.75958, accuracy 0.505827\n",
            "EVAL: After epoch 92: step 368, loss 0.023796, acc 0.378989\n",
            "\n",
            "Training epoch 93\n"
          ]
        },
        {
          "output_type": "stream",
          "name": "stderr",
          "text": [
            "4it [00:00, 17.85it/s]\n"
          ]
        },
        {
          "output_type": "stream",
          "name": "stdout",
          "text": [
            "\t \tEpoch 93:, loss 0.730048, accuracy 0.536457\n",
            "EVAL: After epoch 93: step 372, loss 0.0235569, acc 0.381649\n",
            "\n",
            "Training epoch 94\n"
          ]
        },
        {
          "output_type": "stream",
          "name": "stderr",
          "text": [
            "4it [00:00, 18.44it/s]\n"
          ]
        },
        {
          "output_type": "stream",
          "name": "stdout",
          "text": [
            "\t \tEpoch 94:, loss 0.708956, accuracy 0.556075\n",
            "EVAL: After epoch 94: step 376, loss 0.0234282, acc 0.384309\n",
            "\n",
            "Training epoch 95\n"
          ]
        },
        {
          "output_type": "stream",
          "name": "stderr",
          "text": [
            "4it [00:00, 17.48it/s]\n"
          ]
        },
        {
          "output_type": "stream",
          "name": "stdout",
          "text": [
            "\t \tEpoch 95:, loss 0.744923, accuracy 0.517863\n",
            "EVAL: After epoch 95: step 380, loss 0.0232418, acc 0.394947\n",
            "\n",
            "Training epoch 96\n"
          ]
        },
        {
          "output_type": "stream",
          "name": "stderr",
          "text": [
            "4it [00:00, 17.99it/s]\n"
          ]
        },
        {
          "output_type": "stream",
          "name": "stdout",
          "text": [
            "\t \tEpoch 96:, loss 0.723373, accuracy 0.525024\n",
            "EVAL: After epoch 96: step 384, loss 0.0231567, acc 0.404255\n",
            "\n",
            "Training epoch 97\n"
          ]
        },
        {
          "output_type": "stream",
          "name": "stderr",
          "text": [
            "4it [00:00, 17.53it/s]\n"
          ]
        },
        {
          "output_type": "stream",
          "name": "stdout",
          "text": [
            "\t \tEpoch 97:, loss 0.736664, accuracy 0.514133\n",
            "EVAL: After epoch 97: step 388, loss 0.0231454, acc 0.404255\n",
            "\n",
            "Training epoch 98\n"
          ]
        },
        {
          "output_type": "stream",
          "name": "stderr",
          "text": [
            "4it [00:00, 17.86it/s]\n"
          ]
        },
        {
          "output_type": "stream",
          "name": "stdout",
          "text": [
            "\t \tEpoch 98:, loss 0.742905, accuracy 0.499624\n",
            "EVAL: After epoch 98: step 392, loss 0.0232538, acc 0.396277\n",
            "\n",
            "Training epoch 99\n"
          ]
        },
        {
          "output_type": "stream",
          "name": "stderr",
          "text": [
            "4it [00:00, 18.66it/s]\n"
          ]
        },
        {
          "output_type": "stream",
          "name": "stdout",
          "text": [
            "\t \tEpoch 99:, loss 0.753934, accuracy 0.470444\n",
            "EVAL: After epoch 99: step 396, loss 0.0233192, acc 0.384309\n",
            "\n",
            "Training epoch 100\n"
          ]
        },
        {
          "output_type": "stream",
          "name": "stderr",
          "text": [
            "4it [00:00, 17.54it/s]\n"
          ]
        },
        {
          "output_type": "stream",
          "name": "stdout",
          "text": [
            "\t \tEpoch 100:, loss 0.741647, accuracy 0.502208\n",
            "EVAL: After epoch 100: step 400, loss 0.0233286, acc 0.384309\n",
            "\n",
            "\n",
            "Best epoch: 1\n",
            "Best test accuracy: 0.6210106611251831\n",
            "\n",
            "\n",
            "Best epoch: 2\n",
            "Best test loss: 0.02162818754872968\n",
            "('starting unimodal ', 'video')\n",
            "train_label shape (62, 63)\n",
            "test_label shape (31, 63)\n",
            "1\n",
            "1\n",
            "maxlen 1\n",
            "train [[[1. 0.]\n",
            "  [1. 0.]\n",
            "  [1. 0.]\n",
            "  ...\n",
            "  [1. 0.]\n",
            "  [1. 0.]\n",
            "  [1. 0.]]\n",
            "\n",
            " [[0. 1.]\n",
            "  [1. 0.]\n",
            "  [1. 0.]\n",
            "  ...\n",
            "  [1. 0.]\n",
            "  [1. 0.]\n",
            "  [1. 0.]]\n",
            "\n",
            " [[1. 0.]\n",
            "  [1. 0.]\n",
            "  [0. 1.]\n",
            "  ...\n",
            "  [1. 0.]\n",
            "  [1. 0.]\n",
            "  [1. 0.]]\n",
            "\n",
            " ...\n",
            "\n",
            " [[0. 1.]\n",
            "  [0. 1.]\n",
            "  [1. 0.]\n",
            "  ...\n",
            "  [1. 0.]\n",
            "  [1. 0.]\n",
            "  [1. 0.]]\n",
            "\n",
            " [[0. 1.]\n",
            "  [1. 0.]\n",
            "  [0. 1.]\n",
            "  ...\n",
            "  [1. 0.]\n",
            "  [1. 0.]\n",
            "  [1. 0.]]\n",
            "\n",
            " [[1. 0.]\n",
            "  [0. 1.]\n",
            "  [0. 1.]\n",
            "  ...\n",
            "  [1. 0.]\n",
            "  [1. 0.]\n",
            "  [1. 0.]]]\n",
            "test [[[1. 0.]\n",
            "  [0. 1.]\n",
            "  [0. 1.]\n",
            "  ...\n",
            "  [1. 0.]\n",
            "  [1. 0.]\n",
            "  [1. 0.]]\n",
            "\n",
            " [[1. 0.]\n",
            "  [0. 1.]\n",
            "  [0. 1.]\n",
            "  ...\n",
            "  [1. 0.]\n",
            "  [1. 0.]\n",
            "  [1. 0.]]\n",
            "\n",
            " [[0. 1.]\n",
            "  [1. 0.]\n",
            "  [1. 0.]\n",
            "  ...\n",
            "  [1. 0.]\n",
            "  [1. 0.]\n",
            "  [1. 0.]]\n",
            "\n",
            " ...\n",
            "\n",
            " [[0. 1.]\n",
            "  [1. 0.]\n",
            "  [0. 1.]\n",
            "  ...\n",
            "  [1. 0.]\n",
            "  [1. 0.]\n",
            "  [1. 0.]]\n",
            "\n",
            " [[1. 0.]\n",
            "  [1. 0.]\n",
            "  [1. 0.]\n",
            "  ...\n",
            "  [1. 0.]\n",
            "  [1. 0.]\n",
            "  [1. 0.]]\n",
            "\n",
            " [[0. 1.]\n",
            "  [0. 1.]\n",
            "  [0. 1.]\n",
            "  ...\n",
            "  [1. 0.]\n",
            "  [1. 0.]\n",
            "  [1. 0.]]]\n",
            "train_mask (62, 63)\n",
            "seqlen_train (62,)\n",
            "seqlen_test (31,)\n",
            "Using GPU -  /device:GPU:0\n",
            "Trainable parameters: 80602\n",
            "\n",
            "Evaluation before training:\n",
            "EVAL: epoch 0: step 0, loss 0.729511, acc 0.609043\n",
            "\n",
            "Training epoch 1\n"
          ]
        },
        {
          "output_type": "stream",
          "name": "stderr",
          "text": [
            "\r0it [00:00, ?it/s]/usr/local/lib/python3.7/dist-packages/ipykernel_launcher.py:5: VisibleDeprecationWarning: Creating an ndarray from ragged nested sequences (which is a list-or-tuple of lists-or-tuples-or ndarrays with different lengths or shapes) is deprecated. If you meant to do this, you must specify 'dtype=object' when creating the ndarray.\n",
            "  \"\"\"\n",
            "4it [00:00,  4.97it/s]\n"
          ]
        },
        {
          "output_type": "stream",
          "name": "stdout",
          "text": [
            "\t \tEpoch 1:, loss 1.06446, accuracy 0.466931\n",
            "EVAL: After epoch 1: step 4, loss 0.0231343, acc 0.591755\n",
            "\n",
            "Training epoch 2\n"
          ]
        },
        {
          "output_type": "stream",
          "name": "stderr",
          "text": [
            "4it [00:00, 14.20it/s]\n"
          ]
        },
        {
          "output_type": "stream",
          "name": "stdout",
          "text": [
            "\t \tEpoch 2:, loss 1.01644, accuracy 0.486659\n",
            "EVAL: After epoch 2: step 8, loss 0.0231416, acc 0.558511\n",
            "\n",
            "Training epoch 3\n"
          ]
        },
        {
          "output_type": "stream",
          "name": "stderr",
          "text": [
            "4it [00:00, 13.58it/s]\n"
          ]
        },
        {
          "output_type": "stream",
          "name": "stdout",
          "text": [
            "\t \tEpoch 3:, loss 0.89918, accuracy 0.519022\n",
            "EVAL: After epoch 3: step 12, loss 0.0234232, acc 0.526596\n",
            "\n",
            "Training epoch 4\n"
          ]
        },
        {
          "output_type": "stream",
          "name": "stderr",
          "text": [
            "4it [00:00, 14.27it/s]\n"
          ]
        },
        {
          "output_type": "stream",
          "name": "stdout",
          "text": [
            "\t \tEpoch 4:, loss 0.952615, accuracy 0.47486\n",
            "EVAL: After epoch 4: step 16, loss 0.0237177, acc 0.507979\n",
            "\n",
            "Training epoch 5\n"
          ]
        },
        {
          "output_type": "stream",
          "name": "stderr",
          "text": [
            "4it [00:00, 13.87it/s]\n"
          ]
        },
        {
          "output_type": "stream",
          "name": "stdout",
          "text": [
            "\t \tEpoch 5:, loss 0.837297, accuracy 0.553709\n",
            "EVAL: After epoch 5: step 20, loss 0.023863, acc 0.494681\n",
            "\n",
            "Training epoch 6\n"
          ]
        },
        {
          "output_type": "stream",
          "name": "stderr",
          "text": [
            "4it [00:00, 12.72it/s]\n"
          ]
        },
        {
          "output_type": "stream",
          "name": "stdout",
          "text": [
            "\t \tEpoch 6:, loss 0.884179, accuracy 0.513573\n",
            "EVAL: After epoch 6: step 24, loss 0.0239064, acc 0.49867\n",
            "\n",
            "Training epoch 7\n"
          ]
        },
        {
          "output_type": "stream",
          "name": "stderr",
          "text": [
            "4it [00:00, 14.12it/s]\n"
          ]
        },
        {
          "output_type": "stream",
          "name": "stdout",
          "text": [
            "\t \tEpoch 7:, loss 0.780599, accuracy 0.557318\n",
            "EVAL: After epoch 7: step 28, loss 0.0240425, acc 0.49867\n",
            "\n",
            "Training epoch 8\n"
          ]
        },
        {
          "output_type": "stream",
          "name": "stderr",
          "text": [
            "4it [00:00, 14.55it/s]\n"
          ]
        },
        {
          "output_type": "stream",
          "name": "stdout",
          "text": [
            "\t \tEpoch 8:, loss 0.822152, accuracy 0.533771\n",
            "EVAL: After epoch 8: step 32, loss 0.0240797, acc 0.49867\n",
            "\n",
            "Training epoch 9\n"
          ]
        },
        {
          "output_type": "stream",
          "name": "stderr",
          "text": [
            "4it [00:00, 13.06it/s]\n"
          ]
        },
        {
          "output_type": "stream",
          "name": "stdout",
          "text": [
            "\t \tEpoch 9:, loss 0.713717, accuracy 0.609488\n",
            "EVAL: After epoch 9: step 36, loss 0.0241638, acc 0.489362\n",
            "\n",
            "Training epoch 10\n"
          ]
        },
        {
          "output_type": "stream",
          "name": "stderr",
          "text": [
            "4it [00:00, 11.88it/s]\n"
          ]
        },
        {
          "output_type": "stream",
          "name": "stdout",
          "text": [
            "\t \tEpoch 10:, loss 0.763083, accuracy 0.594911\n",
            "EVAL: After epoch 10: step 40, loss 0.0240943, acc 0.503989\n",
            "\n",
            "Training epoch 11\n"
          ]
        },
        {
          "output_type": "stream",
          "name": "stderr",
          "text": [
            "4it [00:00, 13.38it/s]\n"
          ]
        },
        {
          "output_type": "stream",
          "name": "stdout",
          "text": [
            "\t \tEpoch 11:, loss 0.68551, accuracy 0.608552\n",
            "EVAL: After epoch 11: step 44, loss 0.0241061, acc 0.510638\n",
            "\n",
            "Training epoch 12\n"
          ]
        },
        {
          "output_type": "stream",
          "name": "stderr",
          "text": [
            "4it [00:00, 13.51it/s]\n"
          ]
        },
        {
          "output_type": "stream",
          "name": "stdout",
          "text": [
            "\t \tEpoch 12:, loss 0.67636, accuracy 0.62853\n",
            "EVAL: After epoch 12: step 48, loss 0.0240562, acc 0.518617\n",
            "\n",
            "Training epoch 13\n"
          ]
        },
        {
          "output_type": "stream",
          "name": "stderr",
          "text": [
            "4it [00:00, 13.42it/s]\n"
          ]
        },
        {
          "output_type": "stream",
          "name": "stdout",
          "text": [
            "\t \tEpoch 13:, loss 0.67852, accuracy 0.643824\n",
            "EVAL: After epoch 13: step 52, loss 0.0240379, acc 0.519947\n",
            "\n",
            "Training epoch 14\n"
          ]
        },
        {
          "output_type": "stream",
          "name": "stderr",
          "text": [
            "4it [00:00, 13.98it/s]\n"
          ]
        },
        {
          "output_type": "stream",
          "name": "stdout",
          "text": [
            "\t \tEpoch 14:, loss 0.668178, accuracy 0.640714\n",
            "EVAL: After epoch 14: step 56, loss 0.0239655, acc 0.517287\n",
            "\n",
            "Training epoch 15\n"
          ]
        },
        {
          "output_type": "stream",
          "name": "stderr",
          "text": [
            "4it [00:00, 14.22it/s]\n"
          ]
        },
        {
          "output_type": "stream",
          "name": "stdout",
          "text": [
            "\t \tEpoch 15:, loss 0.666562, accuracy 0.641706\n",
            "EVAL: After epoch 15: step 60, loss 0.0239815, acc 0.518617\n",
            "\n",
            "Training epoch 16\n"
          ]
        },
        {
          "output_type": "stream",
          "name": "stderr",
          "text": [
            "4it [00:00, 13.52it/s]\n"
          ]
        },
        {
          "output_type": "stream",
          "name": "stdout",
          "text": [
            "\t \tEpoch 16:, loss 0.637246, accuracy 0.655324\n",
            "EVAL: After epoch 16: step 64, loss 0.0239331, acc 0.518617\n",
            "\n",
            "Training epoch 17\n"
          ]
        },
        {
          "output_type": "stream",
          "name": "stderr",
          "text": [
            "4it [00:00, 13.29it/s]\n"
          ]
        },
        {
          "output_type": "stream",
          "name": "stdout",
          "text": [
            "\t \tEpoch 17:, loss 0.665577, accuracy 0.668706\n",
            "EVAL: After epoch 17: step 68, loss 0.0238587, acc 0.523936\n",
            "\n",
            "Training epoch 18\n"
          ]
        },
        {
          "output_type": "stream",
          "name": "stderr",
          "text": [
            "4it [00:00, 13.47it/s]\n"
          ]
        },
        {
          "output_type": "stream",
          "name": "stdout",
          "text": [
            "\t \tEpoch 18:, loss 0.578573, accuracy 0.706132\n",
            "EVAL: After epoch 18: step 72, loss 0.0239345, acc 0.529255\n",
            "\n",
            "Training epoch 19\n"
          ]
        },
        {
          "output_type": "stream",
          "name": "stderr",
          "text": [
            "4it [00:00, 15.03it/s]\n"
          ]
        },
        {
          "output_type": "stream",
          "name": "stdout",
          "text": [
            "\t \tEpoch 19:, loss 0.634058, accuracy 0.663814\n",
            "EVAL: After epoch 19: step 76, loss 0.0241025, acc 0.527926\n",
            "\n",
            "Training epoch 20\n"
          ]
        },
        {
          "output_type": "stream",
          "name": "stderr",
          "text": [
            "4it [00:00, 13.37it/s]\n"
          ]
        },
        {
          "output_type": "stream",
          "name": "stdout",
          "text": [
            "\t \tEpoch 20:, loss 0.540291, accuracy 0.728843\n",
            "EVAL: After epoch 20: step 80, loss 0.0242133, acc 0.525266\n",
            "\n",
            "Training epoch 21\n"
          ]
        },
        {
          "output_type": "stream",
          "name": "stderr",
          "text": [
            "4it [00:00, 13.84it/s]\n"
          ]
        },
        {
          "output_type": "stream",
          "name": "stdout",
          "text": [
            "\t \tEpoch 21:, loss 0.5642, accuracy 0.702926\n",
            "EVAL: After epoch 21: step 84, loss 0.0243673, acc 0.525266\n",
            "\n",
            "Training epoch 22\n"
          ]
        },
        {
          "output_type": "stream",
          "name": "stderr",
          "text": [
            "4it [00:00, 14.65it/s]\n"
          ]
        },
        {
          "output_type": "stream",
          "name": "stdout",
          "text": [
            "\t \tEpoch 22:, loss 0.560158, accuracy 0.713876\n",
            "EVAL: After epoch 22: step 88, loss 0.0245267, acc 0.523936\n",
            "\n",
            "Training epoch 23\n"
          ]
        },
        {
          "output_type": "stream",
          "name": "stderr",
          "text": [
            "4it [00:00, 13.21it/s]\n"
          ]
        },
        {
          "output_type": "stream",
          "name": "stdout",
          "text": [
            "\t \tEpoch 23:, loss 0.562081, accuracy 0.726136\n",
            "EVAL: After epoch 23: step 92, loss 0.0245509, acc 0.527926\n",
            "\n",
            "Training epoch 24\n"
          ]
        },
        {
          "output_type": "stream",
          "name": "stderr",
          "text": [
            "4it [00:00, 13.97it/s]\n"
          ]
        },
        {
          "output_type": "stream",
          "name": "stdout",
          "text": [
            "\t \tEpoch 24:, loss 0.535048, accuracy 0.742517\n",
            "EVAL: After epoch 24: step 96, loss 0.0246579, acc 0.527926\n",
            "\n",
            "Training epoch 25\n"
          ]
        },
        {
          "output_type": "stream",
          "name": "stderr",
          "text": [
            "4it [00:00, 13.88it/s]\n"
          ]
        },
        {
          "output_type": "stream",
          "name": "stdout",
          "text": [
            "\t \tEpoch 25:, loss 0.53038, accuracy 0.756473\n",
            "EVAL: After epoch 25: step 100, loss 0.0247394, acc 0.531915\n",
            "\n",
            "Training epoch 26\n"
          ]
        },
        {
          "output_type": "stream",
          "name": "stderr",
          "text": [
            "4it [00:00, 13.61it/s]\n"
          ]
        },
        {
          "output_type": "stream",
          "name": "stdout",
          "text": [
            "\t \tEpoch 26:, loss 0.536413, accuracy 0.715613\n",
            "EVAL: After epoch 26: step 104, loss 0.0247366, acc 0.533245\n",
            "\n",
            "Training epoch 27\n"
          ]
        },
        {
          "output_type": "stream",
          "name": "stderr",
          "text": [
            "4it [00:00, 14.46it/s]\n"
          ]
        },
        {
          "output_type": "stream",
          "name": "stdout",
          "text": [
            "\t \tEpoch 27:, loss 0.555372, accuracy 0.722628\n",
            "EVAL: After epoch 27: step 108, loss 0.0246402, acc 0.529255\n",
            "\n",
            "Training epoch 28\n"
          ]
        },
        {
          "output_type": "stream",
          "name": "stderr",
          "text": [
            "4it [00:00, 13.53it/s]\n"
          ]
        },
        {
          "output_type": "stream",
          "name": "stdout",
          "text": [
            "\t \tEpoch 28:, loss 0.459058, accuracy 0.782875\n",
            "EVAL: After epoch 28: step 112, loss 0.0245062, acc 0.543883\n",
            "\n",
            "Training epoch 29\n"
          ]
        },
        {
          "output_type": "stream",
          "name": "stderr",
          "text": [
            "4it [00:00, 14.72it/s]\n"
          ]
        },
        {
          "output_type": "stream",
          "name": "stdout",
          "text": [
            "\t \tEpoch 29:, loss 0.560391, accuracy 0.741253\n",
            "EVAL: After epoch 29: step 116, loss 0.0243404, acc 0.551862\n",
            "\n",
            "Training epoch 30\n"
          ]
        },
        {
          "output_type": "stream",
          "name": "stderr",
          "text": [
            "4it [00:00, 14.59it/s]\n"
          ]
        },
        {
          "output_type": "stream",
          "name": "stdout",
          "text": [
            "\t \tEpoch 30:, loss 0.493508, accuracy 0.774656\n",
            "EVAL: After epoch 30: step 120, loss 0.0243073, acc 0.553191\n",
            "\n",
            "Training epoch 31\n"
          ]
        },
        {
          "output_type": "stream",
          "name": "stderr",
          "text": [
            "4it [00:00, 14.49it/s]\n"
          ]
        },
        {
          "output_type": "stream",
          "name": "stdout",
          "text": [
            "\t \tEpoch 31:, loss 0.493006, accuracy 0.784778\n",
            "EVAL: After epoch 31: step 124, loss 0.0244397, acc 0.554521\n",
            "\n",
            "Training epoch 32\n"
          ]
        },
        {
          "output_type": "stream",
          "name": "stderr",
          "text": [
            "4it [00:00, 13.03it/s]\n"
          ]
        },
        {
          "output_type": "stream",
          "name": "stdout",
          "text": [
            "\t \tEpoch 32:, loss 0.49106, accuracy 0.77001\n",
            "EVAL: After epoch 32: step 128, loss 0.0245651, acc 0.557181\n",
            "\n",
            "Training epoch 33\n"
          ]
        },
        {
          "output_type": "stream",
          "name": "stderr",
          "text": [
            "4it [00:00, 14.09it/s]\n"
          ]
        },
        {
          "output_type": "stream",
          "name": "stdout",
          "text": [
            "\t \tEpoch 33:, loss 0.459796, accuracy 0.796077\n",
            "EVAL: After epoch 33: step 132, loss 0.024799, acc 0.553191\n",
            "\n",
            "Training epoch 34\n"
          ]
        },
        {
          "output_type": "stream",
          "name": "stderr",
          "text": [
            "4it [00:00, 13.62it/s]\n"
          ]
        },
        {
          "output_type": "stream",
          "name": "stdout",
          "text": [
            "\t \tEpoch 34:, loss 0.478065, accuracy 0.778649\n",
            "EVAL: After epoch 34: step 136, loss 0.0249928, acc 0.549202\n",
            "\n",
            "Training epoch 35\n"
          ]
        },
        {
          "output_type": "stream",
          "name": "stderr",
          "text": [
            "4it [00:00, 13.94it/s]\n"
          ]
        },
        {
          "output_type": "stream",
          "name": "stdout",
          "text": [
            "\t \tEpoch 35:, loss 0.491295, accuracy 0.755688\n",
            "EVAL: After epoch 35: step 140, loss 0.0250663, acc 0.551862\n",
            "\n",
            "Training epoch 36\n"
          ]
        },
        {
          "output_type": "stream",
          "name": "stderr",
          "text": [
            "4it [00:00, 13.98it/s]\n"
          ]
        },
        {
          "output_type": "stream",
          "name": "stdout",
          "text": [
            "\t \tEpoch 36:, loss 0.498953, accuracy 0.762431\n",
            "EVAL: After epoch 36: step 144, loss 0.0250573, acc 0.555851\n",
            "\n",
            "Training epoch 37\n"
          ]
        },
        {
          "output_type": "stream",
          "name": "stderr",
          "text": [
            "4it [00:00, 13.73it/s]\n"
          ]
        },
        {
          "output_type": "stream",
          "name": "stdout",
          "text": [
            "\t \tEpoch 37:, loss 0.486025, accuracy 0.804917\n",
            "EVAL: After epoch 37: step 148, loss 0.0251432, acc 0.554521\n",
            "\n",
            "Training epoch 38\n"
          ]
        },
        {
          "output_type": "stream",
          "name": "stderr",
          "text": [
            "4it [00:00, 13.41it/s]\n"
          ]
        },
        {
          "output_type": "stream",
          "name": "stdout",
          "text": [
            "\t \tEpoch 38:, loss 0.478642, accuracy 0.804191\n",
            "EVAL: After epoch 38: step 152, loss 0.0253116, acc 0.554521\n",
            "\n",
            "Training epoch 39\n"
          ]
        },
        {
          "output_type": "stream",
          "name": "stderr",
          "text": [
            "4it [00:00, 13.36it/s]\n"
          ]
        },
        {
          "output_type": "stream",
          "name": "stdout",
          "text": [
            "\t \tEpoch 39:, loss 0.463457, accuracy 0.784713\n",
            "EVAL: After epoch 39: step 156, loss 0.0255626, acc 0.554521\n",
            "\n",
            "Training epoch 40\n"
          ]
        },
        {
          "output_type": "stream",
          "name": "stderr",
          "text": [
            "4it [00:00, 13.54it/s]\n"
          ]
        },
        {
          "output_type": "stream",
          "name": "stdout",
          "text": [
            "\t \tEpoch 40:, loss 0.431235, accuracy 0.788342\n",
            "EVAL: After epoch 40: step 160, loss 0.0258172, acc 0.550532\n",
            "\n",
            "Training epoch 41\n"
          ]
        },
        {
          "output_type": "stream",
          "name": "stderr",
          "text": [
            "4it [00:00, 13.45it/s]\n"
          ]
        },
        {
          "output_type": "stream",
          "name": "stdout",
          "text": [
            "\t \tEpoch 41:, loss 0.424805, accuracy 0.806794\n",
            "EVAL: After epoch 41: step 164, loss 0.026036, acc 0.550532\n",
            "\n",
            "Training epoch 42\n"
          ]
        },
        {
          "output_type": "stream",
          "name": "stderr",
          "text": [
            "4it [00:00, 13.41it/s]\n"
          ]
        },
        {
          "output_type": "stream",
          "name": "stdout",
          "text": [
            "\t \tEpoch 42:, loss 0.391428, accuracy 0.841594\n",
            "EVAL: After epoch 42: step 168, loss 0.0261748, acc 0.547872\n",
            "\n",
            "Training epoch 43\n"
          ]
        },
        {
          "output_type": "stream",
          "name": "stderr",
          "text": [
            "4it [00:00, 13.91it/s]\n"
          ]
        },
        {
          "output_type": "stream",
          "name": "stdout",
          "text": [
            "\t \tEpoch 43:, loss 0.381262, accuracy 0.834546\n",
            "EVAL: After epoch 43: step 172, loss 0.0262474, acc 0.546543\n",
            "\n",
            "Training epoch 44\n"
          ]
        },
        {
          "output_type": "stream",
          "name": "stderr",
          "text": [
            "4it [00:00, 13.36it/s]\n"
          ]
        },
        {
          "output_type": "stream",
          "name": "stdout",
          "text": [
            "\t \tEpoch 44:, loss 0.4851, accuracy 0.819532\n",
            "EVAL: After epoch 44: step 176, loss 0.0262941, acc 0.547872\n",
            "\n",
            "Training epoch 45\n"
          ]
        },
        {
          "output_type": "stream",
          "name": "stderr",
          "text": [
            "4it [00:00, 14.01it/s]\n"
          ]
        },
        {
          "output_type": "stream",
          "name": "stdout",
          "text": [
            "\t \tEpoch 45:, loss 0.401485, accuracy 0.845979\n",
            "EVAL: After epoch 45: step 180, loss 0.0263075, acc 0.550532\n",
            "\n",
            "Training epoch 46\n"
          ]
        },
        {
          "output_type": "stream",
          "name": "stderr",
          "text": [
            "4it [00:00, 15.04it/s]\n"
          ]
        },
        {
          "output_type": "stream",
          "name": "stdout",
          "text": [
            "\t \tEpoch 46:, loss 0.440103, accuracy 0.82959\n",
            "EVAL: After epoch 46: step 184, loss 0.0263886, acc 0.554521\n",
            "\n",
            "Training epoch 47\n"
          ]
        },
        {
          "output_type": "stream",
          "name": "stderr",
          "text": [
            "4it [00:00, 13.95it/s]\n"
          ]
        },
        {
          "output_type": "stream",
          "name": "stdout",
          "text": [
            "\t \tEpoch 47:, loss 0.404271, accuracy 0.822505\n",
            "EVAL: After epoch 47: step 188, loss 0.0264339, acc 0.551862\n",
            "\n",
            "Training epoch 48\n"
          ]
        },
        {
          "output_type": "stream",
          "name": "stderr",
          "text": [
            "4it [00:00, 13.39it/s]\n"
          ]
        },
        {
          "output_type": "stream",
          "name": "stdout",
          "text": [
            "\t \tEpoch 48:, loss 0.371428, accuracy 0.864545\n",
            "EVAL: After epoch 48: step 192, loss 0.0265738, acc 0.551862\n",
            "\n",
            "Training epoch 49\n"
          ]
        },
        {
          "output_type": "stream",
          "name": "stderr",
          "text": [
            "4it [00:00, 13.24it/s]\n"
          ]
        },
        {
          "output_type": "stream",
          "name": "stdout",
          "text": [
            "\t \tEpoch 49:, loss 0.447802, accuracy 0.825583\n",
            "EVAL: After epoch 49: step 196, loss 0.0267659, acc 0.551862\n",
            "\n",
            "Training epoch 50\n"
          ]
        },
        {
          "output_type": "stream",
          "name": "stderr",
          "text": [
            "4it [00:00, 12.03it/s]\n"
          ]
        },
        {
          "output_type": "stream",
          "name": "stdout",
          "text": [
            "\t \tEpoch 50:, loss 0.410978, accuracy 0.825198\n",
            "EVAL: After epoch 50: step 200, loss 0.0269507, acc 0.550532\n",
            "\n",
            "Training epoch 51\n"
          ]
        },
        {
          "output_type": "stream",
          "name": "stderr",
          "text": [
            "4it [00:00, 13.67it/s]\n"
          ]
        },
        {
          "output_type": "stream",
          "name": "stdout",
          "text": [
            "\t \tEpoch 51:, loss 0.353093, accuracy 0.837489\n",
            "EVAL: After epoch 51: step 204, loss 0.0270765, acc 0.550532\n",
            "\n",
            "Training epoch 52\n"
          ]
        },
        {
          "output_type": "stream",
          "name": "stderr",
          "text": [
            "4it [00:00, 13.93it/s]\n"
          ]
        },
        {
          "output_type": "stream",
          "name": "stdout",
          "text": [
            "\t \tEpoch 52:, loss 0.369193, accuracy 0.851766\n",
            "EVAL: After epoch 52: step 208, loss 0.0272014, acc 0.554521\n",
            "\n",
            "Training epoch 53\n"
          ]
        },
        {
          "output_type": "stream",
          "name": "stderr",
          "text": [
            "4it [00:00, 13.98it/s]\n"
          ]
        },
        {
          "output_type": "stream",
          "name": "stdout",
          "text": [
            "\t \tEpoch 53:, loss 0.376387, accuracy 0.849839\n",
            "EVAL: After epoch 53: step 212, loss 0.0273942, acc 0.554521\n",
            "\n",
            "Training epoch 54\n"
          ]
        },
        {
          "output_type": "stream",
          "name": "stderr",
          "text": [
            "4it [00:00, 14.59it/s]\n"
          ]
        },
        {
          "output_type": "stream",
          "name": "stdout",
          "text": [
            "\t \tEpoch 54:, loss 0.373633, accuracy 0.841478\n",
            "EVAL: After epoch 54: step 216, loss 0.0275542, acc 0.554521\n",
            "\n",
            "Training epoch 55\n"
          ]
        },
        {
          "output_type": "stream",
          "name": "stderr",
          "text": [
            "4it [00:00, 14.19it/s]\n"
          ]
        },
        {
          "output_type": "stream",
          "name": "stdout",
          "text": [
            "\t \tEpoch 55:, loss 0.375568, accuracy 0.83471\n",
            "EVAL: After epoch 55: step 220, loss 0.027628, acc 0.558511\n",
            "\n",
            "Training epoch 56\n"
          ]
        },
        {
          "output_type": "stream",
          "name": "stderr",
          "text": [
            "4it [00:00, 14.26it/s]\n"
          ]
        },
        {
          "output_type": "stream",
          "name": "stdout",
          "text": [
            "\t \tEpoch 56:, loss 0.344175, accuracy 0.863142\n",
            "EVAL: After epoch 56: step 224, loss 0.0277685, acc 0.555851\n",
            "\n",
            "Training epoch 57\n"
          ]
        },
        {
          "output_type": "stream",
          "name": "stderr",
          "text": [
            "4it [00:00, 14.09it/s]\n"
          ]
        },
        {
          "output_type": "stream",
          "name": "stdout",
          "text": [
            "\t \tEpoch 57:, loss 0.360653, accuracy 0.843333\n",
            "EVAL: After epoch 57: step 228, loss 0.027915, acc 0.553191\n",
            "\n",
            "Training epoch 58\n"
          ]
        },
        {
          "output_type": "stream",
          "name": "stderr",
          "text": [
            "4it [00:00, 12.93it/s]\n"
          ]
        },
        {
          "output_type": "stream",
          "name": "stdout",
          "text": [
            "\t \tEpoch 58:, loss 0.342974, accuracy 0.85565\n",
            "EVAL: After epoch 58: step 232, loss 0.0280079, acc 0.555851\n",
            "\n",
            "Training epoch 59\n"
          ]
        },
        {
          "output_type": "stream",
          "name": "stderr",
          "text": [
            "4it [00:00, 13.86it/s]\n"
          ]
        },
        {
          "output_type": "stream",
          "name": "stdout",
          "text": [
            "\t \tEpoch 59:, loss 0.352709, accuracy 0.862535\n",
            "EVAL: After epoch 59: step 236, loss 0.0281568, acc 0.554521\n",
            "\n",
            "Training epoch 60\n"
          ]
        },
        {
          "output_type": "stream",
          "name": "stderr",
          "text": [
            "4it [00:00, 14.04it/s]\n"
          ]
        },
        {
          "output_type": "stream",
          "name": "stdout",
          "text": [
            "\t \tEpoch 60:, loss 0.362953, accuracy 0.844768\n",
            "EVAL: After epoch 60: step 240, loss 0.0283413, acc 0.553191\n",
            "\n",
            "Training epoch 61\n"
          ]
        },
        {
          "output_type": "stream",
          "name": "stderr",
          "text": [
            "4it [00:00, 15.14it/s]\n"
          ]
        },
        {
          "output_type": "stream",
          "name": "stdout",
          "text": [
            "\t \tEpoch 61:, loss 0.433109, accuracy 0.837475\n",
            "EVAL: After epoch 61: step 244, loss 0.0284806, acc 0.553191\n",
            "\n",
            "Training epoch 62\n"
          ]
        },
        {
          "output_type": "stream",
          "name": "stderr",
          "text": [
            "4it [00:00, 15.25it/s]\n"
          ]
        },
        {
          "output_type": "stream",
          "name": "stdout",
          "text": [
            "\t \tEpoch 62:, loss 0.344905, accuracy 0.864324\n",
            "EVAL: After epoch 62: step 248, loss 0.0286894, acc 0.555851\n",
            "\n",
            "Training epoch 63\n"
          ]
        },
        {
          "output_type": "stream",
          "name": "stderr",
          "text": [
            "4it [00:00, 14.35it/s]\n"
          ]
        },
        {
          "output_type": "stream",
          "name": "stdout",
          "text": [
            "\t \tEpoch 63:, loss 0.393678, accuracy 0.863848\n",
            "EVAL: After epoch 63: step 252, loss 0.0287851, acc 0.554521\n",
            "\n",
            "Training epoch 64\n"
          ]
        },
        {
          "output_type": "stream",
          "name": "stderr",
          "text": [
            "4it [00:00, 13.56it/s]\n"
          ]
        },
        {
          "output_type": "stream",
          "name": "stdout",
          "text": [
            "\t \tEpoch 64:, loss 0.341917, accuracy 0.874547\n",
            "EVAL: After epoch 64: step 256, loss 0.0288855, acc 0.554521\n",
            "\n",
            "Training epoch 65\n"
          ]
        },
        {
          "output_type": "stream",
          "name": "stderr",
          "text": [
            "4it [00:00, 13.63it/s]\n"
          ]
        },
        {
          "output_type": "stream",
          "name": "stdout",
          "text": [
            "\t \tEpoch 65:, loss 0.369103, accuracy 0.855223\n",
            "EVAL: After epoch 65: step 260, loss 0.0289429, acc 0.554521\n",
            "\n",
            "Training epoch 66\n"
          ]
        },
        {
          "output_type": "stream",
          "name": "stderr",
          "text": [
            "4it [00:00, 13.90it/s]\n"
          ]
        },
        {
          "output_type": "stream",
          "name": "stdout",
          "text": [
            "\t \tEpoch 66:, loss 0.341902, accuracy 0.860656\n",
            "EVAL: After epoch 66: step 264, loss 0.0290274, acc 0.555851\n",
            "\n",
            "Training epoch 67\n"
          ]
        },
        {
          "output_type": "stream",
          "name": "stderr",
          "text": [
            "4it [00:00, 12.92it/s]\n"
          ]
        },
        {
          "output_type": "stream",
          "name": "stdout",
          "text": [
            "\t \tEpoch 67:, loss 0.355593, accuracy 0.859734\n",
            "EVAL: After epoch 67: step 268, loss 0.0291546, acc 0.554521\n",
            "\n",
            "Training epoch 68\n"
          ]
        },
        {
          "output_type": "stream",
          "name": "stderr",
          "text": [
            "4it [00:00, 13.75it/s]\n"
          ]
        },
        {
          "output_type": "stream",
          "name": "stdout",
          "text": [
            "\t \tEpoch 68:, loss 0.371253, accuracy 0.867091\n",
            "EVAL: After epoch 68: step 272, loss 0.0293269, acc 0.558511\n",
            "\n",
            "Training epoch 69\n"
          ]
        },
        {
          "output_type": "stream",
          "name": "stderr",
          "text": [
            "4it [00:00, 13.24it/s]\n"
          ]
        },
        {
          "output_type": "stream",
          "name": "stdout",
          "text": [
            "\t \tEpoch 69:, loss 0.335557, accuracy 0.851113\n",
            "EVAL: After epoch 69: step 276, loss 0.0294873, acc 0.558511\n",
            "\n",
            "Training epoch 70\n"
          ]
        },
        {
          "output_type": "stream",
          "name": "stderr",
          "text": [
            "4it [00:00, 13.22it/s]\n"
          ]
        },
        {
          "output_type": "stream",
          "name": "stdout",
          "text": [
            "\t \tEpoch 70:, loss 0.297383, accuracy 0.883974\n",
            "EVAL: After epoch 70: step 280, loss 0.0296105, acc 0.557181\n",
            "\n",
            "Training epoch 71\n"
          ]
        },
        {
          "output_type": "stream",
          "name": "stderr",
          "text": [
            "4it [00:00, 14.25it/s]\n"
          ]
        },
        {
          "output_type": "stream",
          "name": "stdout",
          "text": [
            "\t \tEpoch 71:, loss 0.428675, accuracy 0.827787\n",
            "EVAL: After epoch 71: step 284, loss 0.0297512, acc 0.557181\n",
            "\n",
            "Training epoch 72\n"
          ]
        },
        {
          "output_type": "stream",
          "name": "stderr",
          "text": [
            "4it [00:00, 14.06it/s]\n"
          ]
        },
        {
          "output_type": "stream",
          "name": "stdout",
          "text": [
            "\t \tEpoch 72:, loss 0.327925, accuracy 0.865199\n",
            "EVAL: After epoch 72: step 288, loss 0.0298342, acc 0.555851\n",
            "\n",
            "Training epoch 73\n"
          ]
        },
        {
          "output_type": "stream",
          "name": "stderr",
          "text": [
            "4it [00:00, 12.80it/s]\n"
          ]
        },
        {
          "output_type": "stream",
          "name": "stdout",
          "text": [
            "\t \tEpoch 73:, loss 0.371283, accuracy 0.852816\n",
            "EVAL: After epoch 73: step 292, loss 0.0298475, acc 0.554521\n",
            "\n",
            "Training epoch 74\n"
          ]
        },
        {
          "output_type": "stream",
          "name": "stderr",
          "text": [
            "4it [00:00, 13.30it/s]\n"
          ]
        },
        {
          "output_type": "stream",
          "name": "stdout",
          "text": [
            "\t \tEpoch 74:, loss 0.292932, accuracy 0.876497\n",
            "EVAL: After epoch 74: step 296, loss 0.0299459, acc 0.554521\n",
            "\n",
            "Training epoch 75\n"
          ]
        },
        {
          "output_type": "stream",
          "name": "stderr",
          "text": [
            "4it [00:00, 15.25it/s]\n"
          ]
        },
        {
          "output_type": "stream",
          "name": "stdout",
          "text": [
            "\t \tEpoch 75:, loss 0.323479, accuracy 0.881295\n",
            "EVAL: After epoch 75: step 300, loss 0.030121, acc 0.555851\n",
            "\n",
            "Training epoch 76\n"
          ]
        },
        {
          "output_type": "stream",
          "name": "stderr",
          "text": [
            "4it [00:00, 14.15it/s]\n"
          ]
        },
        {
          "output_type": "stream",
          "name": "stdout",
          "text": [
            "\t \tEpoch 76:, loss 0.333264, accuracy 0.884833\n",
            "EVAL: After epoch 76: step 304, loss 0.0302642, acc 0.557181\n",
            "\n",
            "Training epoch 77\n"
          ]
        },
        {
          "output_type": "stream",
          "name": "stderr",
          "text": [
            "4it [00:00, 14.09it/s]\n"
          ]
        },
        {
          "output_type": "stream",
          "name": "stdout",
          "text": [
            "\t \tEpoch 77:, loss 0.305765, accuracy 0.881546\n",
            "EVAL: After epoch 77: step 308, loss 0.0303351, acc 0.557181\n",
            "\n",
            "Training epoch 78\n"
          ]
        },
        {
          "output_type": "stream",
          "name": "stderr",
          "text": [
            "4it [00:00, 14.26it/s]\n"
          ]
        },
        {
          "output_type": "stream",
          "name": "stdout",
          "text": [
            "\t \tEpoch 78:, loss 0.314655, accuracy 0.879277\n",
            "EVAL: After epoch 78: step 312, loss 0.0304696, acc 0.55984\n",
            "\n",
            "Training epoch 79\n"
          ]
        },
        {
          "output_type": "stream",
          "name": "stderr",
          "text": [
            "4it [00:00, 12.56it/s]\n"
          ]
        },
        {
          "output_type": "stream",
          "name": "stdout",
          "text": [
            "\t \tEpoch 79:, loss 0.333539, accuracy 0.878683\n",
            "EVAL: After epoch 79: step 316, loss 0.0307023, acc 0.558511\n",
            "\n",
            "Training epoch 80\n"
          ]
        },
        {
          "output_type": "stream",
          "name": "stderr",
          "text": [
            "4it [00:00, 13.45it/s]\n"
          ]
        },
        {
          "output_type": "stream",
          "name": "stdout",
          "text": [
            "\t \tEpoch 80:, loss 0.335109, accuracy 0.869464\n",
            "EVAL: After epoch 80: step 320, loss 0.0309148, acc 0.554521\n",
            "\n",
            "Training epoch 81\n"
          ]
        },
        {
          "output_type": "stream",
          "name": "stderr",
          "text": [
            "4it [00:00, 13.56it/s]\n"
          ]
        },
        {
          "output_type": "stream",
          "name": "stdout",
          "text": [
            "\t \tEpoch 81:, loss 0.259194, accuracy 0.908036\n",
            "EVAL: After epoch 81: step 324, loss 0.0309643, acc 0.555851\n",
            "\n",
            "Training epoch 82\n"
          ]
        },
        {
          "output_type": "stream",
          "name": "stderr",
          "text": [
            "4it [00:00, 13.00it/s]\n"
          ]
        },
        {
          "output_type": "stream",
          "name": "stdout",
          "text": [
            "\t \tEpoch 82:, loss 0.310253, accuracy 0.888543\n",
            "EVAL: After epoch 82: step 328, loss 0.0310107, acc 0.557181\n",
            "\n",
            "Training epoch 83\n"
          ]
        },
        {
          "output_type": "stream",
          "name": "stderr",
          "text": [
            "4it [00:00, 13.87it/s]\n"
          ]
        },
        {
          "output_type": "stream",
          "name": "stdout",
          "text": [
            "\t \tEpoch 83:, loss 0.328721, accuracy 0.884619\n",
            "EVAL: After epoch 83: step 332, loss 0.0309752, acc 0.557181\n",
            "\n",
            "Training epoch 84\n"
          ]
        },
        {
          "output_type": "stream",
          "name": "stderr",
          "text": [
            "4it [00:00, 13.82it/s]\n"
          ]
        },
        {
          "output_type": "stream",
          "name": "stdout",
          "text": [
            "\t \tEpoch 84:, loss 0.316362, accuracy 0.880085\n",
            "EVAL: After epoch 84: step 336, loss 0.0309759, acc 0.558511\n",
            "\n",
            "Training epoch 85\n"
          ]
        },
        {
          "output_type": "stream",
          "name": "stderr",
          "text": [
            "4it [00:00, 13.01it/s]\n"
          ]
        },
        {
          "output_type": "stream",
          "name": "stdout",
          "text": [
            "\t \tEpoch 85:, loss 0.283925, accuracy 0.889152\n",
            "EVAL: After epoch 85: step 340, loss 0.0309987, acc 0.558511\n",
            "\n",
            "Training epoch 86\n"
          ]
        },
        {
          "output_type": "stream",
          "name": "stderr",
          "text": [
            "4it [00:00, 13.94it/s]\n"
          ]
        },
        {
          "output_type": "stream",
          "name": "stdout",
          "text": [
            "\t \tEpoch 86:, loss 0.28159, accuracy 0.902411\n",
            "EVAL: After epoch 86: step 344, loss 0.0310765, acc 0.554521\n",
            "\n",
            "Training epoch 87\n"
          ]
        },
        {
          "output_type": "stream",
          "name": "stderr",
          "text": [
            "4it [00:00, 15.09it/s]\n"
          ]
        },
        {
          "output_type": "stream",
          "name": "stdout",
          "text": [
            "\t \tEpoch 87:, loss 0.273388, accuracy 0.900965\n",
            "EVAL: After epoch 87: step 348, loss 0.0311745, acc 0.554521\n",
            "\n",
            "Training epoch 88\n"
          ]
        },
        {
          "output_type": "stream",
          "name": "stderr",
          "text": [
            "4it [00:00, 13.28it/s]\n"
          ]
        },
        {
          "output_type": "stream",
          "name": "stdout",
          "text": [
            "\t \tEpoch 88:, loss 0.295865, accuracy 0.884368\n",
            "EVAL: After epoch 88: step 352, loss 0.0313099, acc 0.553191\n",
            "\n",
            "Training epoch 89\n"
          ]
        },
        {
          "output_type": "stream",
          "name": "stderr",
          "text": [
            "4it [00:00, 13.90it/s]\n"
          ]
        },
        {
          "output_type": "stream",
          "name": "stdout",
          "text": [
            "\t \tEpoch 89:, loss 0.256456, accuracy 0.905675\n",
            "EVAL: After epoch 89: step 356, loss 0.0314472, acc 0.551862\n",
            "\n",
            "Training epoch 90\n"
          ]
        },
        {
          "output_type": "stream",
          "name": "stderr",
          "text": [
            "4it [00:00, 13.41it/s]\n"
          ]
        },
        {
          "output_type": "stream",
          "name": "stdout",
          "text": [
            "\t \tEpoch 90:, loss 0.3204, accuracy 0.882407\n",
            "EVAL: After epoch 90: step 360, loss 0.0316095, acc 0.550532\n",
            "\n",
            "Training epoch 91\n"
          ]
        },
        {
          "output_type": "stream",
          "name": "stderr",
          "text": [
            "4it [00:00, 12.96it/s]\n"
          ]
        },
        {
          "output_type": "stream",
          "name": "stdout",
          "text": [
            "\t \tEpoch 91:, loss 0.260003, accuracy 0.910958\n",
            "EVAL: After epoch 91: step 364, loss 0.0316873, acc 0.550532\n",
            "\n",
            "Training epoch 92\n"
          ]
        },
        {
          "output_type": "stream",
          "name": "stderr",
          "text": [
            "4it [00:00, 13.35it/s]\n"
          ]
        },
        {
          "output_type": "stream",
          "name": "stdout",
          "text": [
            "\t \tEpoch 92:, loss 0.251105, accuracy 0.906528\n",
            "EVAL: After epoch 92: step 368, loss 0.031799, acc 0.550532\n",
            "\n",
            "Training epoch 93\n"
          ]
        },
        {
          "output_type": "stream",
          "name": "stderr",
          "text": [
            "4it [00:00, 14.54it/s]\n"
          ]
        },
        {
          "output_type": "stream",
          "name": "stdout",
          "text": [
            "\t \tEpoch 93:, loss 0.27232, accuracy 0.905568\n",
            "EVAL: After epoch 93: step 372, loss 0.0319663, acc 0.551862\n",
            "\n",
            "Training epoch 94\n"
          ]
        },
        {
          "output_type": "stream",
          "name": "stderr",
          "text": [
            "4it [00:00, 15.07it/s]\n"
          ]
        },
        {
          "output_type": "stream",
          "name": "stdout",
          "text": [
            "\t \tEpoch 94:, loss 0.275799, accuracy 0.904755\n",
            "EVAL: After epoch 94: step 376, loss 0.0321445, acc 0.549202\n",
            "\n",
            "Training epoch 95\n"
          ]
        },
        {
          "output_type": "stream",
          "name": "stderr",
          "text": [
            "4it [00:00, 14.70it/s]\n"
          ]
        },
        {
          "output_type": "stream",
          "name": "stdout",
          "text": [
            "\t \tEpoch 95:, loss 0.240372, accuracy 0.907425\n",
            "EVAL: After epoch 95: step 380, loss 0.0323382, acc 0.549202\n",
            "\n",
            "Training epoch 96\n"
          ]
        },
        {
          "output_type": "stream",
          "name": "stderr",
          "text": [
            "4it [00:00, 13.57it/s]\n"
          ]
        },
        {
          "output_type": "stream",
          "name": "stdout",
          "text": [
            "\t \tEpoch 96:, loss 0.292889, accuracy 0.867146\n",
            "EVAL: After epoch 96: step 384, loss 0.0324313, acc 0.546543\n",
            "\n",
            "Training epoch 97\n"
          ]
        },
        {
          "output_type": "stream",
          "name": "stderr",
          "text": [
            "4it [00:00, 13.26it/s]\n"
          ]
        },
        {
          "output_type": "stream",
          "name": "stdout",
          "text": [
            "\t \tEpoch 97:, loss 0.31696, accuracy 0.884465\n",
            "EVAL: After epoch 97: step 388, loss 0.0324815, acc 0.546543\n",
            "\n",
            "Training epoch 98\n"
          ]
        },
        {
          "output_type": "stream",
          "name": "stderr",
          "text": [
            "4it [00:00, 13.37it/s]\n"
          ]
        },
        {
          "output_type": "stream",
          "name": "stdout",
          "text": [
            "\t \tEpoch 98:, loss 0.260492, accuracy 0.897444\n",
            "EVAL: After epoch 98: step 392, loss 0.0325538, acc 0.546543\n",
            "\n",
            "Training epoch 99\n"
          ]
        },
        {
          "output_type": "stream",
          "name": "stderr",
          "text": [
            "4it [00:00,  8.03it/s]\n"
          ]
        },
        {
          "output_type": "stream",
          "name": "stdout",
          "text": [
            "\t \tEpoch 99:, loss 0.253092, accuracy 0.916011\n",
            "EVAL: After epoch 99: step 396, loss 0.0325908, acc 0.550532\n",
            "\n",
            "Training epoch 100\n"
          ]
        },
        {
          "output_type": "stream",
          "name": "stderr",
          "text": [
            "4it [00:00,  6.92it/s]\n"
          ]
        },
        {
          "output_type": "stream",
          "name": "stdout",
          "text": [
            "\t \tEpoch 100:, loss 0.264789, accuracy 0.912171\n",
            "EVAL: After epoch 100: step 400, loss 0.0326008, acc 0.549202\n",
            "\n",
            "\n",
            "Best epoch: 1\n",
            "Best test accuracy: 0.5917553305625916\n",
            "\n",
            "\n",
            "Best epoch: 1\n",
            "Best test loss: 0.02313434693121141\n",
            "Saving unimodal activations\n",
            "DATA [[[ 0.         2.33805    4.35236   ...  0.         0.         0.       ]\n",
            "  [ 0.         0.         0.875912  ...  0.         0.         0.       ]\n",
            "  [ 0.         0.0453878  0.        ...  0.         0.         0.       ]\n",
            "  ...\n",
            "  [ 0.         0.         0.        ...  0.         0.         0.       ]\n",
            "  [ 0.         0.         0.        ...  0.         0.         0.       ]\n",
            "  [ 0.         0.         0.        ...  0.         0.         0.       ]]\n",
            "\n",
            " [[ 0.        21.939      0.        ...  0.         0.         0.       ]\n",
            "  [ 0.         6.19246    0.        ...  4.22521    0.         0.       ]\n",
            "  [ 0.         7.60775    0.        ...  0.         2.02983    0.       ]\n",
            "  ...\n",
            "  [ 0.         0.         0.        ...  0.         0.         0.       ]\n",
            "  [ 0.         0.         0.        ...  0.         0.         0.       ]\n",
            "  [ 0.         0.         0.        ...  0.         0.         0.       ]]\n",
            "\n",
            " [[ 0.         0.         0.        ...  0.         0.         0.       ]\n",
            "  [ 0.         2.27633    0.        ...  0.         4.73936    0.       ]\n",
            "  [ 0.         0.         0.        ...  0.         0.         0.       ]\n",
            "  ...\n",
            "  [ 0.         0.         0.        ...  0.         0.         0.       ]\n",
            "  [ 0.         0.         0.        ...  0.         0.         0.       ]\n",
            "  [ 0.         0.         0.        ...  0.         0.         0.       ]]\n",
            "\n",
            " ...\n",
            "\n",
            " [[ 0.        10.0005     0.        ...  0.         0.         0.       ]\n",
            "  [ 0.         2.18262    6.77365   ...  1.31965    0.         0.       ]\n",
            "  [ 0.         0.186346   0.        ...  0.        17.5905     0.       ]\n",
            "  ...\n",
            "  [ 0.         0.         0.        ...  0.         0.         0.       ]\n",
            "  [ 0.         0.         0.        ...  0.         0.         0.       ]\n",
            "  [ 0.         0.         0.        ...  0.         0.         0.       ]]\n",
            "\n",
            " [[ 0.         0.         0.        ...  0.         1.96509    0.       ]\n",
            "  [ 0.         4.17841    0.        ...  0.         0.         0.       ]\n",
            "  [ 0.         0.         4.31274   ...  0.         0.         0.       ]\n",
            "  ...\n",
            "  [ 0.         0.         0.        ...  0.         0.         0.       ]\n",
            "  [ 0.         0.         0.        ...  0.         0.         0.       ]\n",
            "  [ 0.         0.         0.        ...  0.         0.         0.       ]]\n",
            "\n",
            " [[ 0.         0.        10.8073    ...  0.         0.         0.       ]\n",
            "  [ 0.         7.05438    0.828425  ...  0.         0.         0.       ]\n",
            "  [ 0.         0.         0.        ...  0.         0.         0.       ]\n",
            "  ...\n",
            "  [ 0.         0.         0.        ...  0.         0.         0.       ]\n",
            "  [ 0.         0.         0.        ...  0.         0.         0.       ]\n",
            "  [ 0.         0.         0.        ...  0.         0.         0.       ]]]\n",
            "shape (62, 63, 100)\n",
            "(62, 63, 273)\n",
            "(31, 63, 273)\n",
            "train_label shape (62, 63)\n",
            "test_label shape (31, 63)\n",
            "1\n",
            "1\n",
            "maxlen 1\n",
            "train [[[1. 0.]\n",
            "  [1. 0.]\n",
            "  [1. 0.]\n",
            "  ...\n",
            "  [1. 0.]\n",
            "  [1. 0.]\n",
            "  [1. 0.]]\n",
            "\n",
            " [[0. 1.]\n",
            "  [1. 0.]\n",
            "  [1. 0.]\n",
            "  ...\n",
            "  [1. 0.]\n",
            "  [1. 0.]\n",
            "  [1. 0.]]\n",
            "\n",
            " [[1. 0.]\n",
            "  [1. 0.]\n",
            "  [0. 1.]\n",
            "  ...\n",
            "  [1. 0.]\n",
            "  [1. 0.]\n",
            "  [1. 0.]]\n",
            "\n",
            " ...\n",
            "\n",
            " [[0. 1.]\n",
            "  [0. 1.]\n",
            "  [1. 0.]\n",
            "  ...\n",
            "  [1. 0.]\n",
            "  [1. 0.]\n",
            "  [1. 0.]]\n",
            "\n",
            " [[0. 1.]\n",
            "  [1. 0.]\n",
            "  [0. 1.]\n",
            "  ...\n",
            "  [1. 0.]\n",
            "  [1. 0.]\n",
            "  [1. 0.]]\n",
            "\n",
            " [[1. 0.]\n",
            "  [0. 1.]\n",
            "  [0. 1.]\n",
            "  ...\n",
            "  [1. 0.]\n",
            "  [1. 0.]\n",
            "  [1. 0.]]]\n",
            "test [[[1. 0.]\n",
            "  [0. 1.]\n",
            "  [0. 1.]\n",
            "  ...\n",
            "  [1. 0.]\n",
            "  [1. 0.]\n",
            "  [1. 0.]]\n",
            "\n",
            " [[1. 0.]\n",
            "  [0. 1.]\n",
            "  [0. 1.]\n",
            "  ...\n",
            "  [1. 0.]\n",
            "  [1. 0.]\n",
            "  [1. 0.]]\n",
            "\n",
            " [[0. 1.]\n",
            "  [1. 0.]\n",
            "  [1. 0.]\n",
            "  ...\n",
            "  [1. 0.]\n",
            "  [1. 0.]\n",
            "  [1. 0.]]\n",
            "\n",
            " ...\n",
            "\n",
            " [[0. 1.]\n",
            "  [1. 0.]\n",
            "  [0. 1.]\n",
            "  ...\n",
            "  [1. 0.]\n",
            "  [1. 0.]\n",
            "  [1. 0.]]\n",
            "\n",
            " [[1. 0.]\n",
            "  [1. 0.]\n",
            "  [1. 0.]\n",
            "  ...\n",
            "  [1. 0.]\n",
            "  [1. 0.]\n",
            "  [1. 0.]]\n",
            "\n",
            " [[0. 1.]\n",
            "  [0. 1.]\n",
            "  [0. 1.]\n",
            "  ...\n",
            "  [1. 0.]\n",
            "  [1. 0.]\n",
            "  [1. 0.]]]\n",
            "train_mask (62, 63)\n",
            "Using GPU -  /device:GPU:0\n",
            "Trainable parameters: 273402\n",
            "\n",
            "Evaluation before training:\n",
            "EVAL: epoch 0: step 0, loss 0.678, acc 0.621011\n",
            "\n",
            "Training epoch 1\n"
          ]
        },
        {
          "output_type": "stream",
          "name": "stderr",
          "text": [
            "\r0it [00:00, ?it/s]/usr/local/lib/python3.7/dist-packages/ipykernel_launcher.py:5: VisibleDeprecationWarning: Creating an ndarray from ragged nested sequences (which is a list-or-tuple of lists-or-tuples-or ndarrays with different lengths or shapes) is deprecated. If you meant to do this, you must specify 'dtype=object' when creating the ndarray.\n",
            "  \"\"\"\n",
            "4it [00:07,  1.90s/it]\n"
          ]
        },
        {
          "output_type": "stream",
          "name": "stdout",
          "text": [
            "\t \tEpoch 1:, loss 0.732683, accuracy 0.462147\n",
            "EVAL: After epoch 1: step 4, loss 0.0221852, acc 0.56383, f1 0.491652\n",
            "\n",
            "Training epoch 2\n"
          ]
        },
        {
          "output_type": "stream",
          "name": "stderr",
          "text": [
            "\r0it [00:00, ?it/s]/usr/local/lib/python3.7/dist-packages/ipykernel_launcher.py:5: VisibleDeprecationWarning: Creating an ndarray from ragged nested sequences (which is a list-or-tuple of lists-or-tuples-or ndarrays with different lengths or shapes) is deprecated. If you meant to do this, you must specify 'dtype=object' when creating the ndarray.\n",
            "  \"\"\"\n",
            "4it [00:01,  2.30it/s]\n"
          ]
        },
        {
          "output_type": "stream",
          "name": "stdout",
          "text": [
            "\t \tEpoch 2:, loss 0.710129, accuracy 0.500585\n",
            "EVAL: After epoch 2: step 8, loss 0.0233039, acc 0.378989, f1 0.208316\n",
            "\n",
            "Training epoch 3\n"
          ]
        },
        {
          "output_type": "stream",
          "name": "stderr",
          "text": [
            "\r0it [00:00, ?it/s]/usr/local/lib/python3.7/dist-packages/ipykernel_launcher.py:5: VisibleDeprecationWarning: Creating an ndarray from ragged nested sequences (which is a list-or-tuple of lists-or-tuples-or ndarrays with different lengths or shapes) is deprecated. If you meant to do this, you must specify 'dtype=object' when creating the ndarray.\n",
            "  \"\"\"\n",
            "4it [00:01,  2.32it/s]\n"
          ]
        },
        {
          "output_type": "stream",
          "name": "stdout",
          "text": [
            "\t \tEpoch 3:, loss 0.713929, accuracy 0.484759\n",
            "EVAL: After epoch 3: step 12, loss 0.023092, acc 0.378989, f1 0.208316\n",
            "\n",
            "Training epoch 4\n"
          ]
        },
        {
          "output_type": "stream",
          "name": "stderr",
          "text": [
            "\r0it [00:00, ?it/s]/usr/local/lib/python3.7/dist-packages/ipykernel_launcher.py:5: VisibleDeprecationWarning: Creating an ndarray from ragged nested sequences (which is a list-or-tuple of lists-or-tuples-or ndarrays with different lengths or shapes) is deprecated. If you meant to do this, you must specify 'dtype=object' when creating the ndarray.\n",
            "  \"\"\"\n",
            "4it [00:01,  2.28it/s]\n"
          ]
        },
        {
          "output_type": "stream",
          "name": "stdout",
          "text": [
            "\t \tEpoch 4:, loss 0.700066, accuracy 0.522522\n",
            "EVAL: After epoch 4: step 16, loss 0.0223347, acc 0.506649, f1 0.508007\n",
            "\n",
            "Training epoch 5\n"
          ]
        },
        {
          "output_type": "stream",
          "name": "stderr",
          "text": [
            "\r0it [00:00, ?it/s]/usr/local/lib/python3.7/dist-packages/ipykernel_launcher.py:5: VisibleDeprecationWarning: Creating an ndarray from ragged nested sequences (which is a list-or-tuple of lists-or-tuples-or ndarrays with different lengths or shapes) is deprecated. If you meant to do this, you must specify 'dtype=object' when creating the ndarray.\n",
            "  \"\"\"\n",
            "4it [00:01,  2.29it/s]\n"
          ]
        },
        {
          "output_type": "stream",
          "name": "stdout",
          "text": [
            "\t \tEpoch 5:, loss 0.685089, accuracy 0.556921\n",
            "EVAL: After epoch 5: step 20, loss 0.0217313, acc 0.648936, f1 0.573443\n",
            "\n",
            "Training epoch 6\n"
          ]
        },
        {
          "output_type": "stream",
          "name": "stderr",
          "text": [
            "\r0it [00:00, ?it/s]/usr/local/lib/python3.7/dist-packages/ipykernel_launcher.py:5: VisibleDeprecationWarning: Creating an ndarray from ragged nested sequences (which is a list-or-tuple of lists-or-tuples-or ndarrays with different lengths or shapes) is deprecated. If you meant to do this, you must specify 'dtype=object' when creating the ndarray.\n",
            "  \"\"\"\n",
            "4it [00:01,  2.28it/s]\n"
          ]
        },
        {
          "output_type": "stream",
          "name": "stdout",
          "text": [
            "\t \tEpoch 6:, loss 0.696775, accuracy 0.50911\n",
            "EVAL: After epoch 6: step 24, loss 0.0214859, acc 0.644947, f1 0.565076\n",
            "\n",
            "Training epoch 7\n"
          ]
        },
        {
          "output_type": "stream",
          "name": "stderr",
          "text": [
            "\r0it [00:00, ?it/s]/usr/local/lib/python3.7/dist-packages/ipykernel_launcher.py:5: VisibleDeprecationWarning: Creating an ndarray from ragged nested sequences (which is a list-or-tuple of lists-or-tuples-or ndarrays with different lengths or shapes) is deprecated. If you meant to do this, you must specify 'dtype=object' when creating the ndarray.\n",
            "  \"\"\"\n",
            "4it [00:01,  2.31it/s]\n"
          ]
        },
        {
          "output_type": "stream",
          "name": "stdout",
          "text": [
            "\t \tEpoch 7:, loss 0.67908, accuracy 0.576439\n",
            "EVAL: After epoch 7: step 28, loss 0.0215599, acc 0.646277, f1 0.567416\n",
            "\n",
            "Training epoch 8\n"
          ]
        },
        {
          "output_type": "stream",
          "name": "stderr",
          "text": [
            "\r0it [00:00, ?it/s]/usr/local/lib/python3.7/dist-packages/ipykernel_launcher.py:5: VisibleDeprecationWarning: Creating an ndarray from ragged nested sequences (which is a list-or-tuple of lists-or-tuples-or ndarrays with different lengths or shapes) is deprecated. If you meant to do this, you must specify 'dtype=object' when creating the ndarray.\n",
            "  \"\"\"\n",
            "4it [00:01,  2.29it/s]\n"
          ]
        },
        {
          "output_type": "stream",
          "name": "stdout",
          "text": [
            "\t \tEpoch 8:, loss 0.684228, accuracy 0.555429\n",
            "EVAL: After epoch 8: step 32, loss 0.0217192, acc 0.621011, f1 0.601225\n",
            "\n",
            "Training epoch 9\n"
          ]
        },
        {
          "output_type": "stream",
          "name": "stderr",
          "text": [
            "\r0it [00:00, ?it/s]/usr/local/lib/python3.7/dist-packages/ipykernel_launcher.py:5: VisibleDeprecationWarning: Creating an ndarray from ragged nested sequences (which is a list-or-tuple of lists-or-tuples-or ndarrays with different lengths or shapes) is deprecated. If you meant to do this, you must specify 'dtype=object' when creating the ndarray.\n",
            "  \"\"\"\n",
            "4it [00:01,  2.23it/s]\n"
          ]
        },
        {
          "output_type": "stream",
          "name": "stdout",
          "text": [
            "\t \tEpoch 9:, loss 0.672052, accuracy 0.61074\n",
            "EVAL: After epoch 9: step 36, loss 0.0218078, acc 0.579787, f1 0.583132\n",
            "\n",
            "Training epoch 10\n"
          ]
        },
        {
          "output_type": "stream",
          "name": "stderr",
          "text": [
            "\r0it [00:00, ?it/s]/usr/local/lib/python3.7/dist-packages/ipykernel_launcher.py:5: VisibleDeprecationWarning: Creating an ndarray from ragged nested sequences (which is a list-or-tuple of lists-or-tuples-or ndarrays with different lengths or shapes) is deprecated. If you meant to do this, you must specify 'dtype=object' when creating the ndarray.\n",
            "  \"\"\"\n",
            "4it [00:01,  2.27it/s]\n"
          ]
        },
        {
          "output_type": "stream",
          "name": "stdout",
          "text": [
            "\t \tEpoch 10:, loss 0.670524, accuracy 0.597949\n",
            "EVAL: After epoch 10: step 40, loss 0.0217447, acc 0.579787, f1 0.583132\n",
            "\n",
            "Training epoch 11\n"
          ]
        },
        {
          "output_type": "stream",
          "name": "stderr",
          "text": [
            "\r0it [00:00, ?it/s]/usr/local/lib/python3.7/dist-packages/ipykernel_launcher.py:5: VisibleDeprecationWarning: Creating an ndarray from ragged nested sequences (which is a list-or-tuple of lists-or-tuples-or ndarrays with different lengths or shapes) is deprecated. If you meant to do this, you must specify 'dtype=object' when creating the ndarray.\n",
            "  \"\"\"\n",
            "4it [00:01,  2.29it/s]\n"
          ]
        },
        {
          "output_type": "stream",
          "name": "stdout",
          "text": [
            "\t \tEpoch 11:, loss 0.660099, accuracy 0.598909\n",
            "EVAL: After epoch 11: step 44, loss 0.0214361, acc 0.647606, f1 0.59936\n",
            "\n",
            "Training epoch 12\n"
          ]
        },
        {
          "output_type": "stream",
          "name": "stderr",
          "text": [
            "\r0it [00:00, ?it/s]/usr/local/lib/python3.7/dist-packages/ipykernel_launcher.py:5: VisibleDeprecationWarning: Creating an ndarray from ragged nested sequences (which is a list-or-tuple of lists-or-tuples-or ndarrays with different lengths or shapes) is deprecated. If you meant to do this, you must specify 'dtype=object' when creating the ndarray.\n",
            "  \"\"\"\n",
            "4it [00:01,  2.23it/s]\n"
          ]
        },
        {
          "output_type": "stream",
          "name": "stdout",
          "text": [
            "\t \tEpoch 12:, loss 0.653039, accuracy 0.650273\n",
            "EVAL: After epoch 12: step 48, loss 0.0211544, acc 0.648936, f1 0.572065\n",
            "\n",
            "Training epoch 13\n"
          ]
        },
        {
          "output_type": "stream",
          "name": "stderr",
          "text": [
            "\r0it [00:00, ?it/s]/usr/local/lib/python3.7/dist-packages/ipykernel_launcher.py:5: VisibleDeprecationWarning: Creating an ndarray from ragged nested sequences (which is a list-or-tuple of lists-or-tuples-or ndarrays with different lengths or shapes) is deprecated. If you meant to do this, you must specify 'dtype=object' when creating the ndarray.\n",
            "  \"\"\"\n",
            "4it [00:01,  2.36it/s]\n"
          ]
        },
        {
          "output_type": "stream",
          "name": "stdout",
          "text": [
            "\t \tEpoch 13:, loss 0.641403, accuracy 0.646775\n",
            "EVAL: After epoch 13: step 52, loss 0.0211504, acc 0.651596, f1 0.597227\n",
            "\n",
            "Training epoch 14\n"
          ]
        },
        {
          "output_type": "stream",
          "name": "stderr",
          "text": [
            "\r0it [00:00, ?it/s]/usr/local/lib/python3.7/dist-packages/ipykernel_launcher.py:5: VisibleDeprecationWarning: Creating an ndarray from ragged nested sequences (which is a list-or-tuple of lists-or-tuples-or ndarrays with different lengths or shapes) is deprecated. If you meant to do this, you must specify 'dtype=object' when creating the ndarray.\n",
            "  \"\"\"\n",
            "4it [00:01,  2.25it/s]\n"
          ]
        },
        {
          "output_type": "stream",
          "name": "stdout",
          "text": [
            "\t \tEpoch 14:, loss 0.656655, accuracy 0.630158\n",
            "EVAL: After epoch 14: step 56, loss 0.0211794, acc 0.62367, f1 0.605224\n",
            "\n",
            "Training epoch 15\n"
          ]
        },
        {
          "output_type": "stream",
          "name": "stderr",
          "text": [
            "\r0it [00:00, ?it/s]/usr/local/lib/python3.7/dist-packages/ipykernel_launcher.py:5: VisibleDeprecationWarning: Creating an ndarray from ragged nested sequences (which is a list-or-tuple of lists-or-tuples-or ndarrays with different lengths or shapes) is deprecated. If you meant to do this, you must specify 'dtype=object' when creating the ndarray.\n",
            "  \"\"\"\n",
            "4it [00:01,  2.23it/s]\n"
          ]
        },
        {
          "output_type": "stream",
          "name": "stdout",
          "text": [
            "\t \tEpoch 15:, loss 0.651541, accuracy 0.654236\n",
            "EVAL: After epoch 15: step 60, loss 0.0212789, acc 0.614362, f1 0.60928\n",
            "\n",
            "Training epoch 16\n"
          ]
        },
        {
          "output_type": "stream",
          "name": "stderr",
          "text": [
            "\r0it [00:00, ?it/s]/usr/local/lib/python3.7/dist-packages/ipykernel_launcher.py:5: VisibleDeprecationWarning: Creating an ndarray from ragged nested sequences (which is a list-or-tuple of lists-or-tuples-or ndarrays with different lengths or shapes) is deprecated. If you meant to do this, you must specify 'dtype=object' when creating the ndarray.\n",
            "  \"\"\"\n",
            "4it [00:01,  2.23it/s]\n"
          ]
        },
        {
          "output_type": "stream",
          "name": "stdout",
          "text": [
            "\t \tEpoch 16:, loss 0.641284, accuracy 0.658802\n",
            "EVAL: After epoch 16: step 64, loss 0.0210188, acc 0.631649, f1 0.606673\n",
            "\n",
            "Training epoch 17\n"
          ]
        },
        {
          "output_type": "stream",
          "name": "stderr",
          "text": [
            "\r0it [00:00, ?it/s]/usr/local/lib/python3.7/dist-packages/ipykernel_launcher.py:5: VisibleDeprecationWarning: Creating an ndarray from ragged nested sequences (which is a list-or-tuple of lists-or-tuples-or ndarrays with different lengths or shapes) is deprecated. If you meant to do this, you must specify 'dtype=object' when creating the ndarray.\n",
            "  \"\"\"\n",
            "4it [00:01,  2.30it/s]\n"
          ]
        },
        {
          "output_type": "stream",
          "name": "stdout",
          "text": [
            "\t \tEpoch 17:, loss 0.624448, accuracy 0.691188\n",
            "EVAL: After epoch 17: step 68, loss 0.0208857, acc 0.650266, f1 0.608955\n",
            "\n",
            "Training epoch 18\n"
          ]
        },
        {
          "output_type": "stream",
          "name": "stderr",
          "text": [
            "\r0it [00:00, ?it/s]/usr/local/lib/python3.7/dist-packages/ipykernel_launcher.py:5: VisibleDeprecationWarning: Creating an ndarray from ragged nested sequences (which is a list-or-tuple of lists-or-tuples-or ndarrays with different lengths or shapes) is deprecated. If you meant to do this, you must specify 'dtype=object' when creating the ndarray.\n",
            "  \"\"\"\n",
            "4it [00:01,  2.30it/s]\n"
          ]
        },
        {
          "output_type": "stream",
          "name": "stdout",
          "text": [
            "\t \tEpoch 18:, loss 0.621882, accuracy 0.673847\n",
            "EVAL: After epoch 18: step 72, loss 0.0211026, acc 0.613032, f1 0.607363\n",
            "\n",
            "Training epoch 19\n"
          ]
        },
        {
          "output_type": "stream",
          "name": "stderr",
          "text": [
            "\r0it [00:00, ?it/s]/usr/local/lib/python3.7/dist-packages/ipykernel_launcher.py:5: VisibleDeprecationWarning: Creating an ndarray from ragged nested sequences (which is a list-or-tuple of lists-or-tuples-or ndarrays with different lengths or shapes) is deprecated. If you meant to do this, you must specify 'dtype=object' when creating the ndarray.\n",
            "  \"\"\"\n",
            "4it [00:01,  2.30it/s]\n"
          ]
        },
        {
          "output_type": "stream",
          "name": "stdout",
          "text": [
            "\t \tEpoch 19:, loss 0.634701, accuracy 0.630921\n",
            "EVAL: After epoch 19: step 76, loss 0.0210904, acc 0.618351, f1 0.613137\n",
            "\n",
            "Training epoch 20\n"
          ]
        },
        {
          "output_type": "stream",
          "name": "stderr",
          "text": [
            "\r0it [00:00, ?it/s]/usr/local/lib/python3.7/dist-packages/ipykernel_launcher.py:5: VisibleDeprecationWarning: Creating an ndarray from ragged nested sequences (which is a list-or-tuple of lists-or-tuples-or ndarrays with different lengths or shapes) is deprecated. If you meant to do this, you must specify 'dtype=object' when creating the ndarray.\n",
            "  \"\"\"\n",
            "4it [00:01,  2.23it/s]\n"
          ]
        },
        {
          "output_type": "stream",
          "name": "stdout",
          "text": [
            "\t \tEpoch 20:, loss 0.603439, accuracy 0.70842\n",
            "EVAL: After epoch 20: step 80, loss 0.0208176, acc 0.643617, f1 0.623541\n",
            "\n",
            "Training epoch 21\n"
          ]
        },
        {
          "output_type": "stream",
          "name": "stderr",
          "text": [
            "\r0it [00:00, ?it/s]/usr/local/lib/python3.7/dist-packages/ipykernel_launcher.py:5: VisibleDeprecationWarning: Creating an ndarray from ragged nested sequences (which is a list-or-tuple of lists-or-tuples-or ndarrays with different lengths or shapes) is deprecated. If you meant to do this, you must specify 'dtype=object' when creating the ndarray.\n",
            "  \"\"\"\n",
            "4it [00:01,  2.25it/s]\n"
          ]
        },
        {
          "output_type": "stream",
          "name": "stdout",
          "text": [
            "\t \tEpoch 21:, loss 0.617767, accuracy 0.671799\n",
            "EVAL: After epoch 21: step 84, loss 0.0206835, acc 0.650266, f1 0.605278\n",
            "\n",
            "Training epoch 22\n"
          ]
        },
        {
          "output_type": "stream",
          "name": "stderr",
          "text": [
            "\r0it [00:00, ?it/s]/usr/local/lib/python3.7/dist-packages/ipykernel_launcher.py:5: VisibleDeprecationWarning: Creating an ndarray from ragged nested sequences (which is a list-or-tuple of lists-or-tuples-or ndarrays with different lengths or shapes) is deprecated. If you meant to do this, you must specify 'dtype=object' when creating the ndarray.\n",
            "  \"\"\"\n",
            "4it [00:01,  2.26it/s]\n"
          ]
        },
        {
          "output_type": "stream",
          "name": "stdout",
          "text": [
            "\t \tEpoch 22:, loss 0.588456, accuracy 0.713716\n",
            "EVAL: After epoch 22: step 88, loss 0.0206888, acc 0.634309, f1 0.615217\n",
            "\n",
            "Training epoch 23\n"
          ]
        },
        {
          "output_type": "stream",
          "name": "stderr",
          "text": [
            "\r0it [00:00, ?it/s]/usr/local/lib/python3.7/dist-packages/ipykernel_launcher.py:5: VisibleDeprecationWarning: Creating an ndarray from ragged nested sequences (which is a list-or-tuple of lists-or-tuples-or ndarrays with different lengths or shapes) is deprecated. If you meant to do this, you must specify 'dtype=object' when creating the ndarray.\n",
            "  \"\"\"\n",
            "4it [00:01,  2.28it/s]\n"
          ]
        },
        {
          "output_type": "stream",
          "name": "stdout",
          "text": [
            "\t \tEpoch 23:, loss 0.555744, accuracy 0.754077\n",
            "EVAL: After epoch 23: step 92, loss 0.0210326, acc 0.621011, f1 0.619189\n",
            "\n",
            "Training epoch 24\n"
          ]
        },
        {
          "output_type": "stream",
          "name": "stderr",
          "text": [
            "\r0it [00:00, ?it/s]/usr/local/lib/python3.7/dist-packages/ipykernel_launcher.py:5: VisibleDeprecationWarning: Creating an ndarray from ragged nested sequences (which is a list-or-tuple of lists-or-tuples-or ndarrays with different lengths or shapes) is deprecated. If you meant to do this, you must specify 'dtype=object' when creating the ndarray.\n",
            "  \"\"\"\n",
            "4it [00:01,  2.30it/s]\n"
          ]
        },
        {
          "output_type": "stream",
          "name": "stdout",
          "text": [
            "\t \tEpoch 24:, loss 0.601452, accuracy 0.693915\n",
            "EVAL: After epoch 24: step 96, loss 0.0210001, acc 0.614362, f1 0.612961\n",
            "\n",
            "Training epoch 25\n"
          ]
        },
        {
          "output_type": "stream",
          "name": "stderr",
          "text": [
            "\r0it [00:00, ?it/s]/usr/local/lib/python3.7/dist-packages/ipykernel_launcher.py:5: VisibleDeprecationWarning: Creating an ndarray from ragged nested sequences (which is a list-or-tuple of lists-or-tuples-or ndarrays with different lengths or shapes) is deprecated. If you meant to do this, you must specify 'dtype=object' when creating the ndarray.\n",
            "  \"\"\"\n",
            "4it [00:01,  2.27it/s]\n"
          ]
        },
        {
          "output_type": "stream",
          "name": "stdout",
          "text": [
            "\t \tEpoch 25:, loss 0.60889, accuracy 0.679422\n",
            "EVAL: After epoch 25: step 100, loss 0.0210272, acc 0.613032, f1 0.611775\n",
            "\n",
            "Training epoch 26\n"
          ]
        },
        {
          "output_type": "stream",
          "name": "stderr",
          "text": [
            "\r0it [00:00, ?it/s]/usr/local/lib/python3.7/dist-packages/ipykernel_launcher.py:5: VisibleDeprecationWarning: Creating an ndarray from ragged nested sequences (which is a list-or-tuple of lists-or-tuples-or ndarrays with different lengths or shapes) is deprecated. If you meant to do this, you must specify 'dtype=object' when creating the ndarray.\n",
            "  \"\"\"\n",
            "4it [00:01,  2.30it/s]\n"
          ]
        },
        {
          "output_type": "stream",
          "name": "stdout",
          "text": [
            "\t \tEpoch 26:, loss 0.585531, accuracy 0.685108\n",
            "EVAL: After epoch 26: step 104, loss 0.0207738, acc 0.625, f1 0.617751\n",
            "\n",
            "Training epoch 27\n"
          ]
        },
        {
          "output_type": "stream",
          "name": "stderr",
          "text": [
            "\r0it [00:00, ?it/s]/usr/local/lib/python3.7/dist-packages/ipykernel_launcher.py:5: VisibleDeprecationWarning: Creating an ndarray from ragged nested sequences (which is a list-or-tuple of lists-or-tuples-or ndarrays with different lengths or shapes) is deprecated. If you meant to do this, you must specify 'dtype=object' when creating the ndarray.\n",
            "  \"\"\"\n",
            "4it [00:01,  2.29it/s]\n"
          ]
        },
        {
          "output_type": "stream",
          "name": "stdout",
          "text": [
            "\t \tEpoch 27:, loss 0.571384, accuracy 0.701554\n",
            "EVAL: After epoch 27: step 108, loss 0.0206227, acc 0.634309, f1 0.620196\n",
            "\n",
            "Training epoch 28\n"
          ]
        },
        {
          "output_type": "stream",
          "name": "stderr",
          "text": [
            "\r0it [00:00, ?it/s]/usr/local/lib/python3.7/dist-packages/ipykernel_launcher.py:5: VisibleDeprecationWarning: Creating an ndarray from ragged nested sequences (which is a list-or-tuple of lists-or-tuples-or ndarrays with different lengths or shapes) is deprecated. If you meant to do this, you must specify 'dtype=object' when creating the ndarray.\n",
            "  \"\"\"\n",
            "4it [00:01,  2.25it/s]\n"
          ]
        },
        {
          "output_type": "stream",
          "name": "stdout",
          "text": [
            "\t \tEpoch 28:, loss 0.552285, accuracy 0.731081\n",
            "EVAL: After epoch 28: step 112, loss 0.0206367, acc 0.631649, f1 0.622222\n",
            "\n",
            "Training epoch 29\n"
          ]
        },
        {
          "output_type": "stream",
          "name": "stderr",
          "text": [
            "\r0it [00:00, ?it/s]/usr/local/lib/python3.7/dist-packages/ipykernel_launcher.py:5: VisibleDeprecationWarning: Creating an ndarray from ragged nested sequences (which is a list-or-tuple of lists-or-tuples-or ndarrays with different lengths or shapes) is deprecated. If you meant to do this, you must specify 'dtype=object' when creating the ndarray.\n",
            "  \"\"\"\n",
            "4it [00:01,  2.30it/s]\n"
          ]
        },
        {
          "output_type": "stream",
          "name": "stdout",
          "text": [
            "\t \tEpoch 29:, loss 0.583692, accuracy 0.68721\n",
            "EVAL: After epoch 29: step 116, loss 0.02068, acc 0.631649, f1 0.623922\n",
            "\n",
            "Training epoch 30\n"
          ]
        },
        {
          "output_type": "stream",
          "name": "stderr",
          "text": [
            "\r0it [00:00, ?it/s]/usr/local/lib/python3.7/dist-packages/ipykernel_launcher.py:5: VisibleDeprecationWarning: Creating an ndarray from ragged nested sequences (which is a list-or-tuple of lists-or-tuples-or ndarrays with different lengths or shapes) is deprecated. If you meant to do this, you must specify 'dtype=object' when creating the ndarray.\n",
            "  \"\"\"\n",
            "4it [00:01,  2.25it/s]\n"
          ]
        },
        {
          "output_type": "stream",
          "name": "stdout",
          "text": [
            "\t \tEpoch 30:, loss 0.551682, accuracy 0.745283\n",
            "EVAL: After epoch 30: step 120, loss 0.0205465, acc 0.62766, f1 0.616995\n",
            "\n",
            "Training epoch 31\n"
          ]
        },
        {
          "output_type": "stream",
          "name": "stderr",
          "text": [
            "\r0it [00:00, ?it/s]/usr/local/lib/python3.7/dist-packages/ipykernel_launcher.py:5: VisibleDeprecationWarning: Creating an ndarray from ragged nested sequences (which is a list-or-tuple of lists-or-tuples-or ndarrays with different lengths or shapes) is deprecated. If you meant to do this, you must specify 'dtype=object' when creating the ndarray.\n",
            "  \"\"\"\n",
            "4it [00:01,  2.29it/s]\n"
          ]
        },
        {
          "output_type": "stream",
          "name": "stdout",
          "text": [
            "\t \tEpoch 31:, loss 0.546035, accuracy 0.734648\n",
            "EVAL: After epoch 31: step 124, loss 0.0205164, acc 0.62766, f1 0.616051\n",
            "\n",
            "Training epoch 32\n"
          ]
        },
        {
          "output_type": "stream",
          "name": "stderr",
          "text": [
            "\r0it [00:00, ?it/s]/usr/local/lib/python3.7/dist-packages/ipykernel_launcher.py:5: VisibleDeprecationWarning: Creating an ndarray from ragged nested sequences (which is a list-or-tuple of lists-or-tuples-or ndarrays with different lengths or shapes) is deprecated. If you meant to do this, you must specify 'dtype=object' when creating the ndarray.\n",
            "  \"\"\"\n",
            "4it [00:01,  2.25it/s]\n"
          ]
        },
        {
          "output_type": "stream",
          "name": "stdout",
          "text": [
            "\t \tEpoch 32:, loss 0.504051, accuracy 0.763094\n",
            "EVAL: After epoch 32: step 128, loss 0.0204518, acc 0.644947, f1 0.629179\n",
            "\n",
            "Training epoch 33\n"
          ]
        },
        {
          "output_type": "stream",
          "name": "stderr",
          "text": [
            "\r0it [00:00, ?it/s]/usr/local/lib/python3.7/dist-packages/ipykernel_launcher.py:5: VisibleDeprecationWarning: Creating an ndarray from ragged nested sequences (which is a list-or-tuple of lists-or-tuples-or ndarrays with different lengths or shapes) is deprecated. If you meant to do this, you must specify 'dtype=object' when creating the ndarray.\n",
            "  \"\"\"\n",
            "4it [00:01,  2.26it/s]\n"
          ]
        },
        {
          "output_type": "stream",
          "name": "stdout",
          "text": [
            "\t \tEpoch 33:, loss 0.509483, accuracy 0.775896\n",
            "EVAL: After epoch 33: step 132, loss 0.0204669, acc 0.660904, f1 0.63398\n",
            "\n",
            "Training epoch 34\n"
          ]
        },
        {
          "output_type": "stream",
          "name": "stderr",
          "text": [
            "\r0it [00:00, ?it/s]/usr/local/lib/python3.7/dist-packages/ipykernel_launcher.py:5: VisibleDeprecationWarning: Creating an ndarray from ragged nested sequences (which is a list-or-tuple of lists-or-tuples-or ndarrays with different lengths or shapes) is deprecated. If you meant to do this, you must specify 'dtype=object' when creating the ndarray.\n",
            "  \"\"\"\n",
            "4it [00:01,  2.28it/s]\n"
          ]
        },
        {
          "output_type": "stream",
          "name": "stdout",
          "text": [
            "\t \tEpoch 34:, loss 0.525578, accuracy 0.732495\n",
            "EVAL: After epoch 34: step 136, loss 0.0205097, acc 0.658245, f1 0.629711\n",
            "\n",
            "Training epoch 35\n"
          ]
        },
        {
          "output_type": "stream",
          "name": "stderr",
          "text": [
            "\r0it [00:00, ?it/s]/usr/local/lib/python3.7/dist-packages/ipykernel_launcher.py:5: VisibleDeprecationWarning: Creating an ndarray from ragged nested sequences (which is a list-or-tuple of lists-or-tuples-or ndarrays with different lengths or shapes) is deprecated. If you meant to do this, you must specify 'dtype=object' when creating the ndarray.\n",
            "  \"\"\"\n",
            "4it [00:01,  2.28it/s]\n"
          ]
        },
        {
          "output_type": "stream",
          "name": "stdout",
          "text": [
            "\t \tEpoch 35:, loss 0.531723, accuracy 0.723738\n",
            "EVAL: After epoch 35: step 140, loss 0.0205078, acc 0.662234, f1 0.642634\n",
            "\n",
            "Training epoch 36\n"
          ]
        },
        {
          "output_type": "stream",
          "name": "stderr",
          "text": [
            "\r0it [00:00, ?it/s]/usr/local/lib/python3.7/dist-packages/ipykernel_launcher.py:5: VisibleDeprecationWarning: Creating an ndarray from ragged nested sequences (which is a list-or-tuple of lists-or-tuples-or ndarrays with different lengths or shapes) is deprecated. If you meant to do this, you must specify 'dtype=object' when creating the ndarray.\n",
            "  \"\"\"\n",
            "4it [00:01,  2.27it/s]\n"
          ]
        },
        {
          "output_type": "stream",
          "name": "stdout",
          "text": [
            "\t \tEpoch 36:, loss 0.533661, accuracy 0.756263\n",
            "EVAL: After epoch 36: step 144, loss 0.0204792, acc 0.668883, f1 0.64823\n",
            "\n",
            "Training epoch 37\n"
          ]
        },
        {
          "output_type": "stream",
          "name": "stderr",
          "text": [
            "\r0it [00:00, ?it/s]/usr/local/lib/python3.7/dist-packages/ipykernel_launcher.py:5: VisibleDeprecationWarning: Creating an ndarray from ragged nested sequences (which is a list-or-tuple of lists-or-tuples-or ndarrays with different lengths or shapes) is deprecated. If you meant to do this, you must specify 'dtype=object' when creating the ndarray.\n",
            "  \"\"\"\n",
            "4it [00:01,  2.33it/s]\n"
          ]
        },
        {
          "output_type": "stream",
          "name": "stdout",
          "text": [
            "\t \tEpoch 37:, loss 0.489662, accuracy 0.762324\n",
            "EVAL: After epoch 37: step 148, loss 0.0204316, acc 0.662234, f1 0.642634\n",
            "\n",
            "Training epoch 38\n"
          ]
        },
        {
          "output_type": "stream",
          "name": "stderr",
          "text": [
            "\r0it [00:00, ?it/s]/usr/local/lib/python3.7/dist-packages/ipykernel_launcher.py:5: VisibleDeprecationWarning: Creating an ndarray from ragged nested sequences (which is a list-or-tuple of lists-or-tuples-or ndarrays with different lengths or shapes) is deprecated. If you meant to do this, you must specify 'dtype=object' when creating the ndarray.\n",
            "  \"\"\"\n",
            "4it [00:01,  2.26it/s]\n"
          ]
        },
        {
          "output_type": "stream",
          "name": "stdout",
          "text": [
            "\t \tEpoch 38:, loss 0.496805, accuracy 0.770499\n",
            "EVAL: After epoch 38: step 152, loss 0.0204559, acc 0.654255, f1 0.641634\n",
            "\n",
            "Training epoch 39\n"
          ]
        },
        {
          "output_type": "stream",
          "name": "stderr",
          "text": [
            "\r0it [00:00, ?it/s]/usr/local/lib/python3.7/dist-packages/ipykernel_launcher.py:5: VisibleDeprecationWarning: Creating an ndarray from ragged nested sequences (which is a list-or-tuple of lists-or-tuples-or ndarrays with different lengths or shapes) is deprecated. If you meant to do this, you must specify 'dtype=object' when creating the ndarray.\n",
            "  \"\"\"\n",
            "4it [00:03,  1.05it/s]\n"
          ]
        },
        {
          "output_type": "stream",
          "name": "stdout",
          "text": [
            "\t \tEpoch 39:, loss 0.472583, accuracy 0.764136\n",
            "EVAL: After epoch 39: step 156, loss 0.0205428, acc 0.654255, f1 0.643918\n",
            "\n",
            "Training epoch 40\n"
          ]
        },
        {
          "output_type": "stream",
          "name": "stderr",
          "text": [
            "\r0it [00:00, ?it/s]/usr/local/lib/python3.7/dist-packages/ipykernel_launcher.py:5: VisibleDeprecationWarning: Creating an ndarray from ragged nested sequences (which is a list-or-tuple of lists-or-tuples-or ndarrays with different lengths or shapes) is deprecated. If you meant to do this, you must specify 'dtype=object' when creating the ndarray.\n",
            "  \"\"\"\n",
            "4it [00:03,  1.27it/s]\n"
          ]
        },
        {
          "output_type": "stream",
          "name": "stdout",
          "text": [
            "\t \tEpoch 40:, loss 0.488469, accuracy 0.752902\n",
            "EVAL: After epoch 40: step 160, loss 0.0205966, acc 0.670213, f1 0.645015\n",
            "\n",
            "Training epoch 41\n"
          ]
        },
        {
          "output_type": "stream",
          "name": "stderr",
          "text": [
            "\r0it [00:00, ?it/s]/usr/local/lib/python3.7/dist-packages/ipykernel_launcher.py:5: VisibleDeprecationWarning: Creating an ndarray from ragged nested sequences (which is a list-or-tuple of lists-or-tuples-or ndarrays with different lengths or shapes) is deprecated. If you meant to do this, you must specify 'dtype=object' when creating the ndarray.\n",
            "  \"\"\"\n",
            "4it [00:02,  1.43it/s]\n"
          ]
        },
        {
          "output_type": "stream",
          "name": "stdout",
          "text": [
            "\t \tEpoch 41:, loss 0.484024, accuracy 0.754588\n",
            "EVAL: After epoch 41: step 164, loss 0.0207075, acc 0.667553, f1 0.64082\n",
            "\n",
            "Training epoch 42\n"
          ]
        },
        {
          "output_type": "stream",
          "name": "stderr",
          "text": [
            "\r0it [00:00, ?it/s]/usr/local/lib/python3.7/dist-packages/ipykernel_launcher.py:5: VisibleDeprecationWarning: Creating an ndarray from ragged nested sequences (which is a list-or-tuple of lists-or-tuples-or ndarrays with different lengths or shapes) is deprecated. If you meant to do this, you must specify 'dtype=object' when creating the ndarray.\n",
            "  \"\"\"\n",
            "4it [00:01,  2.27it/s]\n"
          ]
        },
        {
          "output_type": "stream",
          "name": "stdout",
          "text": [
            "\t \tEpoch 42:, loss 0.43152, accuracy 0.804185\n",
            "EVAL: After epoch 42: step 168, loss 0.0206495, acc 0.658245, f1 0.647369\n",
            "\n",
            "Training epoch 43\n"
          ]
        },
        {
          "output_type": "stream",
          "name": "stderr",
          "text": [
            "\r0it [00:00, ?it/s]/usr/local/lib/python3.7/dist-packages/ipykernel_launcher.py:5: VisibleDeprecationWarning: Creating an ndarray from ragged nested sequences (which is a list-or-tuple of lists-or-tuples-or ndarrays with different lengths or shapes) is deprecated. If you meant to do this, you must specify 'dtype=object' when creating the ndarray.\n",
            "  \"\"\"\n",
            "4it [00:01,  2.28it/s]\n"
          ]
        },
        {
          "output_type": "stream",
          "name": "stdout",
          "text": [
            "\t \tEpoch 43:, loss 0.482253, accuracy 0.775208\n",
            "EVAL: After epoch 43: step 172, loss 0.0207635, acc 0.672872, f1 0.649774\n",
            "\n",
            "Training epoch 44\n"
          ]
        },
        {
          "output_type": "stream",
          "name": "stderr",
          "text": [
            "\r0it [00:00, ?it/s]/usr/local/lib/python3.7/dist-packages/ipykernel_launcher.py:5: VisibleDeprecationWarning: Creating an ndarray from ragged nested sequences (which is a list-or-tuple of lists-or-tuples-or ndarrays with different lengths or shapes) is deprecated. If you meant to do this, you must specify 'dtype=object' when creating the ndarray.\n",
            "  \"\"\"\n",
            "4it [00:01,  2.33it/s]\n"
          ]
        },
        {
          "output_type": "stream",
          "name": "stdout",
          "text": [
            "\t \tEpoch 44:, loss 0.460572, accuracy 0.805392\n",
            "EVAL: After epoch 44: step 176, loss 0.0214012, acc 0.664894, f1 0.623131\n",
            "\n",
            "Training epoch 45\n"
          ]
        },
        {
          "output_type": "stream",
          "name": "stderr",
          "text": [
            "\r0it [00:00, ?it/s]/usr/local/lib/python3.7/dist-packages/ipykernel_launcher.py:5: VisibleDeprecationWarning: Creating an ndarray from ragged nested sequences (which is a list-or-tuple of lists-or-tuples-or ndarrays with different lengths or shapes) is deprecated. If you meant to do this, you must specify 'dtype=object' when creating the ndarray.\n",
            "  \"\"\"\n",
            "4it [00:01,  2.25it/s]\n"
          ]
        },
        {
          "output_type": "stream",
          "name": "stdout",
          "text": [
            "\t \tEpoch 45:, loss 0.416558, accuracy 0.829525\n",
            "EVAL: After epoch 45: step 180, loss 0.0209003, acc 0.663564, f1 0.647598\n",
            "\n",
            "Training epoch 46\n"
          ]
        },
        {
          "output_type": "stream",
          "name": "stderr",
          "text": [
            "\r0it [00:00, ?it/s]/usr/local/lib/python3.7/dist-packages/ipykernel_launcher.py:5: VisibleDeprecationWarning: Creating an ndarray from ragged nested sequences (which is a list-or-tuple of lists-or-tuples-or ndarrays with different lengths or shapes) is deprecated. If you meant to do this, you must specify 'dtype=object' when creating the ndarray.\n",
            "  \"\"\"\n",
            "4it [00:01,  2.24it/s]\n"
          ]
        },
        {
          "output_type": "stream",
          "name": "stdout",
          "text": [
            "\t \tEpoch 46:, loss 0.425534, accuracy 0.822768\n",
            "EVAL: After epoch 46: step 184, loss 0.0208631, acc 0.652926, f1 0.642767\n",
            "\n",
            "Training epoch 47\n"
          ]
        },
        {
          "output_type": "stream",
          "name": "stderr",
          "text": [
            "\r0it [00:00, ?it/s]/usr/local/lib/python3.7/dist-packages/ipykernel_launcher.py:5: VisibleDeprecationWarning: Creating an ndarray from ragged nested sequences (which is a list-or-tuple of lists-or-tuples-or ndarrays with different lengths or shapes) is deprecated. If you meant to do this, you must specify 'dtype=object' when creating the ndarray.\n",
            "  \"\"\"\n",
            "4it [00:01,  2.31it/s]\n"
          ]
        },
        {
          "output_type": "stream",
          "name": "stdout",
          "text": [
            "\t \tEpoch 47:, loss 0.406387, accuracy 0.81055\n",
            "EVAL: After epoch 47: step 188, loss 0.0211013, acc 0.666223, f1 0.638356\n",
            "\n",
            "Training epoch 48\n"
          ]
        },
        {
          "output_type": "stream",
          "name": "stderr",
          "text": [
            "\r0it [00:00, ?it/s]/usr/local/lib/python3.7/dist-packages/ipykernel_launcher.py:5: VisibleDeprecationWarning: Creating an ndarray from ragged nested sequences (which is a list-or-tuple of lists-or-tuples-or ndarrays with different lengths or shapes) is deprecated. If you meant to do this, you must specify 'dtype=object' when creating the ndarray.\n",
            "  \"\"\"\n",
            "4it [00:02,  1.44it/s]\n"
          ]
        },
        {
          "output_type": "stream",
          "name": "stdout",
          "text": [
            "\t \tEpoch 48:, loss 0.429086, accuracy 0.78106\n",
            "EVAL: After epoch 48: step 192, loss 0.0214917, acc 0.671543, f1 0.639106\n",
            "\n",
            "Training epoch 49\n"
          ]
        },
        {
          "output_type": "stream",
          "name": "stderr",
          "text": [
            "\r0it [00:00, ?it/s]/usr/local/lib/python3.7/dist-packages/ipykernel_launcher.py:5: VisibleDeprecationWarning: Creating an ndarray from ragged nested sequences (which is a list-or-tuple of lists-or-tuples-or ndarrays with different lengths or shapes) is deprecated. If you meant to do this, you must specify 'dtype=object' when creating the ndarray.\n",
            "  \"\"\"\n",
            "4it [00:02,  1.54it/s]\n"
          ]
        },
        {
          "output_type": "stream",
          "name": "stdout",
          "text": [
            "\t \tEpoch 49:, loss 0.39183, accuracy 0.825858\n",
            "EVAL: After epoch 49: step 196, loss 0.0210633, acc 0.664894, f1 0.650262\n",
            "\n",
            "Training epoch 50\n"
          ]
        },
        {
          "output_type": "stream",
          "name": "stderr",
          "text": [
            "\r0it [00:00, ?it/s]/usr/local/lib/python3.7/dist-packages/ipykernel_launcher.py:5: VisibleDeprecationWarning: Creating an ndarray from ragged nested sequences (which is a list-or-tuple of lists-or-tuples-or ndarrays with different lengths or shapes) is deprecated. If you meant to do this, you must specify 'dtype=object' when creating the ndarray.\n",
            "  \"\"\"\n",
            "4it [00:02,  1.66it/s]\n"
          ]
        },
        {
          "output_type": "stream",
          "name": "stdout",
          "text": [
            "\t \tEpoch 50:, loss 0.382934, accuracy 0.833242\n",
            "EVAL: After epoch 50: step 200, loss 0.0211878, acc 0.632979, f1 0.630153\n",
            "\n",
            "Training epoch 51\n"
          ]
        },
        {
          "output_type": "stream",
          "name": "stderr",
          "text": [
            "\r0it [00:00, ?it/s]/usr/local/lib/python3.7/dist-packages/ipykernel_launcher.py:5: VisibleDeprecationWarning: Creating an ndarray from ragged nested sequences (which is a list-or-tuple of lists-or-tuples-or ndarrays with different lengths or shapes) is deprecated. If you meant to do this, you must specify 'dtype=object' when creating the ndarray.\n",
            "  \"\"\"\n",
            "4it [00:02,  1.40it/s]\n"
          ]
        },
        {
          "output_type": "stream",
          "name": "stdout",
          "text": [
            "\t \tEpoch 51:, loss 0.363962, accuracy 0.843676\n",
            "EVAL: After epoch 51: step 204, loss 0.0212993, acc 0.667553, f1 0.646522\n",
            "\n",
            "Training epoch 52\n"
          ]
        },
        {
          "output_type": "stream",
          "name": "stderr",
          "text": [
            "\r0it [00:00, ?it/s]/usr/local/lib/python3.7/dist-packages/ipykernel_launcher.py:5: VisibleDeprecationWarning: Creating an ndarray from ragged nested sequences (which is a list-or-tuple of lists-or-tuples-or ndarrays with different lengths or shapes) is deprecated. If you meant to do this, you must specify 'dtype=object' when creating the ndarray.\n",
            "  \"\"\"\n",
            "4it [00:02,  1.46it/s]\n"
          ]
        },
        {
          "output_type": "stream",
          "name": "stdout",
          "text": [
            "\t \tEpoch 52:, loss 0.385717, accuracy 0.858076\n",
            "EVAL: After epoch 52: step 208, loss 0.0218541, acc 0.668883, f1 0.639844\n",
            "\n",
            "Training epoch 53\n"
          ]
        },
        {
          "output_type": "stream",
          "name": "stderr",
          "text": [
            "\r0it [00:00, ?it/s]/usr/local/lib/python3.7/dist-packages/ipykernel_launcher.py:5: VisibleDeprecationWarning: Creating an ndarray from ragged nested sequences (which is a list-or-tuple of lists-or-tuples-or ndarrays with different lengths or shapes) is deprecated. If you meant to do this, you must specify 'dtype=object' when creating the ndarray.\n",
            "  \"\"\"\n",
            "4it [00:01,  2.28it/s]\n"
          ]
        },
        {
          "output_type": "stream",
          "name": "stdout",
          "text": [
            "\t \tEpoch 53:, loss 0.398418, accuracy 0.838711\n",
            "EVAL: After epoch 53: step 212, loss 0.0213967, acc 0.664894, f1 0.650757\n",
            "\n",
            "Training epoch 54\n"
          ]
        },
        {
          "output_type": "stream",
          "name": "stderr",
          "text": [
            "\r0it [00:00, ?it/s]/usr/local/lib/python3.7/dist-packages/ipykernel_launcher.py:5: VisibleDeprecationWarning: Creating an ndarray from ragged nested sequences (which is a list-or-tuple of lists-or-tuples-or ndarrays with different lengths or shapes) is deprecated. If you meant to do this, you must specify 'dtype=object' when creating the ndarray.\n",
            "  \"\"\"\n",
            "4it [00:01,  2.18it/s]\n"
          ]
        },
        {
          "output_type": "stream",
          "name": "stdout",
          "text": [
            "\t \tEpoch 54:, loss 0.410544, accuracy 0.816214\n",
            "EVAL: After epoch 54: step 216, loss 0.0213867, acc 0.639628, f1 0.636698\n",
            "\n",
            "Training epoch 55\n"
          ]
        },
        {
          "output_type": "stream",
          "name": "stderr",
          "text": [
            "\r0it [00:00, ?it/s]/usr/local/lib/python3.7/dist-packages/ipykernel_launcher.py:5: VisibleDeprecationWarning: Creating an ndarray from ragged nested sequences (which is a list-or-tuple of lists-or-tuples-or ndarrays with different lengths or shapes) is deprecated. If you meant to do this, you must specify 'dtype=object' when creating the ndarray.\n",
            "  \"\"\"\n",
            "4it [00:01,  2.32it/s]\n"
          ]
        },
        {
          "output_type": "stream",
          "name": "stdout",
          "text": [
            "\t \tEpoch 55:, loss 0.397552, accuracy 0.807974\n",
            "EVAL: After epoch 55: step 220, loss 0.0214122, acc 0.655585, f1 0.642775\n",
            "\n",
            "Training epoch 56\n"
          ]
        },
        {
          "output_type": "stream",
          "name": "stderr",
          "text": [
            "\r0it [00:00, ?it/s]/usr/local/lib/python3.7/dist-packages/ipykernel_launcher.py:5: VisibleDeprecationWarning: Creating an ndarray from ragged nested sequences (which is a list-or-tuple of lists-or-tuples-or ndarrays with different lengths or shapes) is deprecated. If you meant to do this, you must specify 'dtype=object' when creating the ndarray.\n",
            "  \"\"\"\n",
            "4it [00:01,  2.24it/s]\n"
          ]
        },
        {
          "output_type": "stream",
          "name": "stdout",
          "text": [
            "\t \tEpoch 56:, loss 0.361499, accuracy 0.846268\n",
            "EVAL: After epoch 56: step 224, loss 0.0231565, acc 0.668883, f1 0.625389\n",
            "\n",
            "Training epoch 57\n"
          ]
        },
        {
          "output_type": "stream",
          "name": "stderr",
          "text": [
            "\r0it [00:00, ?it/s]/usr/local/lib/python3.7/dist-packages/ipykernel_launcher.py:5: VisibleDeprecationWarning: Creating an ndarray from ragged nested sequences (which is a list-or-tuple of lists-or-tuples-or ndarrays with different lengths or shapes) is deprecated. If you meant to do this, you must specify 'dtype=object' when creating the ndarray.\n",
            "  \"\"\"\n",
            "4it [00:01,  2.29it/s]\n"
          ]
        },
        {
          "output_type": "stream",
          "name": "stdout",
          "text": [
            "\t \tEpoch 57:, loss 0.377972, accuracy 0.839417\n",
            "EVAL: After epoch 57: step 228, loss 0.0220403, acc 0.664894, f1 0.638623\n",
            "\n",
            "Training epoch 58\n"
          ]
        },
        {
          "output_type": "stream",
          "name": "stderr",
          "text": [
            "\r0it [00:00, ?it/s]/usr/local/lib/python3.7/dist-packages/ipykernel_launcher.py:5: VisibleDeprecationWarning: Creating an ndarray from ragged nested sequences (which is a list-or-tuple of lists-or-tuples-or ndarrays with different lengths or shapes) is deprecated. If you meant to do this, you must specify 'dtype=object' when creating the ndarray.\n",
            "  \"\"\"\n",
            "4it [00:01,  2.22it/s]\n"
          ]
        },
        {
          "output_type": "stream",
          "name": "stdout",
          "text": [
            "\t \tEpoch 58:, loss 0.363906, accuracy 0.842239\n",
            "EVAL: After epoch 58: step 232, loss 0.0215099, acc 0.635638, f1 0.628986\n",
            "\n",
            "Training epoch 59\n"
          ]
        },
        {
          "output_type": "stream",
          "name": "stderr",
          "text": [
            "\r0it [00:00, ?it/s]/usr/local/lib/python3.7/dist-packages/ipykernel_launcher.py:5: VisibleDeprecationWarning: Creating an ndarray from ragged nested sequences (which is a list-or-tuple of lists-or-tuples-or ndarrays with different lengths or shapes) is deprecated. If you meant to do this, you must specify 'dtype=object' when creating the ndarray.\n",
            "  \"\"\"\n",
            "4it [00:02,  1.46it/s]\n"
          ]
        },
        {
          "output_type": "stream",
          "name": "stdout",
          "text": [
            "\t \tEpoch 59:, loss 0.34988, accuracy 0.877837\n",
            "EVAL: After epoch 59: step 236, loss 0.0217121, acc 0.630319, f1 0.631506\n",
            "\n",
            "Training epoch 60\n"
          ]
        },
        {
          "output_type": "stream",
          "name": "stderr",
          "text": [
            "\r0it [00:00, ?it/s]/usr/local/lib/python3.7/dist-packages/ipykernel_launcher.py:5: VisibleDeprecationWarning: Creating an ndarray from ragged nested sequences (which is a list-or-tuple of lists-or-tuples-or ndarrays with different lengths or shapes) is deprecated. If you meant to do this, you must specify 'dtype=object' when creating the ndarray.\n",
            "  \"\"\"\n",
            "4it [00:02,  1.49it/s]\n"
          ]
        },
        {
          "output_type": "stream",
          "name": "stdout",
          "text": [
            "\t \tEpoch 60:, loss 0.339624, accuracy 0.839079\n",
            "EVAL: After epoch 60: step 240, loss 0.0218868, acc 0.658245, f1 0.641493\n",
            "\n",
            "Training epoch 61\n"
          ]
        },
        {
          "output_type": "stream",
          "name": "stderr",
          "text": [
            "\r0it [00:00, ?it/s]/usr/local/lib/python3.7/dist-packages/ipykernel_launcher.py:5: VisibleDeprecationWarning: Creating an ndarray from ragged nested sequences (which is a list-or-tuple of lists-or-tuples-or ndarrays with different lengths or shapes) is deprecated. If you meant to do this, you must specify 'dtype=object' when creating the ndarray.\n",
            "  \"\"\"\n",
            "4it [00:02,  1.39it/s]\n"
          ]
        },
        {
          "output_type": "stream",
          "name": "stdout",
          "text": [
            "\t \tEpoch 61:, loss 0.347084, accuracy 0.846269\n",
            "EVAL: After epoch 61: step 244, loss 0.0226862, acc 0.666223, f1 0.637658\n",
            "\n",
            "Training epoch 62\n"
          ]
        },
        {
          "output_type": "stream",
          "name": "stderr",
          "text": [
            "\r0it [00:00, ?it/s]/usr/local/lib/python3.7/dist-packages/ipykernel_launcher.py:5: VisibleDeprecationWarning: Creating an ndarray from ragged nested sequences (which is a list-or-tuple of lists-or-tuples-or ndarrays with different lengths or shapes) is deprecated. If you meant to do this, you must specify 'dtype=object' when creating the ndarray.\n",
            "  \"\"\"\n",
            "4it [00:01,  2.29it/s]\n"
          ]
        },
        {
          "output_type": "stream",
          "name": "stdout",
          "text": [
            "\t \tEpoch 62:, loss 0.399214, accuracy 0.855644\n",
            "EVAL: After epoch 62: step 248, loss 0.0219274, acc 0.655585, f1 0.645934\n",
            "\n",
            "Training epoch 63\n"
          ]
        },
        {
          "output_type": "stream",
          "name": "stderr",
          "text": [
            "\r0it [00:00, ?it/s]/usr/local/lib/python3.7/dist-packages/ipykernel_launcher.py:5: VisibleDeprecationWarning: Creating an ndarray from ragged nested sequences (which is a list-or-tuple of lists-or-tuples-or ndarrays with different lengths or shapes) is deprecated. If you meant to do this, you must specify 'dtype=object' when creating the ndarray.\n",
            "  \"\"\"\n",
            "4it [00:01,  2.31it/s]\n"
          ]
        },
        {
          "output_type": "stream",
          "name": "stdout",
          "text": [
            "\t \tEpoch 63:, loss 0.354313, accuracy 0.857881\n",
            "EVAL: After epoch 63: step 252, loss 0.0228737, acc 0.62633, f1 0.631337\n",
            "\n",
            "Training epoch 64\n"
          ]
        },
        {
          "output_type": "stream",
          "name": "stderr",
          "text": [
            "\r0it [00:00, ?it/s]/usr/local/lib/python3.7/dist-packages/ipykernel_launcher.py:5: VisibleDeprecationWarning: Creating an ndarray from ragged nested sequences (which is a list-or-tuple of lists-or-tuples-or ndarrays with different lengths or shapes) is deprecated. If you meant to do this, you must specify 'dtype=object' when creating the ndarray.\n",
            "  \"\"\"\n",
            "4it [00:01,  2.27it/s]\n"
          ]
        },
        {
          "output_type": "stream",
          "name": "stdout",
          "text": [
            "\t \tEpoch 64:, loss 0.370441, accuracy 0.815914\n",
            "EVAL: After epoch 64: step 256, loss 0.0222379, acc 0.646277, f1 0.640192\n",
            "\n",
            "Training epoch 65\n"
          ]
        },
        {
          "output_type": "stream",
          "name": "stderr",
          "text": [
            "\r0it [00:00, ?it/s]/usr/local/lib/python3.7/dist-packages/ipykernel_launcher.py:5: VisibleDeprecationWarning: Creating an ndarray from ragged nested sequences (which is a list-or-tuple of lists-or-tuples-or ndarrays with different lengths or shapes) is deprecated. If you meant to do this, you must specify 'dtype=object' when creating the ndarray.\n",
            "  \"\"\"\n",
            "4it [00:01,  2.28it/s]\n"
          ]
        },
        {
          "output_type": "stream",
          "name": "stdout",
          "text": [
            "\t \tEpoch 65:, loss 0.318884, accuracy 0.881288\n",
            "EVAL: After epoch 65: step 260, loss 0.0234838, acc 0.668883, f1 0.639132\n",
            "\n",
            "Training epoch 66\n"
          ]
        },
        {
          "output_type": "stream",
          "name": "stderr",
          "text": [
            "\r0it [00:00, ?it/s]/usr/local/lib/python3.7/dist-packages/ipykernel_launcher.py:5: VisibleDeprecationWarning: Creating an ndarray from ragged nested sequences (which is a list-or-tuple of lists-or-tuples-or ndarrays with different lengths or shapes) is deprecated. If you meant to do this, you must specify 'dtype=object' when creating the ndarray.\n",
            "  \"\"\"\n",
            "4it [00:01,  2.29it/s]\n"
          ]
        },
        {
          "output_type": "stream",
          "name": "stdout",
          "text": [
            "\t \tEpoch 66:, loss 0.33027, accuracy 0.870962\n",
            "EVAL: After epoch 66: step 264, loss 0.0229689, acc 0.659574, f1 0.639235\n",
            "\n",
            "Training epoch 67\n"
          ]
        },
        {
          "output_type": "stream",
          "name": "stderr",
          "text": [
            "\r0it [00:00, ?it/s]/usr/local/lib/python3.7/dist-packages/ipykernel_launcher.py:5: VisibleDeprecationWarning: Creating an ndarray from ragged nested sequences (which is a list-or-tuple of lists-or-tuples-or ndarrays with different lengths or shapes) is deprecated. If you meant to do this, you must specify 'dtype=object' when creating the ndarray.\n",
            "  \"\"\"\n",
            "4it [00:01,  2.32it/s]\n"
          ]
        },
        {
          "output_type": "stream",
          "name": "stdout",
          "text": [
            "\t \tEpoch 67:, loss 0.328583, accuracy 0.88885\n",
            "EVAL: After epoch 67: step 268, loss 0.0223937, acc 0.640957, f1 0.637239\n",
            "\n",
            "Training epoch 68\n"
          ]
        },
        {
          "output_type": "stream",
          "name": "stderr",
          "text": [
            "\r0it [00:00, ?it/s]/usr/local/lib/python3.7/dist-packages/ipykernel_launcher.py:5: VisibleDeprecationWarning: Creating an ndarray from ragged nested sequences (which is a list-or-tuple of lists-or-tuples-or ndarrays with different lengths or shapes) is deprecated. If you meant to do this, you must specify 'dtype=object' when creating the ndarray.\n",
            "  \"\"\"\n",
            "4it [00:01,  2.25it/s]\n"
          ]
        },
        {
          "output_type": "stream",
          "name": "stdout",
          "text": [
            "\t \tEpoch 68:, loss 0.336164, accuracy 0.879037\n",
            "EVAL: After epoch 68: step 272, loss 0.022407, acc 0.650266, f1 0.644432\n",
            "\n",
            "Training epoch 69\n"
          ]
        },
        {
          "output_type": "stream",
          "name": "stderr",
          "text": [
            "\r0it [00:00, ?it/s]/usr/local/lib/python3.7/dist-packages/ipykernel_launcher.py:5: VisibleDeprecationWarning: Creating an ndarray from ragged nested sequences (which is a list-or-tuple of lists-or-tuples-or ndarrays with different lengths or shapes) is deprecated. If you meant to do this, you must specify 'dtype=object' when creating the ndarray.\n",
            "  \"\"\"\n",
            "4it [00:01,  2.27it/s]\n"
          ]
        },
        {
          "output_type": "stream",
          "name": "stdout",
          "text": [
            "\t \tEpoch 69:, loss 0.316638, accuracy 0.881202\n",
            "EVAL: After epoch 69: step 276, loss 0.0231243, acc 0.670213, f1 0.652728\n",
            "\n",
            "Training epoch 70\n"
          ]
        },
        {
          "output_type": "stream",
          "name": "stderr",
          "text": [
            "\r0it [00:00, ?it/s]/usr/local/lib/python3.7/dist-packages/ipykernel_launcher.py:5: VisibleDeprecationWarning: Creating an ndarray from ragged nested sequences (which is a list-or-tuple of lists-or-tuples-or ndarrays with different lengths or shapes) is deprecated. If you meant to do this, you must specify 'dtype=object' when creating the ndarray.\n",
            "  \"\"\"\n",
            "4it [00:01,  2.28it/s]\n"
          ]
        },
        {
          "output_type": "stream",
          "name": "stdout",
          "text": [
            "\t \tEpoch 70:, loss 0.326825, accuracy 0.873922\n",
            "EVAL: After epoch 70: step 280, loss 0.022985, acc 0.664894, f1 0.650262\n",
            "\n",
            "Training epoch 71\n"
          ]
        },
        {
          "output_type": "stream",
          "name": "stderr",
          "text": [
            "\r0it [00:00, ?it/s]/usr/local/lib/python3.7/dist-packages/ipykernel_launcher.py:5: VisibleDeprecationWarning: Creating an ndarray from ragged nested sequences (which is a list-or-tuple of lists-or-tuples-or ndarrays with different lengths or shapes) is deprecated. If you meant to do this, you must specify 'dtype=object' when creating the ndarray.\n",
            "  \"\"\"\n",
            "4it [00:01,  2.36it/s]\n"
          ]
        },
        {
          "output_type": "stream",
          "name": "stdout",
          "text": [
            "\t \tEpoch 71:, loss 0.298068, accuracy 0.893608\n",
            "EVAL: After epoch 71: step 284, loss 0.0233795, acc 0.672872, f1 0.653328\n",
            "\n",
            "Training epoch 72\n"
          ]
        },
        {
          "output_type": "stream",
          "name": "stderr",
          "text": [
            "\r0it [00:00, ?it/s]/usr/local/lib/python3.7/dist-packages/ipykernel_launcher.py:5: VisibleDeprecationWarning: Creating an ndarray from ragged nested sequences (which is a list-or-tuple of lists-or-tuples-or ndarrays with different lengths or shapes) is deprecated. If you meant to do this, you must specify 'dtype=object' when creating the ndarray.\n",
            "  \"\"\"\n",
            "4it [00:01,  2.26it/s]\n"
          ]
        },
        {
          "output_type": "stream",
          "name": "stdout",
          "text": [
            "\t \tEpoch 72:, loss 0.316144, accuracy 0.857201\n",
            "EVAL: After epoch 72: step 288, loss 0.0228648, acc 0.652926, f1 0.642327\n",
            "\n",
            "Training epoch 73\n"
          ]
        },
        {
          "output_type": "stream",
          "name": "stderr",
          "text": [
            "\r0it [00:00, ?it/s]/usr/local/lib/python3.7/dist-packages/ipykernel_launcher.py:5: VisibleDeprecationWarning: Creating an ndarray from ragged nested sequences (which is a list-or-tuple of lists-or-tuples-or ndarrays with different lengths or shapes) is deprecated. If you meant to do this, you must specify 'dtype=object' when creating the ndarray.\n",
            "  \"\"\"\n",
            "4it [00:01,  2.26it/s]\n"
          ]
        },
        {
          "output_type": "stream",
          "name": "stdout",
          "text": [
            "\t \tEpoch 73:, loss 0.248181, accuracy 0.90944\n",
            "EVAL: After epoch 73: step 292, loss 0.0226019, acc 0.651596, f1 0.644861\n",
            "\n",
            "Training epoch 74\n"
          ]
        },
        {
          "output_type": "stream",
          "name": "stderr",
          "text": [
            "\r0it [00:00, ?it/s]/usr/local/lib/python3.7/dist-packages/ipykernel_launcher.py:5: VisibleDeprecationWarning: Creating an ndarray from ragged nested sequences (which is a list-or-tuple of lists-or-tuples-or ndarrays with different lengths or shapes) is deprecated. If you meant to do this, you must specify 'dtype=object' when creating the ndarray.\n",
            "  \"\"\"\n",
            "4it [00:01,  2.28it/s]\n"
          ]
        },
        {
          "output_type": "stream",
          "name": "stdout",
          "text": [
            "\t \tEpoch 74:, loss 0.291727, accuracy 0.867315\n",
            "EVAL: After epoch 74: step 296, loss 0.0229773, acc 0.656915, f1 0.642442\n",
            "\n",
            "Training epoch 75\n"
          ]
        },
        {
          "output_type": "stream",
          "name": "stderr",
          "text": [
            "\r0it [00:00, ?it/s]/usr/local/lib/python3.7/dist-packages/ipykernel_launcher.py:5: VisibleDeprecationWarning: Creating an ndarray from ragged nested sequences (which is a list-or-tuple of lists-or-tuples-or ndarrays with different lengths or shapes) is deprecated. If you meant to do this, you must specify 'dtype=object' when creating the ndarray.\n",
            "  \"\"\"\n",
            "4it [00:01,  2.28it/s]\n"
          ]
        },
        {
          "output_type": "stream",
          "name": "stdout",
          "text": [
            "\t \tEpoch 75:, loss 0.271144, accuracy 0.903728\n",
            "EVAL: After epoch 75: step 300, loss 0.0230474, acc 0.655585, f1 0.638703\n",
            "\n",
            "Training epoch 76\n"
          ]
        },
        {
          "output_type": "stream",
          "name": "stderr",
          "text": [
            "\r0it [00:00, ?it/s]/usr/local/lib/python3.7/dist-packages/ipykernel_launcher.py:5: VisibleDeprecationWarning: Creating an ndarray from ragged nested sequences (which is a list-or-tuple of lists-or-tuples-or ndarrays with different lengths or shapes) is deprecated. If you meant to do this, you must specify 'dtype=object' when creating the ndarray.\n",
            "  \"\"\"\n",
            "4it [00:01,  2.23it/s]\n"
          ]
        },
        {
          "output_type": "stream",
          "name": "stdout",
          "text": [
            "\t \tEpoch 76:, loss 0.350127, accuracy 0.858615\n",
            "EVAL: After epoch 76: step 304, loss 0.0237363, acc 0.680851, f1 0.656466\n",
            "\n",
            "Training epoch 77\n"
          ]
        },
        {
          "output_type": "stream",
          "name": "stderr",
          "text": [
            "\r0it [00:00, ?it/s]/usr/local/lib/python3.7/dist-packages/ipykernel_launcher.py:5: VisibleDeprecationWarning: Creating an ndarray from ragged nested sequences (which is a list-or-tuple of lists-or-tuples-or ndarrays with different lengths or shapes) is deprecated. If you meant to do this, you must specify 'dtype=object' when creating the ndarray.\n",
            "  \"\"\"\n",
            "4it [00:02,  1.63it/s]\n"
          ]
        },
        {
          "output_type": "stream",
          "name": "stdout",
          "text": [
            "\t \tEpoch 77:, loss 0.293382, accuracy 0.883192\n",
            "EVAL: After epoch 77: step 308, loss 0.0231103, acc 0.667553, f1 0.646522\n",
            "\n",
            "Training epoch 78\n"
          ]
        },
        {
          "output_type": "stream",
          "name": "stderr",
          "text": [
            "\r0it [00:00, ?it/s]/usr/local/lib/python3.7/dist-packages/ipykernel_launcher.py:5: VisibleDeprecationWarning: Creating an ndarray from ragged nested sequences (which is a list-or-tuple of lists-or-tuples-or ndarrays with different lengths or shapes) is deprecated. If you meant to do this, you must specify 'dtype=object' when creating the ndarray.\n",
            "  \"\"\"\n",
            "4it [00:01,  2.29it/s]\n"
          ]
        },
        {
          "output_type": "stream",
          "name": "stdout",
          "text": [
            "\t \tEpoch 78:, loss 0.2829, accuracy 0.889572\n",
            "EVAL: After epoch 78: step 312, loss 0.0235181, acc 0.671543, f1 0.649272\n",
            "\n",
            "Training epoch 79\n"
          ]
        },
        {
          "output_type": "stream",
          "name": "stderr",
          "text": [
            "\r0it [00:00, ?it/s]/usr/local/lib/python3.7/dist-packages/ipykernel_launcher.py:5: VisibleDeprecationWarning: Creating an ndarray from ragged nested sequences (which is a list-or-tuple of lists-or-tuples-or ndarrays with different lengths or shapes) is deprecated. If you meant to do this, you must specify 'dtype=object' when creating the ndarray.\n",
            "  \"\"\"\n",
            "4it [00:01,  2.25it/s]\n"
          ]
        },
        {
          "output_type": "stream",
          "name": "stdout",
          "text": [
            "\t \tEpoch 79:, loss 0.314594, accuracy 0.864826\n",
            "EVAL: After epoch 79: step 316, loss 0.022417, acc 0.646277, f1 0.636582\n",
            "\n",
            "Training epoch 80\n"
          ]
        },
        {
          "output_type": "stream",
          "name": "stderr",
          "text": [
            "\r0it [00:00, ?it/s]/usr/local/lib/python3.7/dist-packages/ipykernel_launcher.py:5: VisibleDeprecationWarning: Creating an ndarray from ragged nested sequences (which is a list-or-tuple of lists-or-tuples-or ndarrays with different lengths or shapes) is deprecated. If you meant to do this, you must specify 'dtype=object' when creating the ndarray.\n",
            "  \"\"\"\n",
            "4it [00:01,  2.24it/s]\n"
          ]
        },
        {
          "output_type": "stream",
          "name": "stdout",
          "text": [
            "\t \tEpoch 80:, loss 0.341628, accuracy 0.861119\n",
            "EVAL: After epoch 80: step 320, loss 0.0223881, acc 0.638298, f1 0.638542\n",
            "\n",
            "Training epoch 81\n"
          ]
        },
        {
          "output_type": "stream",
          "name": "stderr",
          "text": [
            "\r0it [00:00, ?it/s]/usr/local/lib/python3.7/dist-packages/ipykernel_launcher.py:5: VisibleDeprecationWarning: Creating an ndarray from ragged nested sequences (which is a list-or-tuple of lists-or-tuples-or ndarrays with different lengths or shapes) is deprecated. If you meant to do this, you must specify 'dtype=object' when creating the ndarray.\n",
            "  \"\"\"\n",
            "4it [00:01,  2.28it/s]\n"
          ]
        },
        {
          "output_type": "stream",
          "name": "stdout",
          "text": [
            "\t \tEpoch 81:, loss 0.242382, accuracy 0.915566\n",
            "EVAL: After epoch 81: step 324, loss 0.0233831, acc 0.670213, f1 0.646298\n",
            "\n",
            "Training epoch 82\n"
          ]
        },
        {
          "output_type": "stream",
          "name": "stderr",
          "text": [
            "\r0it [00:00, ?it/s]/usr/local/lib/python3.7/dist-packages/ipykernel_launcher.py:5: VisibleDeprecationWarning: Creating an ndarray from ragged nested sequences (which is a list-or-tuple of lists-or-tuples-or ndarrays with different lengths or shapes) is deprecated. If you meant to do this, you must specify 'dtype=object' when creating the ndarray.\n",
            "  \"\"\"\n",
            "4it [00:01,  2.25it/s]\n"
          ]
        },
        {
          "output_type": "stream",
          "name": "stdout",
          "text": [
            "\t \tEpoch 82:, loss 0.31276, accuracy 0.866388\n",
            "EVAL: After epoch 82: step 328, loss 0.0240468, acc 0.682181, f1 0.653625\n",
            "\n",
            "Training epoch 83\n"
          ]
        },
        {
          "output_type": "stream",
          "name": "stderr",
          "text": [
            "\r0it [00:00, ?it/s]/usr/local/lib/python3.7/dist-packages/ipykernel_launcher.py:5: VisibleDeprecationWarning: Creating an ndarray from ragged nested sequences (which is a list-or-tuple of lists-or-tuples-or ndarrays with different lengths or shapes) is deprecated. If you meant to do this, you must specify 'dtype=object' when creating the ndarray.\n",
            "  \"\"\"\n",
            "4it [00:01,  2.30it/s]\n"
          ]
        },
        {
          "output_type": "stream",
          "name": "stdout",
          "text": [
            "\t \tEpoch 83:, loss 0.23315, accuracy 0.929357\n",
            "EVAL: After epoch 83: step 332, loss 0.0230007, acc 0.664894, f1 0.649759\n",
            "\n",
            "Training epoch 84\n"
          ]
        },
        {
          "output_type": "stream",
          "name": "stderr",
          "text": [
            "\r0it [00:00, ?it/s]/usr/local/lib/python3.7/dist-packages/ipykernel_launcher.py:5: VisibleDeprecationWarning: Creating an ndarray from ragged nested sequences (which is a list-or-tuple of lists-or-tuples-or ndarrays with different lengths or shapes) is deprecated. If you meant to do this, you must specify 'dtype=object' when creating the ndarray.\n",
            "  \"\"\"\n",
            "4it [00:01,  2.28it/s]\n"
          ]
        },
        {
          "output_type": "stream",
          "name": "stdout",
          "text": [
            "\t \tEpoch 84:, loss 0.241778, accuracy 0.909601\n",
            "EVAL: After epoch 84: step 336, loss 0.0228483, acc 0.658245, f1 0.648668\n",
            "\n",
            "Training epoch 85\n"
          ]
        },
        {
          "output_type": "stream",
          "name": "stderr",
          "text": [
            "\r0it [00:00, ?it/s]/usr/local/lib/python3.7/dist-packages/ipykernel_launcher.py:5: VisibleDeprecationWarning: Creating an ndarray from ragged nested sequences (which is a list-or-tuple of lists-or-tuples-or ndarrays with different lengths or shapes) is deprecated. If you meant to do this, you must specify 'dtype=object' when creating the ndarray.\n",
            "  \"\"\"\n",
            "4it [00:01,  2.22it/s]\n"
          ]
        },
        {
          "output_type": "stream",
          "name": "stdout",
          "text": [
            "\t \tEpoch 85:, loss 0.256991, accuracy 0.906494\n",
            "EVAL: After epoch 85: step 340, loss 0.0232141, acc 0.672872, f1 0.658098\n",
            "\n",
            "Training epoch 86\n"
          ]
        },
        {
          "output_type": "stream",
          "name": "stderr",
          "text": [
            "\r0it [00:00, ?it/s]/usr/local/lib/python3.7/dist-packages/ipykernel_launcher.py:5: VisibleDeprecationWarning: Creating an ndarray from ragged nested sequences (which is a list-or-tuple of lists-or-tuples-or ndarrays with different lengths or shapes) is deprecated. If you meant to do this, you must specify 'dtype=object' when creating the ndarray.\n",
            "  \"\"\"\n",
            "4it [00:01,  2.28it/s]\n"
          ]
        },
        {
          "output_type": "stream",
          "name": "stdout",
          "text": [
            "\t \tEpoch 86:, loss 0.252692, accuracy 0.894215\n",
            "EVAL: After epoch 86: step 344, loss 0.0233568, acc 0.667553, f1 0.650465\n",
            "\n",
            "Training epoch 87\n"
          ]
        },
        {
          "output_type": "stream",
          "name": "stderr",
          "text": [
            "\r0it [00:00, ?it/s]/usr/local/lib/python3.7/dist-packages/ipykernel_launcher.py:5: VisibleDeprecationWarning: Creating an ndarray from ragged nested sequences (which is a list-or-tuple of lists-or-tuples-or ndarrays with different lengths or shapes) is deprecated. If you meant to do this, you must specify 'dtype=object' when creating the ndarray.\n",
            "  \"\"\"\n",
            "4it [00:01,  2.26it/s]\n"
          ]
        },
        {
          "output_type": "stream",
          "name": "stdout",
          "text": [
            "\t \tEpoch 87:, loss 0.244767, accuracy 0.916569\n",
            "EVAL: After epoch 87: step 348, loss 0.0236402, acc 0.671543, f1 0.652762\n",
            "\n",
            "Training epoch 88\n"
          ]
        },
        {
          "output_type": "stream",
          "name": "stderr",
          "text": [
            "\r0it [00:00, ?it/s]/usr/local/lib/python3.7/dist-packages/ipykernel_launcher.py:5: VisibleDeprecationWarning: Creating an ndarray from ragged nested sequences (which is a list-or-tuple of lists-or-tuples-or ndarrays with different lengths or shapes) is deprecated. If you meant to do this, you must specify 'dtype=object' when creating the ndarray.\n",
            "  \"\"\"\n",
            "4it [00:02,  1.65it/s]\n"
          ]
        },
        {
          "output_type": "stream",
          "name": "stdout",
          "text": [
            "\t \tEpoch 88:, loss 0.267105, accuracy 0.911851\n",
            "EVAL: After epoch 88: step 352, loss 0.0231577, acc 0.663564, f1 0.65105\n",
            "\n",
            "Training epoch 89\n"
          ]
        },
        {
          "output_type": "stream",
          "name": "stderr",
          "text": [
            "\r0it [00:00, ?it/s]/usr/local/lib/python3.7/dist-packages/ipykernel_launcher.py:5: VisibleDeprecationWarning: Creating an ndarray from ragged nested sequences (which is a list-or-tuple of lists-or-tuples-or ndarrays with different lengths or shapes) is deprecated. If you meant to do this, you must specify 'dtype=object' when creating the ndarray.\n",
            "  \"\"\"\n",
            "4it [00:01,  2.26it/s]\n"
          ]
        },
        {
          "output_type": "stream",
          "name": "stdout",
          "text": [
            "\t \tEpoch 89:, loss 0.280845, accuracy 0.886418\n",
            "EVAL: After epoch 89: step 356, loss 0.0230322, acc 0.663564, f1 0.652857\n",
            "\n",
            "Training epoch 90\n"
          ]
        },
        {
          "output_type": "stream",
          "name": "stderr",
          "text": [
            "\r0it [00:00, ?it/s]/usr/local/lib/python3.7/dist-packages/ipykernel_launcher.py:5: VisibleDeprecationWarning: Creating an ndarray from ragged nested sequences (which is a list-or-tuple of lists-or-tuples-or ndarrays with different lengths or shapes) is deprecated. If you meant to do this, you must specify 'dtype=object' when creating the ndarray.\n",
            "  \"\"\"\n",
            "4it [00:01,  2.27it/s]\n"
          ]
        },
        {
          "output_type": "stream",
          "name": "stdout",
          "text": [
            "\t \tEpoch 90:, loss 0.244879, accuracy 0.913486\n",
            "EVAL: After epoch 90: step 360, loss 0.0228601, acc 0.674202, f1 0.665073\n",
            "\n",
            "Training epoch 91\n"
          ]
        },
        {
          "output_type": "stream",
          "name": "stderr",
          "text": [
            "\r0it [00:00, ?it/s]/usr/local/lib/python3.7/dist-packages/ipykernel_launcher.py:5: VisibleDeprecationWarning: Creating an ndarray from ragged nested sequences (which is a list-or-tuple of lists-or-tuples-or ndarrays with different lengths or shapes) is deprecated. If you meant to do this, you must specify 'dtype=object' when creating the ndarray.\n",
            "  \"\"\"\n",
            "4it [00:01,  2.30it/s]\n"
          ]
        },
        {
          "output_type": "stream",
          "name": "stdout",
          "text": [
            "\t \tEpoch 91:, loss 0.2485, accuracy 0.901102\n",
            "EVAL: After epoch 91: step 364, loss 0.0233004, acc 0.680851, f1 0.665951\n",
            "\n",
            "Training epoch 92\n"
          ]
        },
        {
          "output_type": "stream",
          "name": "stderr",
          "text": [
            "\r0it [00:00, ?it/s]/usr/local/lib/python3.7/dist-packages/ipykernel_launcher.py:5: VisibleDeprecationWarning: Creating an ndarray from ragged nested sequences (which is a list-or-tuple of lists-or-tuples-or ndarrays with different lengths or shapes) is deprecated. If you meant to do this, you must specify 'dtype=object' when creating the ndarray.\n",
            "  \"\"\"\n",
            "4it [00:01,  2.29it/s]\n"
          ]
        },
        {
          "output_type": "stream",
          "name": "stdout",
          "text": [
            "\t \tEpoch 92:, loss 0.218544, accuracy 0.926638\n",
            "EVAL: After epoch 92: step 368, loss 0.0233124, acc 0.682181, f1 0.669006\n",
            "\n",
            "Training epoch 93\n"
          ]
        },
        {
          "output_type": "stream",
          "name": "stderr",
          "text": [
            "\r0it [00:00, ?it/s]/usr/local/lib/python3.7/dist-packages/ipykernel_launcher.py:5: VisibleDeprecationWarning: Creating an ndarray from ragged nested sequences (which is a list-or-tuple of lists-or-tuples-or ndarrays with different lengths or shapes) is deprecated. If you meant to do this, you must specify 'dtype=object' when creating the ndarray.\n",
            "  \"\"\"\n",
            "4it [00:01,  2.13it/s]\n"
          ]
        },
        {
          "output_type": "stream",
          "name": "stdout",
          "text": [
            "\t \tEpoch 93:, loss 0.266405, accuracy 0.910364\n",
            "EVAL: After epoch 93: step 372, loss 0.0234334, acc 0.676862, f1 0.663466\n",
            "\n",
            "Training epoch 94\n"
          ]
        },
        {
          "output_type": "stream",
          "name": "stderr",
          "text": [
            "\r0it [00:00, ?it/s]/usr/local/lib/python3.7/dist-packages/ipykernel_launcher.py:5: VisibleDeprecationWarning: Creating an ndarray from ragged nested sequences (which is a list-or-tuple of lists-or-tuples-or ndarrays with different lengths or shapes) is deprecated. If you meant to do this, you must specify 'dtype=object' when creating the ndarray.\n",
            "  \"\"\"\n",
            "4it [00:01,  2.30it/s]\n"
          ]
        },
        {
          "output_type": "stream",
          "name": "stdout",
          "text": [
            "\t \tEpoch 94:, loss 0.242164, accuracy 0.919051\n",
            "EVAL: After epoch 94: step 376, loss 0.0242868, acc 0.676862, f1 0.655545\n",
            "\n",
            "Training epoch 95\n"
          ]
        },
        {
          "output_type": "stream",
          "name": "stderr",
          "text": [
            "\r0it [00:00, ?it/s]/usr/local/lib/python3.7/dist-packages/ipykernel_launcher.py:5: VisibleDeprecationWarning: Creating an ndarray from ragged nested sequences (which is a list-or-tuple of lists-or-tuples-or ndarrays with different lengths or shapes) is deprecated. If you meant to do this, you must specify 'dtype=object' when creating the ndarray.\n",
            "  \"\"\"\n",
            "4it [00:01,  2.25it/s]\n"
          ]
        },
        {
          "output_type": "stream",
          "name": "stdout",
          "text": [
            "\t \tEpoch 95:, loss 0.232613, accuracy 0.920021\n",
            "EVAL: After epoch 95: step 380, loss 0.0242766, acc 0.670213, f1 0.652185\n",
            "\n",
            "Training epoch 96\n"
          ]
        },
        {
          "output_type": "stream",
          "name": "stderr",
          "text": [
            "\r0it [00:00, ?it/s]/usr/local/lib/python3.7/dist-packages/ipykernel_launcher.py:5: VisibleDeprecationWarning: Creating an ndarray from ragged nested sequences (which is a list-or-tuple of lists-or-tuples-or ndarrays with different lengths or shapes) is deprecated. If you meant to do this, you must specify 'dtype=object' when creating the ndarray.\n",
            "  \"\"\"\n",
            "4it [00:01,  2.23it/s]\n"
          ]
        },
        {
          "output_type": "stream",
          "name": "stdout",
          "text": [
            "\t \tEpoch 96:, loss 0.275717, accuracy 0.885997\n",
            "EVAL: After epoch 96: step 384, loss 0.0239049, acc 0.671543, f1 0.657445\n",
            "\n",
            "Training epoch 97\n"
          ]
        },
        {
          "output_type": "stream",
          "name": "stderr",
          "text": [
            "\r0it [00:00, ?it/s]/usr/local/lib/python3.7/dist-packages/ipykernel_launcher.py:5: VisibleDeprecationWarning: Creating an ndarray from ragged nested sequences (which is a list-or-tuple of lists-or-tuples-or ndarrays with different lengths or shapes) is deprecated. If you meant to do this, you must specify 'dtype=object' when creating the ndarray.\n",
            "  \"\"\"\n",
            "4it [00:01,  2.26it/s]\n"
          ]
        },
        {
          "output_type": "stream",
          "name": "stdout",
          "text": [
            "\t \tEpoch 97:, loss 0.254384, accuracy 0.883748\n",
            "EVAL: After epoch 97: step 388, loss 0.0245601, acc 0.678191, f1 0.656072\n",
            "\n",
            "Training epoch 98\n"
          ]
        },
        {
          "output_type": "stream",
          "name": "stderr",
          "text": [
            "\r0it [00:00, ?it/s]/usr/local/lib/python3.7/dist-packages/ipykernel_launcher.py:5: VisibleDeprecationWarning: Creating an ndarray from ragged nested sequences (which is a list-or-tuple of lists-or-tuples-or ndarrays with different lengths or shapes) is deprecated. If you meant to do this, you must specify 'dtype=object' when creating the ndarray.\n",
            "  \"\"\"\n",
            "4it [00:01,  2.26it/s]\n"
          ]
        },
        {
          "output_type": "stream",
          "name": "stdout",
          "text": [
            "\t \tEpoch 98:, loss 0.213564, accuracy 0.929013\n",
            "EVAL: After epoch 98: step 392, loss 0.0234991, acc 0.68617, f1 0.675142\n",
            "\n",
            "Training epoch 99\n"
          ]
        },
        {
          "output_type": "stream",
          "name": "stderr",
          "text": [
            "\r0it [00:00, ?it/s]/usr/local/lib/python3.7/dist-packages/ipykernel_launcher.py:5: VisibleDeprecationWarning: Creating an ndarray from ragged nested sequences (which is a list-or-tuple of lists-or-tuples-or ndarrays with different lengths or shapes) is deprecated. If you meant to do this, you must specify 'dtype=object' when creating the ndarray.\n",
            "  \"\"\"\n",
            "4it [00:01,  2.26it/s]\n"
          ]
        },
        {
          "output_type": "stream",
          "name": "stdout",
          "text": [
            "\t \tEpoch 99:, loss 0.195871, accuracy 0.942268\n",
            "EVAL: After epoch 99: step 396, loss 0.0235265, acc 0.698138, f1 0.686911\n",
            "\n",
            "Training epoch 100\n"
          ]
        },
        {
          "output_type": "stream",
          "name": "stderr",
          "text": [
            "\r0it [00:00, ?it/s]/usr/local/lib/python3.7/dist-packages/ipykernel_launcher.py:5: VisibleDeprecationWarning: Creating an ndarray from ragged nested sequences (which is a list-or-tuple of lists-or-tuples-or ndarrays with different lengths or shapes) is deprecated. If you meant to do this, you must specify 'dtype=object' when creating the ndarray.\n",
            "  \"\"\"\n",
            "4it [00:01,  2.30it/s]\n"
          ]
        },
        {
          "output_type": "stream",
          "name": "stdout",
          "text": [
            "\t \tEpoch 100:, loss 0.210192, accuracy 0.925547\n",
            "EVAL: After epoch 100: step 400, loss 0.0242972, acc 0.6875, f1 0.668008\n",
            "\n",
            "\n",
            "Best epoch: 99\n",
            "Best test accuracy: 0.6981382966041565\n",
            "Best epoch loss: 37\n",
            "Best test accuracy when loss is least: 0.6622340679168701\n"
          ]
        }
      ]
    }
  ]
}